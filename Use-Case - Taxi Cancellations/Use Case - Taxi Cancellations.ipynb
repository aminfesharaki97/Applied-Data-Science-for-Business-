{
 "cells": [
  {
   "cell_type": "markdown",
   "metadata": {},
   "source": [
    "# Use Case - Taxi Cancellations"
   ]
  },
  {
   "cell_type": "markdown",
   "metadata": {},
   "source": [
    "#### Amin Fesharaki"
   ]
  },
  {
   "cell_type": "markdown",
   "metadata": {},
   "source": [
    "<div class=\"alert alert-block alert-info\">\n",
    "<strong> 1. </strong> How can a predictive model based on these data be used by Yourcabs.com?. \n",
    "</div>"
   ]
  },
  {
   "cell_type": "markdown",
   "metadata": {},
   "source": [
    "<div class=\"alert alert-success\">\n",
    "  <b>A.1:</b> Yourcabs.com can use the data to predict whether or not a customer's ride would be canceled which will lead to a reduction in company costs and an increase in revenue. By predicting possible cancellations, Yourcabs.com can implement procedures to reduce or avoid cancellations. In other words, the company could better manage its drivers and reduce costs from sending a taxi to a location that has been canceled by the customer.  In addition, predictive models can help the company not only retain but grow their customer base by providing a higher customer satisfaction (i.e. users will be dissatisfied if there is nothing done about the car cancellation) by improving company operations. Furthermore, there are different ways Yourcabs.com can potentially use predictive modeling. For example, given a pickup location, drop off location, and time of the day, a model can predict how long it will take the driver to travel the distance to the customer or to the destination. Additionally, routing and matching algorithms can also be implemented to direct cars to people in the most efficient way. Overall, there are many uses and benefits that come with predictive modeling, especially for a taxi company like Yourcabs.com. \n",
    "</div>"
   ]
  },
  {
   "cell_type": "markdown",
   "metadata": {},
   "source": [
    "<div class=\"alert alert-block alert-info\">\n",
    "<strong>2:</strong> How can a profiling model (identifying predictors that distinguish canceled/uncanceled trips) be used by Yourcabs.com?\n",
    "</div>"
   ]
  },
  {
   "cell_type": "markdown",
   "metadata": {},
   "source": [
    "<div class=\"alert alert-success\">\n",
    "  <b>A.2:</b> By generating a good profiling model, Yourcabs.com can gain insight behind ride cancellations. Based on the customer profile, the company can determine whether a ride would be canceled and then establish an appropriate course of action. The company can focus on certain characteristics (and possibly manipulate them through some action (i.e incentive or disincentive) by identifying which predictors contribute to ride cancellations the most (or vice versa). For example, based on key variables in booking data, the company can potentially redirect the customer to an available driver, offer incentives to drivers to not cancel based on customer criteria, and add a confirmation message to both customer and driver. By developing a good profiling model, the company can gain further insight on how to solve the ride cancellation problem.  \n",
    "</div>"
   ]
  },
  {
   "cell_type": "markdown",
   "metadata": {},
   "source": [
    "<div class=\"alert alert-block alert-info\">\n",
    "<strong>3:</strong> Explore, prepare, and transform the data to facilitate predictive modeling.\n",
    "</div>"
   ]
  },
  {
   "cell_type": "markdown",
   "metadata": {},
   "source": [
    "_Import Packages_"
   ]
  },
  {
   "cell_type": "code",
   "execution_count": 1,
   "metadata": {},
   "outputs": [
    {
     "name": "stdout",
     "output_type": "stream",
     "text": [
      "no display found. Using non-interactive Agg backend\n"
     ]
    },
    {
     "data": {
      "application/javascript": [
       "\n",
       "            setTimeout(function() {\n",
       "                var nbb_cell_id = 1;\n",
       "                var nbb_unformatted_code = \"import pandas as pd\\nimport numpy as np\\nimport datetime\\n\\nfrom matplotlib import pyplot as plt\\n\\nfrom sklearn.model_selection import train_test_split, GridSearchCV\\nfrom sklearn.tree import DecisionTreeClassifier, DecisionTreeRegressor\\nfrom sklearn.ensemble import RandomForestClassifier, GradientBoostingClassifier\\nfrom sklearn.linear_model import LogisticRegression, LogisticRegressionCV\\nfrom sklearn.impute import KNNImputer\\nfrom sklearn import tree\\nfrom sklearn.neighbors import KNeighborsClassifier\\nfrom sklearn.naive_bayes import GaussianNB\\nfrom sklearn.inspection import permutation_importance\\nfrom sklearn import preprocessing\\nfrom sklearn.preprocessing import StandardScaler\\n\\nfrom dmba import plotDecisionTree, gainsChart, liftChart\\nfrom dmba import classificationSummary, regressionSummary\\nfrom dmba import (\\n    regressionSummary,\\n    adjusted_r2_score,\\n    AIC_score,\\n    BIC_score,\\n    classificationSummary,\\n    gainsChart,\\n    liftChart,\\n    stepwise_selection,\\n)\\nfrom fast_ml import eda\\nfrom math import sin, cos, sqrt, atan2, radians\\n\\n\\n%load_ext nb_black\\n%matplotlib inline\";\n",
       "                var nbb_formatted_code = \"import pandas as pd\\nimport numpy as np\\nimport datetime\\n\\nfrom matplotlib import pyplot as plt\\n\\nfrom sklearn.model_selection import train_test_split, GridSearchCV\\nfrom sklearn.tree import DecisionTreeClassifier, DecisionTreeRegressor\\nfrom sklearn.ensemble import RandomForestClassifier, GradientBoostingClassifier\\nfrom sklearn.linear_model import LogisticRegression, LogisticRegressionCV\\nfrom sklearn.impute import KNNImputer\\nfrom sklearn import tree\\nfrom sklearn.neighbors import KNeighborsClassifier\\nfrom sklearn.naive_bayes import GaussianNB\\nfrom sklearn.inspection import permutation_importance\\nfrom sklearn import preprocessing\\nfrom sklearn.preprocessing import StandardScaler\\n\\nfrom dmba import plotDecisionTree, gainsChart, liftChart\\nfrom dmba import classificationSummary, regressionSummary\\nfrom dmba import (\\n    regressionSummary,\\n    adjusted_r2_score,\\n    AIC_score,\\n    BIC_score,\\n    classificationSummary,\\n    gainsChart,\\n    liftChart,\\n    stepwise_selection,\\n)\\nfrom fast_ml import eda\\nfrom math import sin, cos, sqrt, atan2, radians\\n\\n\\n%load_ext nb_black\\n%matplotlib inline\";\n",
       "                var nbb_cells = Jupyter.notebook.get_cells();\n",
       "                for (var i = 0; i < nbb_cells.length; ++i) {\n",
       "                    if (nbb_cells[i].input_prompt_number == nbb_cell_id) {\n",
       "                        if (nbb_cells[i].get_text() == nbb_unformatted_code) {\n",
       "                             nbb_cells[i].set_text(nbb_formatted_code);\n",
       "                        }\n",
       "                        break;\n",
       "                    }\n",
       "                }\n",
       "            }, 500);\n",
       "            "
      ],
      "text/plain": [
       "<IPython.core.display.Javascript object>"
      ]
     },
     "metadata": {},
     "output_type": "display_data"
    }
   ],
   "source": [
    "import pandas as pd\n",
    "import numpy as np\n",
    "import datetime\n",
    "\n",
    "from matplotlib import pyplot as plt\n",
    "\n",
    "from sklearn.model_selection import train_test_split, GridSearchCV\n",
    "from sklearn.tree import DecisionTreeClassifier, DecisionTreeRegressor\n",
    "from sklearn.ensemble import RandomForestClassifier, GradientBoostingClassifier\n",
    "from sklearn.linear_model import LogisticRegression, LogisticRegressionCV\n",
    "from sklearn.impute import KNNImputer\n",
    "from sklearn import tree\n",
    "from sklearn.neighbors import KNeighborsClassifier\n",
    "from sklearn.naive_bayes import GaussianNB\n",
    "from sklearn.inspection import permutation_importance\n",
    "from sklearn import preprocessing\n",
    "from sklearn.preprocessing import StandardScaler\n",
    "\n",
    "from dmba import plotDecisionTree, gainsChart, liftChart\n",
    "from dmba import classificationSummary, regressionSummary\n",
    "from dmba import (\n",
    "    regressionSummary,\n",
    "    adjusted_r2_score,\n",
    "    AIC_score,\n",
    "    BIC_score,\n",
    "    classificationSummary,\n",
    "    gainsChart,\n",
    "    liftChart,\n",
    "    stepwise_selection,\n",
    ")\n",
    "from fast_ml import eda\n",
    "from math import sin, cos, sqrt, atan2, radians\n",
    "\n",
    "\n",
    "%load_ext nb_black\n",
    "%matplotlib inline"
   ]
  },
  {
   "cell_type": "code",
   "execution_count": 2,
   "metadata": {},
   "outputs": [
    {
     "data": {
      "application/javascript": [
       "\n",
       "            setTimeout(function() {\n",
       "                var nbb_cell_id = 2;\n",
       "                var nbb_unformatted_code = \"# Load Data\\ntaxi_df = pd.read_csv(\\n    \\\"/Users/datascience/Desktop/Applied Data Science for Buisiness/Datasets/Taxi-cancellation-case.csv\\\"\\n)\";\n",
       "                var nbb_formatted_code = \"# Load Data\\ntaxi_df = pd.read_csv(\\n    \\\"/Users/datascience/Desktop/Applied Data Science for Buisiness/Datasets/Taxi-cancellation-case.csv\\\"\\n)\";\n",
       "                var nbb_cells = Jupyter.notebook.get_cells();\n",
       "                for (var i = 0; i < nbb_cells.length; ++i) {\n",
       "                    if (nbb_cells[i].input_prompt_number == nbb_cell_id) {\n",
       "                        if (nbb_cells[i].get_text() == nbb_unformatted_code) {\n",
       "                             nbb_cells[i].set_text(nbb_formatted_code);\n",
       "                        }\n",
       "                        break;\n",
       "                    }\n",
       "                }\n",
       "            }, 500);\n",
       "            "
      ],
      "text/plain": [
       "<IPython.core.display.Javascript object>"
      ]
     },
     "metadata": {},
     "output_type": "display_data"
    }
   ],
   "source": [
    "# Load Data\n",
    "taxi_df = pd.read_csv(\n",
    "    \"/Users/datascience/Desktop/Applied Data Science for Buisiness/Datasets/Taxi-cancellation-case.csv\"\n",
    ")"
   ]
  },
  {
   "cell_type": "markdown",
   "metadata": {},
   "source": [
    "**Explore**"
   ]
  },
  {
   "cell_type": "code",
   "execution_count": 3,
   "metadata": {
    "scrolled": false
   },
   "outputs": [
    {
     "data": {
      "text/html": [
       "<div>\n",
       "<style scoped>\n",
       "    .dataframe tbody tr th:only-of-type {\n",
       "        vertical-align: middle;\n",
       "    }\n",
       "\n",
       "    .dataframe tbody tr th {\n",
       "        vertical-align: top;\n",
       "    }\n",
       "\n",
       "    .dataframe thead th {\n",
       "        text-align: right;\n",
       "    }\n",
       "</style>\n",
       "<table border=\"1\" class=\"dataframe\">\n",
       "  <thead>\n",
       "    <tr style=\"text-align: right;\">\n",
       "      <th></th>\n",
       "      <th>data_type</th>\n",
       "      <th>data_type_grp</th>\n",
       "      <th>num_unique_values</th>\n",
       "      <th>sample_unique_values</th>\n",
       "      <th>num_missing</th>\n",
       "      <th>perc_missing</th>\n",
       "    </tr>\n",
       "  </thead>\n",
       "  <tbody>\n",
       "    <tr>\n",
       "      <th>row#</th>\n",
       "      <td>int64</td>\n",
       "      <td>Numerical</td>\n",
       "      <td>10000</td>\n",
       "      <td>[1, 2, 3, 4, 5, 6, 7, 8, 9, 10]</td>\n",
       "      <td>0</td>\n",
       "      <td>0</td>\n",
       "    </tr>\n",
       "    <tr>\n",
       "      <th>user_id</th>\n",
       "      <td>int64</td>\n",
       "      <td>Numerical</td>\n",
       "      <td>7044</td>\n",
       "      <td>[17712, 17037, 761, 868, 21716, 38966, 22196, ...</td>\n",
       "      <td>0</td>\n",
       "      <td>0</td>\n",
       "    </tr>\n",
       "    <tr>\n",
       "      <th>vehicle_model_id</th>\n",
       "      <td>int64</td>\n",
       "      <td>Numerical</td>\n",
       "      <td>20</td>\n",
       "      <td>[12, 28, 24, 85, 65, 23, 54, 87, 86, 30]</td>\n",
       "      <td>0</td>\n",
       "      <td>0</td>\n",
       "    </tr>\n",
       "    <tr>\n",
       "      <th>package_id</th>\n",
       "      <td>float64</td>\n",
       "      <td>Numerical</td>\n",
       "      <td>7</td>\n",
       "      <td>[nan, 1.0, 2.0, 3.0, 4.0, 6.0, 7.0, 5.0]</td>\n",
       "      <td>8248</td>\n",
       "      <td>82.48</td>\n",
       "    </tr>\n",
       "    <tr>\n",
       "      <th>travel_type_id</th>\n",
       "      <td>int64</td>\n",
       "      <td>Numerical</td>\n",
       "      <td>3</td>\n",
       "      <td>[2, 3, 1]</td>\n",
       "      <td>0</td>\n",
       "      <td>0</td>\n",
       "    </tr>\n",
       "    <tr>\n",
       "      <th>from_area_id</th>\n",
       "      <td>float64</td>\n",
       "      <td>Numerical</td>\n",
       "      <td>522</td>\n",
       "      <td>[1021.0, 455.0, 814.0, 297.0, 1237.0, 61.0, 40...</td>\n",
       "      <td>15</td>\n",
       "      <td>0.15</td>\n",
       "    </tr>\n",
       "    <tr>\n",
       "      <th>to_area_id</th>\n",
       "      <td>float64</td>\n",
       "      <td>Numerical</td>\n",
       "      <td>479</td>\n",
       "      <td>[1323.0, 1330.0, 393.0, 212.0, 330.0, 1194.0, ...</td>\n",
       "      <td>2091</td>\n",
       "      <td>20.91</td>\n",
       "    </tr>\n",
       "    <tr>\n",
       "      <th>from_city_id</th>\n",
       "      <td>float64</td>\n",
       "      <td>Numerical</td>\n",
       "      <td>2</td>\n",
       "      <td>[nan, 15.0, 1.0]</td>\n",
       "      <td>6294</td>\n",
       "      <td>62.94</td>\n",
       "    </tr>\n",
       "    <tr>\n",
       "      <th>to_city_id</th>\n",
       "      <td>float64</td>\n",
       "      <td>Numerical</td>\n",
       "      <td>67</td>\n",
       "      <td>[nan, 32.0, 160.0, 131.0, 146.0, 29.0, 108.0, ...</td>\n",
       "      <td>9661</td>\n",
       "      <td>96.61</td>\n",
       "    </tr>\n",
       "    <tr>\n",
       "      <th>from_date</th>\n",
       "      <td>object</td>\n",
       "      <td>Categorical</td>\n",
       "      <td>7976</td>\n",
       "      <td>[1/1/13 22:33, 1/1/13 12:43, 1/2/13 0:28, 1/1/...</td>\n",
       "      <td>0</td>\n",
       "      <td>0</td>\n",
       "    </tr>\n",
       "    <tr>\n",
       "      <th>to_date</th>\n",
       "      <td>object</td>\n",
       "      <td>Categorical</td>\n",
       "      <td>5332</td>\n",
       "      <td>[nan, 1/3/13 0:00, 1/1/13 0:00, 1/2/13 0:00, 1...</td>\n",
       "      <td>4178</td>\n",
       "      <td>41.78</td>\n",
       "    </tr>\n",
       "    <tr>\n",
       "      <th>online_booking</th>\n",
       "      <td>int64</td>\n",
       "      <td>Numerical</td>\n",
       "      <td>2</td>\n",
       "      <td>[0, 1]</td>\n",
       "      <td>0</td>\n",
       "      <td>0</td>\n",
       "    </tr>\n",
       "    <tr>\n",
       "      <th>mobile_site_booking</th>\n",
       "      <td>int64</td>\n",
       "      <td>Numerical</td>\n",
       "      <td>2</td>\n",
       "      <td>[0, 1]</td>\n",
       "      <td>0</td>\n",
       "      <td>0</td>\n",
       "    </tr>\n",
       "    <tr>\n",
       "      <th>booking_created</th>\n",
       "      <td>object</td>\n",
       "      <td>Categorical</td>\n",
       "      <td>9611</td>\n",
       "      <td>[1/1/13 8:01, 1/1/13 9:59, 1/1/13 12:14, 1/1/1...</td>\n",
       "      <td>0</td>\n",
       "      <td>0</td>\n",
       "    </tr>\n",
       "    <tr>\n",
       "      <th>from_lat</th>\n",
       "      <td>float64</td>\n",
       "      <td>Numerical</td>\n",
       "      <td>422</td>\n",
       "      <td>[13.02853, 12.999874, 12.908992999999999, 12.9...</td>\n",
       "      <td>15</td>\n",
       "      <td>0.15</td>\n",
       "    </tr>\n",
       "    <tr>\n",
       "      <th>from_long</th>\n",
       "      <td>float64</td>\n",
       "      <td>Numerical</td>\n",
       "      <td>419</td>\n",
       "      <td>[77.54625, 77.67811999999999, 77.6889, 77.6148...</td>\n",
       "      <td>15</td>\n",
       "      <td>0.15</td>\n",
       "    </tr>\n",
       "    <tr>\n",
       "      <th>to_lat</th>\n",
       "      <td>float64</td>\n",
       "      <td>Numerical</td>\n",
       "      <td>390</td>\n",
       "      <td>[12.869805, 12.953434, 13.19956, 12.99474, 12....</td>\n",
       "      <td>2091</td>\n",
       "      <td>20.91</td>\n",
       "    </tr>\n",
       "    <tr>\n",
       "      <th>to_long</th>\n",
       "      <td>float64</td>\n",
       "      <td>Numerical</td>\n",
       "      <td>387</td>\n",
       "      <td>[77.653211, 77.70651, 77.70688, 77.60797, 77.5...</td>\n",
       "      <td>2091</td>\n",
       "      <td>20.91</td>\n",
       "    </tr>\n",
       "    <tr>\n",
       "      <th>Car_Cancellation</th>\n",
       "      <td>int64</td>\n",
       "      <td>Numerical</td>\n",
       "      <td>2</td>\n",
       "      <td>[0, 1]</td>\n",
       "      <td>0</td>\n",
       "      <td>0</td>\n",
       "    </tr>\n",
       "  </tbody>\n",
       "</table>\n",
       "</div>"
      ],
      "text/plain": [
       "                    data_type data_type_grp num_unique_values  \\\n",
       "row#                    int64     Numerical             10000   \n",
       "user_id                 int64     Numerical              7044   \n",
       "vehicle_model_id        int64     Numerical                20   \n",
       "package_id            float64     Numerical                 7   \n",
       "travel_type_id          int64     Numerical                 3   \n",
       "from_area_id          float64     Numerical               522   \n",
       "to_area_id            float64     Numerical               479   \n",
       "from_city_id          float64     Numerical                 2   \n",
       "to_city_id            float64     Numerical                67   \n",
       "from_date              object   Categorical              7976   \n",
       "to_date                object   Categorical              5332   \n",
       "online_booking          int64     Numerical                 2   \n",
       "mobile_site_booking     int64     Numerical                 2   \n",
       "booking_created        object   Categorical              9611   \n",
       "from_lat              float64     Numerical               422   \n",
       "from_long             float64     Numerical               419   \n",
       "to_lat                float64     Numerical               390   \n",
       "to_long               float64     Numerical               387   \n",
       "Car_Cancellation        int64     Numerical                 2   \n",
       "\n",
       "                                                  sample_unique_values  \\\n",
       "row#                                   [1, 2, 3, 4, 5, 6, 7, 8, 9, 10]   \n",
       "user_id              [17712, 17037, 761, 868, 21716, 38966, 22196, ...   \n",
       "vehicle_model_id              [12, 28, 24, 85, 65, 23, 54, 87, 86, 30]   \n",
       "package_id                    [nan, 1.0, 2.0, 3.0, 4.0, 6.0, 7.0, 5.0]   \n",
       "travel_type_id                                               [2, 3, 1]   \n",
       "from_area_id         [1021.0, 455.0, 814.0, 297.0, 1237.0, 61.0, 40...   \n",
       "to_area_id           [1323.0, 1330.0, 393.0, 212.0, 330.0, 1194.0, ...   \n",
       "from_city_id                                          [nan, 15.0, 1.0]   \n",
       "to_city_id           [nan, 32.0, 160.0, 131.0, 146.0, 29.0, 108.0, ...   \n",
       "from_date            [1/1/13 22:33, 1/1/13 12:43, 1/2/13 0:28, 1/1/...   \n",
       "to_date              [nan, 1/3/13 0:00, 1/1/13 0:00, 1/2/13 0:00, 1...   \n",
       "online_booking                                                  [0, 1]   \n",
       "mobile_site_booking                                             [0, 1]   \n",
       "booking_created      [1/1/13 8:01, 1/1/13 9:59, 1/1/13 12:14, 1/1/1...   \n",
       "from_lat             [13.02853, 12.999874, 12.908992999999999, 12.9...   \n",
       "from_long            [77.54625, 77.67811999999999, 77.6889, 77.6148...   \n",
       "to_lat               [12.869805, 12.953434, 13.19956, 12.99474, 12....   \n",
       "to_long              [77.653211, 77.70651, 77.70688, 77.60797, 77.5...   \n",
       "Car_Cancellation                                                [0, 1]   \n",
       "\n",
       "                    num_missing perc_missing  \n",
       "row#                          0            0  \n",
       "user_id                       0            0  \n",
       "vehicle_model_id              0            0  \n",
       "package_id                 8248        82.48  \n",
       "travel_type_id                0            0  \n",
       "from_area_id                 15         0.15  \n",
       "to_area_id                 2091        20.91  \n",
       "from_city_id               6294        62.94  \n",
       "to_city_id                 9661        96.61  \n",
       "from_date                     0            0  \n",
       "to_date                    4178        41.78  \n",
       "online_booking                0            0  \n",
       "mobile_site_booking           0            0  \n",
       "booking_created               0            0  \n",
       "from_lat                     15         0.15  \n",
       "from_long                    15         0.15  \n",
       "to_lat                     2091        20.91  \n",
       "to_long                    2091        20.91  \n",
       "Car_Cancellation              0            0  "
      ]
     },
     "execution_count": 3,
     "metadata": {},
     "output_type": "execute_result"
    },
    {
     "data": {
      "application/javascript": [
       "\n",
       "            setTimeout(function() {\n",
       "                var nbb_cell_id = 3;\n",
       "                var nbb_unformatted_code = \"# EDA using Fast_ML package\\neda.df_info(taxi_df)\";\n",
       "                var nbb_formatted_code = \"# EDA using Fast_ML package\\neda.df_info(taxi_df)\";\n",
       "                var nbb_cells = Jupyter.notebook.get_cells();\n",
       "                for (var i = 0; i < nbb_cells.length; ++i) {\n",
       "                    if (nbb_cells[i].input_prompt_number == nbb_cell_id) {\n",
       "                        if (nbb_cells[i].get_text() == nbb_unformatted_code) {\n",
       "                             nbb_cells[i].set_text(nbb_formatted_code);\n",
       "                        }\n",
       "                        break;\n",
       "                    }\n",
       "                }\n",
       "            }, 500);\n",
       "            "
      ],
      "text/plain": [
       "<IPython.core.display.Javascript object>"
      ]
     },
     "metadata": {},
     "output_type": "display_data"
    }
   ],
   "source": [
    "# EDA using Fast_ML package\n",
    "eda.df_info(taxi_df)"
   ]
  },
  {
   "cell_type": "markdown",
   "metadata": {},
   "source": [
    "The eda above provides detailed information about the dataset. Key information include data type/group, number of unique values, and the percent missing for each variable. "
   ]
  },
  {
   "cell_type": "markdown",
   "metadata": {},
   "source": [
    "**Prepare**"
   ]
  },
  {
   "cell_type": "markdown",
   "metadata": {},
   "source": [
    "* Row# and user ID is useless for the model and will be removed"
   ]
  },
  {
   "cell_type": "code",
   "execution_count": 4,
   "metadata": {},
   "outputs": [
    {
     "data": {
      "application/javascript": [
       "\n",
       "            setTimeout(function() {\n",
       "                var nbb_cell_id = 4;\n",
       "                var nbb_unformatted_code = \"# Drop variable\\ntaxi_df.drop([\\\"row#\\\", \\\"user_id\\\"], inplace=True, axis=1)\";\n",
       "                var nbb_formatted_code = \"# Drop variable\\ntaxi_df.drop([\\\"row#\\\", \\\"user_id\\\"], inplace=True, axis=1)\";\n",
       "                var nbb_cells = Jupyter.notebook.get_cells();\n",
       "                for (var i = 0; i < nbb_cells.length; ++i) {\n",
       "                    if (nbb_cells[i].input_prompt_number == nbb_cell_id) {\n",
       "                        if (nbb_cells[i].get_text() == nbb_unformatted_code) {\n",
       "                             nbb_cells[i].set_text(nbb_formatted_code);\n",
       "                        }\n",
       "                        break;\n",
       "                    }\n",
       "                }\n",
       "            }, 500);\n",
       "            "
      ],
      "text/plain": [
       "<IPython.core.display.Javascript object>"
      ]
     },
     "metadata": {},
     "output_type": "display_data"
    }
   ],
   "source": [
    "# Drop variable\n",
    "taxi_df.drop([\"row#\", \"user_id\"], inplace=True, axis=1)"
   ]
  },
  {
   "cell_type": "markdown",
   "metadata": {},
   "source": [
    "* The percent of missing values in the 'from_area_id', 'from_lat', 'from_long' is insignifcant (0.15 percent) and will be removed. \n",
    "* Variable 'to_lat' and 'to_long' will be imputed by KNN imputation. \n",
    "* Variable 'from_city_id' and 'to_city_id' will be removed since they have 60% and 96% of their values missing. In addition, the area id columns will provide sufficient information to replace those columns.\n",
    "* Variable 'package_id' will be removed since 82% of the dataset contains missing values and imputing an ID would not make sense. Same goes with 'to_area_id'.\n",
    "* Variable 'to_date' will be removed since there is a more than likely chance the date is the same as 'from_date'. \n",
    "Missing values will be imputed after test/train split to avoid data leakage."
   ]
  },
  {
   "cell_type": "code",
   "execution_count": 5,
   "metadata": {},
   "outputs": [
    {
     "data": {
      "application/javascript": [
       "\n",
       "            setTimeout(function() {\n",
       "                var nbb_cell_id = 5;\n",
       "                var nbb_unformatted_code = \"# Drop Variable\\ntaxi_df.drop(\\n    [\\\"from_city_id\\\", \\\"to_city_id\\\", \\\"package_id\\\", \\\"to_area_id\\\", \\\"to_date\\\"],\\n    inplace=True,\\n    axis=1,\\n)\";\n",
       "                var nbb_formatted_code = \"# Drop Variable\\ntaxi_df.drop(\\n    [\\\"from_city_id\\\", \\\"to_city_id\\\", \\\"package_id\\\", \\\"to_area_id\\\", \\\"to_date\\\"],\\n    inplace=True,\\n    axis=1,\\n)\";\n",
       "                var nbb_cells = Jupyter.notebook.get_cells();\n",
       "                for (var i = 0; i < nbb_cells.length; ++i) {\n",
       "                    if (nbb_cells[i].input_prompt_number == nbb_cell_id) {\n",
       "                        if (nbb_cells[i].get_text() == nbb_unformatted_code) {\n",
       "                             nbb_cells[i].set_text(nbb_formatted_code);\n",
       "                        }\n",
       "                        break;\n",
       "                    }\n",
       "                }\n",
       "            }, 500);\n",
       "            "
      ],
      "text/plain": [
       "<IPython.core.display.Javascript object>"
      ]
     },
     "metadata": {},
     "output_type": "display_data"
    }
   ],
   "source": [
    "# Drop Variable\n",
    "taxi_df.drop(\n",
    "    [\"from_city_id\", \"to_city_id\", \"package_id\", \"to_area_id\", \"to_date\"],\n",
    "    inplace=True,\n",
    "    axis=1,\n",
    ")"
   ]
  },
  {
   "cell_type": "markdown",
   "metadata": {},
   "source": [
    "* **Regarding the GPS information, the assumption was made that Yourcabs.com shared a similar feature as apps like Uber and Lyft where the destination is known beforehand.** For example, users can set both their pickup and drop off location before ordering a 'taxi'. Therefore, latitude and longitude were used to calculate the distance (in km).\n",
    "* In addition, a variable \"Available_Destination\" will also be added for samples where the user did not enter a destination.\n",
    "* Area Id will also be removed due to the 522 unique Area ID values. Without more information, clustering Area ID's to certain cities or counties (reducing the unique value) is improbable. \n",
    "* Package ID is deemed not important to the model and will also be removed\n",
    "    \n"
   ]
  },
  {
   "cell_type": "code",
   "execution_count": 6,
   "metadata": {},
   "outputs": [
    {
     "data": {
      "application/javascript": [
       "\n",
       "            setTimeout(function() {\n",
       "                var nbb_cell_id = 6;\n",
       "                var nbb_unformatted_code = \"# Find approximate distance (in KM) to and from scheduled\\n\\n\\nR = 6373.0  # approximate radius of earth in km\\n\\nlat1 = taxi_df[\\\"from_lat\\\"].map(radians)\\nlon1 = taxi_df[\\\"from_long\\\"].map(radians)\\nlat2 = taxi_df[\\\"to_lat\\\"].map(radians)\\nlon2 = taxi_df[\\\"to_long\\\"].map(radians)\\n\\ndist_lon = lon2 - lon1\\ndist_lat = lat2 - lat1\\n\\n# Formula to find distance between 2 lat/long points\\na = np.sin(dist_lat / 2) ** 2 + np.cos(lat1) * np.cos(lat2) * np.sin(dist_lon / 2) ** 2\\nc = 2 * np.arctan2(np.sqrt(a), np.sqrt(1 - a))\\n\\ndistance = pd.DataFrame((R * c), columns=[\\\"Distance_km\\\"])  # in KM\\n\\n## Is Location Available? Another assumption was made that some users did not provide a destination.\\n## However further investigations showed that this was ineffective for our model.\\ndistance.loc[((distance[\\\"Distance_km\\\"] >= 0)), \\\"Available_Destination\\\"] = 0\\ndistance[\\\"Available_Destination\\\"] = distance[\\\"Available_Destination\\\"].fillna(1)\";\n",
       "                var nbb_formatted_code = \"# Find approximate distance (in KM) to and from scheduled\\n\\n\\nR = 6373.0  # approximate radius of earth in km\\n\\nlat1 = taxi_df[\\\"from_lat\\\"].map(radians)\\nlon1 = taxi_df[\\\"from_long\\\"].map(radians)\\nlat2 = taxi_df[\\\"to_lat\\\"].map(radians)\\nlon2 = taxi_df[\\\"to_long\\\"].map(radians)\\n\\ndist_lon = lon2 - lon1\\ndist_lat = lat2 - lat1\\n\\n# Formula to find distance between 2 lat/long points\\na = np.sin(dist_lat / 2) ** 2 + np.cos(lat1) * np.cos(lat2) * np.sin(dist_lon / 2) ** 2\\nc = 2 * np.arctan2(np.sqrt(a), np.sqrt(1 - a))\\n\\ndistance = pd.DataFrame((R * c), columns=[\\\"Distance_km\\\"])  # in KM\\n\\n## Is Location Available? Another assumption was made that some users did not provide a destination.\\n## However further investigations showed that this was ineffective for our model.\\ndistance.loc[((distance[\\\"Distance_km\\\"] >= 0)), \\\"Available_Destination\\\"] = 0\\ndistance[\\\"Available_Destination\\\"] = distance[\\\"Available_Destination\\\"].fillna(1)\";\n",
       "                var nbb_cells = Jupyter.notebook.get_cells();\n",
       "                for (var i = 0; i < nbb_cells.length; ++i) {\n",
       "                    if (nbb_cells[i].input_prompt_number == nbb_cell_id) {\n",
       "                        if (nbb_cells[i].get_text() == nbb_unformatted_code) {\n",
       "                             nbb_cells[i].set_text(nbb_formatted_code);\n",
       "                        }\n",
       "                        break;\n",
       "                    }\n",
       "                }\n",
       "            }, 500);\n",
       "            "
      ],
      "text/plain": [
       "<IPython.core.display.Javascript object>"
      ]
     },
     "metadata": {},
     "output_type": "display_data"
    }
   ],
   "source": [
    "# Find approximate distance (in KM) to and from scheduled\n",
    "\n",
    "\n",
    "R = 6373.0  # approximate radius of earth in km\n",
    "\n",
    "lat1 = taxi_df[\"from_lat\"].map(radians)\n",
    "lon1 = taxi_df[\"from_long\"].map(radians)\n",
    "lat2 = taxi_df[\"to_lat\"].map(radians)\n",
    "lon2 = taxi_df[\"to_long\"].map(radians)\n",
    "\n",
    "dist_lon = lon2 - lon1\n",
    "dist_lat = lat2 - lat1\n",
    "\n",
    "# Formula to find distance between 2 lat/long points\n",
    "a = np.sin(dist_lat / 2) ** 2 + np.cos(lat1) * np.cos(lat2) * np.sin(dist_lon / 2) ** 2\n",
    "c = 2 * np.arctan2(np.sqrt(a), np.sqrt(1 - a))\n",
    "\n",
    "distance = pd.DataFrame((R * c), columns=[\"Distance_km\"])  # in KM\n",
    "\n",
    "## Is Location Available? Another assumption was made that some users did not provide a destination.\n",
    "## However further investigations showed that this was ineffective for our model.\n",
    "distance.loc[((distance[\"Distance_km\"] >= 0)), \"Available_Destination\"] = 0\n",
    "distance[\"Available_Destination\"] = distance[\"Available_Destination\"].fillna(1)"
   ]
  },
  {
   "cell_type": "code",
   "execution_count": 7,
   "metadata": {},
   "outputs": [
    {
     "data": {
      "application/javascript": [
       "\n",
       "            setTimeout(function() {\n",
       "                var nbb_cell_id = 7;\n",
       "                var nbb_unformatted_code = \"taxi_df.drop(\\n    [\\n        \\\"from_area_id\\\",\\n        \\\"from_lat\\\",\\n        \\\"from_long\\\",\\n        \\\"to_lat\\\",\\n        \\\"to_long\\\",\\n    ],\\n    inplace=True,\\n    axis=1,\\n)\";\n",
       "                var nbb_formatted_code = \"taxi_df.drop(\\n    [\\n        \\\"from_area_id\\\",\\n        \\\"from_lat\\\",\\n        \\\"from_long\\\",\\n        \\\"to_lat\\\",\\n        \\\"to_long\\\",\\n    ],\\n    inplace=True,\\n    axis=1,\\n)\";\n",
       "                var nbb_cells = Jupyter.notebook.get_cells();\n",
       "                for (var i = 0; i < nbb_cells.length; ++i) {\n",
       "                    if (nbb_cells[i].input_prompt_number == nbb_cell_id) {\n",
       "                        if (nbb_cells[i].get_text() == nbb_unformatted_code) {\n",
       "                             nbb_cells[i].set_text(nbb_formatted_code);\n",
       "                        }\n",
       "                        break;\n",
       "                    }\n",
       "                }\n",
       "            }, 500);\n",
       "            "
      ],
      "text/plain": [
       "<IPython.core.display.Javascript object>"
      ]
     },
     "metadata": {},
     "output_type": "display_data"
    }
   ],
   "source": [
    "taxi_df.drop(\n",
    "    [\n",
    "        \"from_area_id\",\n",
    "        \"from_lat\",\n",
    "        \"from_long\",\n",
    "        \"to_lat\",\n",
    "        \"to_long\",\n",
    "    ],\n",
    "    inplace=True,\n",
    "    axis=1,\n",
    ")"
   ]
  },
  {
   "cell_type": "markdown",
   "metadata": {},
   "source": [
    "* Variables will be added for the amount of days and hours from 'booking_created' and 'from_date'. For example, the longer its been, the higher chance of the ride being cancelled.\n",
    "* Variable 'from_date' will be replaced by its respective month in order to gain insight whether certain months/season contribute to car cancellations.\n",
    "* Trip day will be added to show if certain days of the week are factors in determining cancellations\n",
    "* A weekday variable will also be added to determine if weekday or weekend is important to the model's prediction"
   ]
  },
  {
   "cell_type": "code",
   "execution_count": 8,
   "metadata": {},
   "outputs": [
    {
     "data": {
      "application/javascript": [
       "\n",
       "            setTimeout(function() {\n",
       "                var nbb_cell_id = 8;\n",
       "                var nbb_unformatted_code = \"# Convert to string\\nstring_start = np.array(taxi_df[\\\"booking_created\\\"])\\nstring_start = string_start.astype(\\\"str\\\")\\nstring_final = np.array(taxi_df[\\\"from_date\\\"])\\nstring_final = string_final.astype(\\\"str\\\")\\n\\n# Time when booking was created\\ndate_i = []\\ntime_i = []\\nfor a in string_start:\\n    date_i.append(a.split()[0])\\n    time_i.append(a.split()[1])\\n\\n# Time when customer was picked up by driver\\ndate_f = []\\ntime_f = []\\nfor b in string_final:\\n    date_f.append(b.split()[0])\\n    time_f.append(b.split()[1])\\n\\n# Seperate month/day/year and hours/min into seperate values\\ndate_i_month = []\\ndate_i_day = []\\ndate_i_year = []\\ntime_i_hour = []\\ntime_i_min = []\\ndate_f_month = []\\ndate_f_day = []\\ndate_f_year = []\\ntime_f_hour = []\\ntime_f_min = []\\n\\nfor c in date_i:\\n    date_i_month.append(c.split(\\\"/\\\")[0])\\n    date_i_day.append(c.split(\\\"/\\\")[1])\\n    date_i_year.append(c.split(\\\"/\\\")[2])\\n\\nfor d in time_i:\\n    time_i_hour.append(d.split(\\\":\\\")[0])\\n    time_i_min.append(d.split(\\\":\\\")[1])\\n\\n\\nfor e in date_f:\\n    date_f_month.append(e.split(\\\"/\\\")[0])\\n    date_f_day.append(e.split(\\\"/\\\")[1])\\n    date_f_year.append(e.split(\\\"/\\\")[2])\\n\\nfor f in time_f:\\n    time_f_hour.append(f.split(\\\":\\\")[0])\\n    time_f_min.append(f.split(\\\":\\\")[1])\\n\\n# Datetime YY/MM/DD HH:MM\\nstart = []\\nend = []\\nWeekday = []\\nelapsed_seconds = []\\nfor i in range(len(date_i_month)):\\n    start.append(\\n        datetime.datetime(\\n            int(date_i_year[i]),\\n            int(date_i_month[i]),\\n            int(date_i_day[i]),\\n            int(time_i_hour[i]),\\n            int(time_i_min[i]),\\n        )\\n    )\\n    end.append(\\n        datetime.datetime(\\n            int(date_f_year[i]),\\n            int(date_f_month[i]),\\n            int(date_f_day[i]),\\n            int(time_f_hour[i]),\\n            int(time_f_min[i]),\\n        )\\n    )\\n    # Trip Day\\n    wd = end[i].weekday()\\n    Weekday.append(wd)\\n    elapsed = end[i] - start[i]\\n    # Seconds between Book Date and Trip Date\\n    seconds = elapsed.seconds\\n    elapsed_seconds.append(seconds)\\n\\n# Calculate the trip day for each trip\\nday = pd.DataFrame([int(i) for i in Weekday], columns=[\\\"Trip_Day\\\"])\\nelapsed_seconds = pd.DataFrame(\\n    [int(j) for j in elapsed_seconds], columns=[\\\"Elapsed_seconds\\\"]\\n)\\n# Calculate whether the trip day was a weekday or weekend?\\nday.loc[(day[\\\"Trip_Day\\\"] >= 4), \\\"Weekday\\\"] = 0\\nday.loc[(day[\\\"Trip_Day\\\"] <= 4), \\\"Weekday\\\"] = 1\\n\\n# Elapsed minutes between booking and trip day\\nelapsed_min = elapsed_seconds[\\\"Elapsed_seconds\\\"] / 60\\nelapsed_min = pd.DataFrame(elapsed_min)\\nelapsed_min = elapsed_min.rename(columns={\\\"Elapsed_seconds\\\": \\\"Elapsed_min\\\"})\\n\\n# Elapsed hours  between booking and trip day\\nelapsed_hour = elapsed_min[\\\"Elapsed_min\\\"] / 60\\nelapsed_hour = pd.DataFrame(elapsed_hour)\\nelapsed_hour = elapsed_min.rename(columns={\\\"Elapsed_min\\\": \\\"Elapsed_hour\\\"})\\nelapsed_hour = elapsed_hour / 60\\n\\n# Find season of Trip Date\\ndate_f_month = pd.DataFrame([int(l) for l in date_f_month], columns=[\\\"F_Month\\\"])\\n\\n# Find Season of Cancellation (In Indian Seasons)\\ndate_f_month.loc[\\n    ((date_f_month[\\\"F_Month\\\"] == 1) | (date_f_month[\\\"F_Month\\\"] == 12)), \\\"Season\\\"\\n] = \\\"Winter\\\"\\n\\ndate_f_month.loc[\\n    ((date_f_month[\\\"F_Month\\\"] >= 2) & (date_f_month[\\\"F_Month\\\"] <= 3)), \\\"Season\\\"\\n] = \\\"Spring\\\"\\n\\ndate_f_month.loc[\\n    ((date_f_month[\\\"F_Month\\\"] >= 4) & (date_f_month[\\\"F_Month\\\"] <= 6)), \\\"Season\\\"\\n] = \\\"Summer\\\"\\n\\ndate_f_month.loc[\\n    ((date_f_month[\\\"F_Month\\\"] >= 7) & (date_f_month[\\\"F_Month\\\"] <= 8)), \\\"Season\\\"\\n] = \\\"Monsoon\\\"\\n\\n\\ndate_f_month.loc[\\n    ((date_f_month[\\\"F_Month\\\"] >= 9) & (date_f_month[\\\"F_Month\\\"] <= 11)), \\\"Season\\\"\\n] = \\\"Autumn\\\"\";\n",
       "                var nbb_formatted_code = \"# Convert to string\\nstring_start = np.array(taxi_df[\\\"booking_created\\\"])\\nstring_start = string_start.astype(\\\"str\\\")\\nstring_final = np.array(taxi_df[\\\"from_date\\\"])\\nstring_final = string_final.astype(\\\"str\\\")\\n\\n# Time when booking was created\\ndate_i = []\\ntime_i = []\\nfor a in string_start:\\n    date_i.append(a.split()[0])\\n    time_i.append(a.split()[1])\\n\\n# Time when customer was picked up by driver\\ndate_f = []\\ntime_f = []\\nfor b in string_final:\\n    date_f.append(b.split()[0])\\n    time_f.append(b.split()[1])\\n\\n# Seperate month/day/year and hours/min into seperate values\\ndate_i_month = []\\ndate_i_day = []\\ndate_i_year = []\\ntime_i_hour = []\\ntime_i_min = []\\ndate_f_month = []\\ndate_f_day = []\\ndate_f_year = []\\ntime_f_hour = []\\ntime_f_min = []\\n\\nfor c in date_i:\\n    date_i_month.append(c.split(\\\"/\\\")[0])\\n    date_i_day.append(c.split(\\\"/\\\")[1])\\n    date_i_year.append(c.split(\\\"/\\\")[2])\\n\\nfor d in time_i:\\n    time_i_hour.append(d.split(\\\":\\\")[0])\\n    time_i_min.append(d.split(\\\":\\\")[1])\\n\\n\\nfor e in date_f:\\n    date_f_month.append(e.split(\\\"/\\\")[0])\\n    date_f_day.append(e.split(\\\"/\\\")[1])\\n    date_f_year.append(e.split(\\\"/\\\")[2])\\n\\nfor f in time_f:\\n    time_f_hour.append(f.split(\\\":\\\")[0])\\n    time_f_min.append(f.split(\\\":\\\")[1])\\n\\n# Datetime YY/MM/DD HH:MM\\nstart = []\\nend = []\\nWeekday = []\\nelapsed_seconds = []\\nfor i in range(len(date_i_month)):\\n    start.append(\\n        datetime.datetime(\\n            int(date_i_year[i]),\\n            int(date_i_month[i]),\\n            int(date_i_day[i]),\\n            int(time_i_hour[i]),\\n            int(time_i_min[i]),\\n        )\\n    )\\n    end.append(\\n        datetime.datetime(\\n            int(date_f_year[i]),\\n            int(date_f_month[i]),\\n            int(date_f_day[i]),\\n            int(time_f_hour[i]),\\n            int(time_f_min[i]),\\n        )\\n    )\\n    # Trip Day\\n    wd = end[i].weekday()\\n    Weekday.append(wd)\\n    elapsed = end[i] - start[i]\\n    # Seconds between Book Date and Trip Date\\n    seconds = elapsed.seconds\\n    elapsed_seconds.append(seconds)\\n\\n# Calculate the trip day for each trip\\nday = pd.DataFrame([int(i) for i in Weekday], columns=[\\\"Trip_Day\\\"])\\nelapsed_seconds = pd.DataFrame(\\n    [int(j) for j in elapsed_seconds], columns=[\\\"Elapsed_seconds\\\"]\\n)\\n# Calculate whether the trip day was a weekday or weekend?\\nday.loc[(day[\\\"Trip_Day\\\"] >= 4), \\\"Weekday\\\"] = 0\\nday.loc[(day[\\\"Trip_Day\\\"] <= 4), \\\"Weekday\\\"] = 1\\n\\n# Elapsed minutes between booking and trip day\\nelapsed_min = elapsed_seconds[\\\"Elapsed_seconds\\\"] / 60\\nelapsed_min = pd.DataFrame(elapsed_min)\\nelapsed_min = elapsed_min.rename(columns={\\\"Elapsed_seconds\\\": \\\"Elapsed_min\\\"})\\n\\n# Elapsed hours  between booking and trip day\\nelapsed_hour = elapsed_min[\\\"Elapsed_min\\\"] / 60\\nelapsed_hour = pd.DataFrame(elapsed_hour)\\nelapsed_hour = elapsed_min.rename(columns={\\\"Elapsed_min\\\": \\\"Elapsed_hour\\\"})\\nelapsed_hour = elapsed_hour / 60\\n\\n# Find season of Trip Date\\ndate_f_month = pd.DataFrame([int(l) for l in date_f_month], columns=[\\\"F_Month\\\"])\\n\\n# Find Season of Cancellation (In Indian Seasons)\\ndate_f_month.loc[\\n    ((date_f_month[\\\"F_Month\\\"] == 1) | (date_f_month[\\\"F_Month\\\"] == 12)), \\\"Season\\\"\\n] = \\\"Winter\\\"\\n\\ndate_f_month.loc[\\n    ((date_f_month[\\\"F_Month\\\"] >= 2) & (date_f_month[\\\"F_Month\\\"] <= 3)), \\\"Season\\\"\\n] = \\\"Spring\\\"\\n\\ndate_f_month.loc[\\n    ((date_f_month[\\\"F_Month\\\"] >= 4) & (date_f_month[\\\"F_Month\\\"] <= 6)), \\\"Season\\\"\\n] = \\\"Summer\\\"\\n\\ndate_f_month.loc[\\n    ((date_f_month[\\\"F_Month\\\"] >= 7) & (date_f_month[\\\"F_Month\\\"] <= 8)), \\\"Season\\\"\\n] = \\\"Monsoon\\\"\\n\\n\\ndate_f_month.loc[\\n    ((date_f_month[\\\"F_Month\\\"] >= 9) & (date_f_month[\\\"F_Month\\\"] <= 11)), \\\"Season\\\"\\n] = \\\"Autumn\\\"\";\n",
       "                var nbb_cells = Jupyter.notebook.get_cells();\n",
       "                for (var i = 0; i < nbb_cells.length; ++i) {\n",
       "                    if (nbb_cells[i].input_prompt_number == nbb_cell_id) {\n",
       "                        if (nbb_cells[i].get_text() == nbb_unformatted_code) {\n",
       "                             nbb_cells[i].set_text(nbb_formatted_code);\n",
       "                        }\n",
       "                        break;\n",
       "                    }\n",
       "                }\n",
       "            }, 500);\n",
       "            "
      ],
      "text/plain": [
       "<IPython.core.display.Javascript object>"
      ]
     },
     "metadata": {},
     "output_type": "display_data"
    }
   ],
   "source": [
    "# Convert to string\n",
    "string_start = np.array(taxi_df[\"booking_created\"])\n",
    "string_start = string_start.astype(\"str\")\n",
    "string_final = np.array(taxi_df[\"from_date\"])\n",
    "string_final = string_final.astype(\"str\")\n",
    "\n",
    "# Time when booking was created\n",
    "date_i = []\n",
    "time_i = []\n",
    "for a in string_start:\n",
    "    date_i.append(a.split()[0])\n",
    "    time_i.append(a.split()[1])\n",
    "\n",
    "# Time when customer was picked up by driver\n",
    "date_f = []\n",
    "time_f = []\n",
    "for b in string_final:\n",
    "    date_f.append(b.split()[0])\n",
    "    time_f.append(b.split()[1])\n",
    "\n",
    "# Seperate month/day/year and hours/min into seperate values\n",
    "date_i_month = []\n",
    "date_i_day = []\n",
    "date_i_year = []\n",
    "time_i_hour = []\n",
    "time_i_min = []\n",
    "date_f_month = []\n",
    "date_f_day = []\n",
    "date_f_year = []\n",
    "time_f_hour = []\n",
    "time_f_min = []\n",
    "\n",
    "for c in date_i:\n",
    "    date_i_month.append(c.split(\"/\")[0])\n",
    "    date_i_day.append(c.split(\"/\")[1])\n",
    "    date_i_year.append(c.split(\"/\")[2])\n",
    "\n",
    "for d in time_i:\n",
    "    time_i_hour.append(d.split(\":\")[0])\n",
    "    time_i_min.append(d.split(\":\")[1])\n",
    "\n",
    "\n",
    "for e in date_f:\n",
    "    date_f_month.append(e.split(\"/\")[0])\n",
    "    date_f_day.append(e.split(\"/\")[1])\n",
    "    date_f_year.append(e.split(\"/\")[2])\n",
    "\n",
    "for f in time_f:\n",
    "    time_f_hour.append(f.split(\":\")[0])\n",
    "    time_f_min.append(f.split(\":\")[1])\n",
    "\n",
    "# Datetime YY/MM/DD HH:MM\n",
    "start = []\n",
    "end = []\n",
    "Weekday = []\n",
    "elapsed_seconds = []\n",
    "for i in range(len(date_i_month)):\n",
    "    start.append(\n",
    "        datetime.datetime(\n",
    "            int(date_i_year[i]),\n",
    "            int(date_i_month[i]),\n",
    "            int(date_i_day[i]),\n",
    "            int(time_i_hour[i]),\n",
    "            int(time_i_min[i]),\n",
    "        )\n",
    "    )\n",
    "    end.append(\n",
    "        datetime.datetime(\n",
    "            int(date_f_year[i]),\n",
    "            int(date_f_month[i]),\n",
    "            int(date_f_day[i]),\n",
    "            int(time_f_hour[i]),\n",
    "            int(time_f_min[i]),\n",
    "        )\n",
    "    )\n",
    "    # Trip Day\n",
    "    wd = end[i].weekday()\n",
    "    Weekday.append(wd)\n",
    "    elapsed = end[i] - start[i]\n",
    "    # Seconds between Book Date and Trip Date\n",
    "    seconds = elapsed.seconds\n",
    "    elapsed_seconds.append(seconds)\n",
    "\n",
    "# Calculate the trip day for each trip\n",
    "day = pd.DataFrame([int(i) for i in Weekday], columns=[\"Trip_Day\"])\n",
    "elapsed_seconds = pd.DataFrame(\n",
    "    [int(j) for j in elapsed_seconds], columns=[\"Elapsed_seconds\"]\n",
    ")\n",
    "# Calculate whether the trip day was a weekday or weekend?\n",
    "day.loc[(day[\"Trip_Day\"] >= 4), \"Weekday\"] = 0\n",
    "day.loc[(day[\"Trip_Day\"] <= 4), \"Weekday\"] = 1\n",
    "\n",
    "# Elapsed minutes between booking and trip day\n",
    "elapsed_min = elapsed_seconds[\"Elapsed_seconds\"] / 60\n",
    "elapsed_min = pd.DataFrame(elapsed_min)\n",
    "elapsed_min = elapsed_min.rename(columns={\"Elapsed_seconds\": \"Elapsed_min\"})\n",
    "\n",
    "# Elapsed hours  between booking and trip day\n",
    "elapsed_hour = elapsed_min[\"Elapsed_min\"] / 60\n",
    "elapsed_hour = pd.DataFrame(elapsed_hour)\n",
    "elapsed_hour = elapsed_min.rename(columns={\"Elapsed_min\": \"Elapsed_hour\"})\n",
    "elapsed_hour = elapsed_hour / 60\n",
    "\n",
    "# Find season of Trip Date\n",
    "date_f_month = pd.DataFrame([int(l) for l in date_f_month], columns=[\"F_Month\"])\n",
    "\n",
    "# Find Season of Cancellation (In Indian Seasons)\n",
    "date_f_month.loc[\n",
    "    ((date_f_month[\"F_Month\"] == 1) | (date_f_month[\"F_Month\"] == 12)), \"Season\"\n",
    "] = \"Winter\"\n",
    "\n",
    "date_f_month.loc[\n",
    "    ((date_f_month[\"F_Month\"] >= 2) & (date_f_month[\"F_Month\"] <= 3)), \"Season\"\n",
    "] = \"Spring\"\n",
    "\n",
    "date_f_month.loc[\n",
    "    ((date_f_month[\"F_Month\"] >= 4) & (date_f_month[\"F_Month\"] <= 6)), \"Season\"\n",
    "] = \"Summer\"\n",
    "\n",
    "date_f_month.loc[\n",
    "    ((date_f_month[\"F_Month\"] >= 7) & (date_f_month[\"F_Month\"] <= 8)), \"Season\"\n",
    "] = \"Monsoon\"\n",
    "\n",
    "\n",
    "date_f_month.loc[\n",
    "    ((date_f_month[\"F_Month\"] >= 9) & (date_f_month[\"F_Month\"] <= 11)), \"Season\"\n",
    "] = \"Autumn\""
   ]
  },
  {
   "cell_type": "code",
   "execution_count": 9,
   "metadata": {},
   "outputs": [
    {
     "data": {
      "application/javascript": [
       "\n",
       "            setTimeout(function() {\n",
       "                var nbb_cell_id = 9;\n",
       "                var nbb_unformatted_code = \"# Concat Original Data, Time/Date DataFrames, and Distance\\npdList = [\\n    taxi_df,\\n    date_f_month,\\n    elapsed_hour,\\n    distance,\\n    day,\\n]\\ntaxi_df = pd.concat(pdList, axis=1)\\n\\n# Drop Date/Time variables\\ntaxi_df.drop([\\\"from_date\\\", \\\"booking_created\\\"], inplace=True, axis=1)\";\n",
       "                var nbb_formatted_code = \"# Concat Original Data, Time/Date DataFrames, and Distance\\npdList = [\\n    taxi_df,\\n    date_f_month,\\n    elapsed_hour,\\n    distance,\\n    day,\\n]\\ntaxi_df = pd.concat(pdList, axis=1)\\n\\n# Drop Date/Time variables\\ntaxi_df.drop([\\\"from_date\\\", \\\"booking_created\\\"], inplace=True, axis=1)\";\n",
       "                var nbb_cells = Jupyter.notebook.get_cells();\n",
       "                for (var i = 0; i < nbb_cells.length; ++i) {\n",
       "                    if (nbb_cells[i].input_prompt_number == nbb_cell_id) {\n",
       "                        if (nbb_cells[i].get_text() == nbb_unformatted_code) {\n",
       "                             nbb_cells[i].set_text(nbb_formatted_code);\n",
       "                        }\n",
       "                        break;\n",
       "                    }\n",
       "                }\n",
       "            }, 500);\n",
       "            "
      ],
      "text/plain": [
       "<IPython.core.display.Javascript object>"
      ]
     },
     "metadata": {},
     "output_type": "display_data"
    }
   ],
   "source": [
    "# Concat Original Data, Time/Date DataFrames, and Distance\n",
    "pdList = [\n",
    "    taxi_df,\n",
    "    date_f_month,\n",
    "    elapsed_hour,\n",
    "    distance,\n",
    "    day,\n",
    "]\n",
    "taxi_df = pd.concat(pdList, axis=1)\n",
    "\n",
    "# Drop Date/Time variables\n",
    "taxi_df.drop([\"from_date\", \"booking_created\"], inplace=True, axis=1)"
   ]
  },
  {
   "cell_type": "code",
   "execution_count": 10,
   "metadata": {
    "scrolled": false
   },
   "outputs": [
    {
     "data": {
      "text/html": [
       "<div>\n",
       "<style scoped>\n",
       "    .dataframe tbody tr th:only-of-type {\n",
       "        vertical-align: middle;\n",
       "    }\n",
       "\n",
       "    .dataframe tbody tr th {\n",
       "        vertical-align: top;\n",
       "    }\n",
       "\n",
       "    .dataframe thead th {\n",
       "        text-align: right;\n",
       "    }\n",
       "</style>\n",
       "<table border=\"1\" class=\"dataframe\">\n",
       "  <thead>\n",
       "    <tr style=\"text-align: right;\">\n",
       "      <th>vehicle_model_id</th>\n",
       "      <th>1</th>\n",
       "      <th>10</th>\n",
       "      <th>12</th>\n",
       "      <th>13</th>\n",
       "      <th>17</th>\n",
       "      <th>23</th>\n",
       "      <th>24</th>\n",
       "      <th>28</th>\n",
       "      <th>30</th>\n",
       "      <th>36</th>\n",
       "      <th>54</th>\n",
       "      <th>64</th>\n",
       "      <th>65</th>\n",
       "      <th>70</th>\n",
       "      <th>85</th>\n",
       "      <th>86</th>\n",
       "      <th>87</th>\n",
       "      <th>89</th>\n",
       "      <th>90</th>\n",
       "      <th>91</th>\n",
       "    </tr>\n",
       "    <tr>\n",
       "      <th>Car_Cancellation</th>\n",
       "      <th></th>\n",
       "      <th></th>\n",
       "      <th></th>\n",
       "      <th></th>\n",
       "      <th></th>\n",
       "      <th></th>\n",
       "      <th></th>\n",
       "      <th></th>\n",
       "      <th></th>\n",
       "      <th></th>\n",
       "      <th></th>\n",
       "      <th></th>\n",
       "      <th></th>\n",
       "      <th></th>\n",
       "      <th></th>\n",
       "      <th></th>\n",
       "      <th></th>\n",
       "      <th></th>\n",
       "      <th></th>\n",
       "      <th></th>\n",
       "    </tr>\n",
       "  </thead>\n",
       "  <tbody>\n",
       "    <tr>\n",
       "      <th>0</th>\n",
       "      <td>1</td>\n",
       "      <td>25</td>\n",
       "      <td>6663</td>\n",
       "      <td>1</td>\n",
       "      <td>7</td>\n",
       "      <td>75</td>\n",
       "      <td>317</td>\n",
       "      <td>384</td>\n",
       "      <td>5</td>\n",
       "      <td>1</td>\n",
       "      <td>16</td>\n",
       "      <td>18</td>\n",
       "      <td>427</td>\n",
       "      <td>1</td>\n",
       "      <td>569</td>\n",
       "      <td>31</td>\n",
       "      <td>110</td>\n",
       "      <td>515</td>\n",
       "      <td>85</td>\n",
       "      <td>6</td>\n",
       "    </tr>\n",
       "    <tr>\n",
       "      <th>1</th>\n",
       "      <td>0</td>\n",
       "      <td>0</td>\n",
       "      <td>616</td>\n",
       "      <td>0</td>\n",
       "      <td>0</td>\n",
       "      <td>0</td>\n",
       "      <td>1</td>\n",
       "      <td>22</td>\n",
       "      <td>0</td>\n",
       "      <td>0</td>\n",
       "      <td>0</td>\n",
       "      <td>0</td>\n",
       "      <td>18</td>\n",
       "      <td>0</td>\n",
       "      <td>3</td>\n",
       "      <td>0</td>\n",
       "      <td>6</td>\n",
       "      <td>76</td>\n",
       "      <td>0</td>\n",
       "      <td>1</td>\n",
       "    </tr>\n",
       "  </tbody>\n",
       "</table>\n",
       "</div>"
      ],
      "text/plain": [
       "vehicle_model_id  1   10    12  13  17  23   24   28  30  36  54  64   65  70  \\\n",
       "Car_Cancellation                                                                \n",
       "0                  1  25  6663   1   7  75  317  384   5   1  16  18  427   1   \n",
       "1                  0   0   616   0   0   0    1   22   0   0   0   0   18   0   \n",
       "\n",
       "vehicle_model_id   85  86   87   89  90  91  \n",
       "Car_Cancellation                             \n",
       "0                 569  31  110  515  85   6  \n",
       "1                   3   0    6   76   0   1  "
      ]
     },
     "metadata": {},
     "output_type": "display_data"
    },
    {
     "data": {
      "text/html": [
       "<div>\n",
       "<style scoped>\n",
       "    .dataframe tbody tr th:only-of-type {\n",
       "        vertical-align: middle;\n",
       "    }\n",
       "\n",
       "    .dataframe tbody tr th {\n",
       "        vertical-align: top;\n",
       "    }\n",
       "\n",
       "    .dataframe thead th {\n",
       "        text-align: right;\n",
       "    }\n",
       "</style>\n",
       "<table border=\"1\" class=\"dataframe\">\n",
       "  <thead>\n",
       "    <tr style=\"text-align: right;\">\n",
       "      <th>Season</th>\n",
       "      <th>Autumn</th>\n",
       "      <th>Monsoon</th>\n",
       "      <th>Spring</th>\n",
       "      <th>Summer</th>\n",
       "      <th>Winter</th>\n",
       "    </tr>\n",
       "    <tr>\n",
       "      <th>Car_Cancellation</th>\n",
       "      <th></th>\n",
       "      <th></th>\n",
       "      <th></th>\n",
       "      <th></th>\n",
       "      <th></th>\n",
       "    </tr>\n",
       "  </thead>\n",
       "  <tbody>\n",
       "    <tr>\n",
       "      <th>0</th>\n",
       "      <td>2479</td>\n",
       "      <td>2302</td>\n",
       "      <td>1260</td>\n",
       "      <td>2509</td>\n",
       "      <td>707</td>\n",
       "    </tr>\n",
       "    <tr>\n",
       "      <th>1</th>\n",
       "      <td>380</td>\n",
       "      <td>90</td>\n",
       "      <td>25</td>\n",
       "      <td>239</td>\n",
       "      <td>9</td>\n",
       "    </tr>\n",
       "  </tbody>\n",
       "</table>\n",
       "</div>"
      ],
      "text/plain": [
       "Season            Autumn  Monsoon  Spring  Summer  Winter\n",
       "Car_Cancellation                                         \n",
       "0                   2479     2302    1260    2509     707\n",
       "1                    380       90      25     239       9"
      ]
     },
     "metadata": {},
     "output_type": "display_data"
    },
    {
     "data": {
      "text/html": [
       "<div>\n",
       "<style scoped>\n",
       "    .dataframe tbody tr th:only-of-type {\n",
       "        vertical-align: middle;\n",
       "    }\n",
       "\n",
       "    .dataframe tbody tr th {\n",
       "        vertical-align: top;\n",
       "    }\n",
       "\n",
       "    .dataframe thead th {\n",
       "        text-align: right;\n",
       "    }\n",
       "</style>\n",
       "<table border=\"1\" class=\"dataframe\">\n",
       "  <thead>\n",
       "    <tr style=\"text-align: right;\">\n",
       "      <th>F_Month</th>\n",
       "      <th>1</th>\n",
       "      <th>2</th>\n",
       "      <th>3</th>\n",
       "      <th>4</th>\n",
       "      <th>5</th>\n",
       "      <th>6</th>\n",
       "      <th>7</th>\n",
       "      <th>8</th>\n",
       "      <th>9</th>\n",
       "      <th>10</th>\n",
       "      <th>11</th>\n",
       "      <th>12</th>\n",
       "    </tr>\n",
       "    <tr>\n",
       "      <th>Car_Cancellation</th>\n",
       "      <th></th>\n",
       "      <th></th>\n",
       "      <th></th>\n",
       "      <th></th>\n",
       "      <th></th>\n",
       "      <th></th>\n",
       "      <th></th>\n",
       "      <th></th>\n",
       "      <th></th>\n",
       "      <th></th>\n",
       "      <th></th>\n",
       "      <th></th>\n",
       "    </tr>\n",
       "  </thead>\n",
       "  <tbody>\n",
       "    <tr>\n",
       "      <th>0</th>\n",
       "      <td>701</td>\n",
       "      <td>630</td>\n",
       "      <td>630</td>\n",
       "      <td>690</td>\n",
       "      <td>858</td>\n",
       "      <td>961</td>\n",
       "      <td>1074</td>\n",
       "      <td>1228</td>\n",
       "      <td>953</td>\n",
       "      <td>926</td>\n",
       "      <td>600</td>\n",
       "      <td>6</td>\n",
       "    </tr>\n",
       "    <tr>\n",
       "      <th>1</th>\n",
       "      <td>9</td>\n",
       "      <td>15</td>\n",
       "      <td>10</td>\n",
       "      <td>35</td>\n",
       "      <td>130</td>\n",
       "      <td>74</td>\n",
       "      <td>39</td>\n",
       "      <td>51</td>\n",
       "      <td>84</td>\n",
       "      <td>163</td>\n",
       "      <td>133</td>\n",
       "      <td>0</td>\n",
       "    </tr>\n",
       "  </tbody>\n",
       "</table>\n",
       "</div>"
      ],
      "text/plain": [
       "F_Month            1    2    3    4    5    6     7     8    9    10   11  12\n",
       "Car_Cancellation                                                             \n",
       "0                 701  630  630  690  858  961  1074  1228  953  926  600   6\n",
       "1                   9   15   10   35  130   74    39    51   84  163  133   0"
      ]
     },
     "metadata": {},
     "output_type": "display_data"
    },
    {
     "data": {
      "text/html": [
       "<div>\n",
       "<style scoped>\n",
       "    .dataframe tbody tr th:only-of-type {\n",
       "        vertical-align: middle;\n",
       "    }\n",
       "\n",
       "    .dataframe tbody tr th {\n",
       "        vertical-align: top;\n",
       "    }\n",
       "\n",
       "    .dataframe thead th {\n",
       "        text-align: right;\n",
       "    }\n",
       "</style>\n",
       "<table border=\"1\" class=\"dataframe\">\n",
       "  <thead>\n",
       "    <tr style=\"text-align: right;\">\n",
       "      <th>Weekday</th>\n",
       "      <th>0.0</th>\n",
       "      <th>1.0</th>\n",
       "    </tr>\n",
       "    <tr>\n",
       "      <th>Car_Cancellation</th>\n",
       "      <th></th>\n",
       "      <th></th>\n",
       "    </tr>\n",
       "  </thead>\n",
       "  <tbody>\n",
       "    <tr>\n",
       "      <th>0</th>\n",
       "      <td>2814</td>\n",
       "      <td>6443</td>\n",
       "    </tr>\n",
       "    <tr>\n",
       "      <th>1</th>\n",
       "      <td>237</td>\n",
       "      <td>506</td>\n",
       "    </tr>\n",
       "  </tbody>\n",
       "</table>\n",
       "</div>"
      ],
      "text/plain": [
       "Weekday            0.0   1.0\n",
       "Car_Cancellation            \n",
       "0                 2814  6443\n",
       "1                  237   506"
      ]
     },
     "metadata": {},
     "output_type": "display_data"
    },
    {
     "data": {
      "text/html": [
       "<div>\n",
       "<style scoped>\n",
       "    .dataframe tbody tr th:only-of-type {\n",
       "        vertical-align: middle;\n",
       "    }\n",
       "\n",
       "    .dataframe tbody tr th {\n",
       "        vertical-align: top;\n",
       "    }\n",
       "\n",
       "    .dataframe thead th {\n",
       "        text-align: right;\n",
       "    }\n",
       "</style>\n",
       "<table border=\"1\" class=\"dataframe\">\n",
       "  <thead>\n",
       "    <tr style=\"text-align: right;\">\n",
       "      <th>Trip_Day</th>\n",
       "      <th>0</th>\n",
       "      <th>1</th>\n",
       "      <th>2</th>\n",
       "      <th>3</th>\n",
       "      <th>4</th>\n",
       "      <th>5</th>\n",
       "      <th>6</th>\n",
       "    </tr>\n",
       "    <tr>\n",
       "      <th>Car_Cancellation</th>\n",
       "      <th></th>\n",
       "      <th></th>\n",
       "      <th></th>\n",
       "      <th></th>\n",
       "      <th></th>\n",
       "      <th></th>\n",
       "      <th></th>\n",
       "    </tr>\n",
       "  </thead>\n",
       "  <tbody>\n",
       "    <tr>\n",
       "      <th>0</th>\n",
       "      <td>1262</td>\n",
       "      <td>1201</td>\n",
       "      <td>1251</td>\n",
       "      <td>1262</td>\n",
       "      <td>1467</td>\n",
       "      <td>1508</td>\n",
       "      <td>1306</td>\n",
       "    </tr>\n",
       "    <tr>\n",
       "      <th>1</th>\n",
       "      <td>109</td>\n",
       "      <td>74</td>\n",
       "      <td>75</td>\n",
       "      <td>105</td>\n",
       "      <td>143</td>\n",
       "      <td>101</td>\n",
       "      <td>136</td>\n",
       "    </tr>\n",
       "  </tbody>\n",
       "</table>\n",
       "</div>"
      ],
      "text/plain": [
       "Trip_Day             0     1     2     3     4     5     6\n",
       "Car_Cancellation                                          \n",
       "0                 1262  1201  1251  1262  1467  1508  1306\n",
       "1                  109    74    75   105   143   101   136"
      ]
     },
     "metadata": {},
     "output_type": "display_data"
    },
    {
     "data": {
      "application/javascript": [
       "\n",
       "            setTimeout(function() {\n",
       "                var nbb_cell_id = 10;\n",
       "                var nbb_unformatted_code = \"# Preview crosstabs for questionable predictors and the target variable (Car Cancellation)\\ndisplay(pd.crosstab(taxi_df.Car_Cancellation, taxi_df.vehicle_model_id))\\ndisplay(pd.crosstab(taxi_df.Car_Cancellation, taxi_df.Season))\\ndisplay(pd.crosstab(taxi_df.Car_Cancellation, taxi_df.F_Month))\\ndisplay(pd.crosstab(taxi_df.Car_Cancellation, taxi_df.Weekday))\\ndisplay(pd.crosstab(taxi_df.Car_Cancellation, taxi_df.Trip_Day))\";\n",
       "                var nbb_formatted_code = \"# Preview crosstabs for questionable predictors and the target variable (Car Cancellation)\\ndisplay(pd.crosstab(taxi_df.Car_Cancellation, taxi_df.vehicle_model_id))\\ndisplay(pd.crosstab(taxi_df.Car_Cancellation, taxi_df.Season))\\ndisplay(pd.crosstab(taxi_df.Car_Cancellation, taxi_df.F_Month))\\ndisplay(pd.crosstab(taxi_df.Car_Cancellation, taxi_df.Weekday))\\ndisplay(pd.crosstab(taxi_df.Car_Cancellation, taxi_df.Trip_Day))\";\n",
       "                var nbb_cells = Jupyter.notebook.get_cells();\n",
       "                for (var i = 0; i < nbb_cells.length; ++i) {\n",
       "                    if (nbb_cells[i].input_prompt_number == nbb_cell_id) {\n",
       "                        if (nbb_cells[i].get_text() == nbb_unformatted_code) {\n",
       "                             nbb_cells[i].set_text(nbb_formatted_code);\n",
       "                        }\n",
       "                        break;\n",
       "                    }\n",
       "                }\n",
       "            }, 500);\n",
       "            "
      ],
      "text/plain": [
       "<IPython.core.display.Javascript object>"
      ]
     },
     "metadata": {},
     "output_type": "display_data"
    }
   ],
   "source": [
    "# Preview crosstabs for questionable predictors and the target variable (Car Cancellation)\n",
    "display(pd.crosstab(taxi_df.Car_Cancellation, taxi_df.vehicle_model_id))\n",
    "display(pd.crosstab(taxi_df.Car_Cancellation, taxi_df.Season))\n",
    "display(pd.crosstab(taxi_df.Car_Cancellation, taxi_df.F_Month))\n",
    "display(pd.crosstab(taxi_df.Car_Cancellation, taxi_df.Weekday))\n",
    "display(pd.crosstab(taxi_df.Car_Cancellation, taxi_df.Trip_Day))"
   ]
  },
  {
   "cell_type": "markdown",
   "metadata": {},
   "source": [
    "* Cross Tab of vehicle model shows that most cars were id 12 and that most cancellations were from vehicle id 12. Because of this, vehicle id will be removed from the model\n",
    "* Cross Tab of the seasons indicate that seasons can potentially impact the model’s decision and will remain\n",
    "* Cross Tab of weekday shows no indications that it should be removed from the model\n",
    "* Cross Tab of trip day shows a roughly equal distribution of car cancellations for each day of the week. Therefore, this variable is deemed insignificant to the model and will be removed. \n"
   ]
  },
  {
   "cell_type": "code",
   "execution_count": 11,
   "metadata": {},
   "outputs": [
    {
     "data": {
      "application/javascript": [
       "\n",
       "            setTimeout(function() {\n",
       "                var nbb_cell_id = 11;\n",
       "                var nbb_unformatted_code = \"# Drop ineffective variables for the model\\ntaxi_df.drop(\\n    [\\n        \\\"Weekday\\\",\\n        \\\"vehicle_model_id\\\",\\n        \\\"F_Month\\\",\\n        \\\"Trip_Day\\\",\\n    ],\\n    inplace=True,\\n    axis=1,\\n)\";\n",
       "                var nbb_formatted_code = \"# Drop ineffective variables for the model\\ntaxi_df.drop(\\n    [\\n        \\\"Weekday\\\",\\n        \\\"vehicle_model_id\\\",\\n        \\\"F_Month\\\",\\n        \\\"Trip_Day\\\",\\n    ],\\n    inplace=True,\\n    axis=1,\\n)\";\n",
       "                var nbb_cells = Jupyter.notebook.get_cells();\n",
       "                for (var i = 0; i < nbb_cells.length; ++i) {\n",
       "                    if (nbb_cells[i].input_prompt_number == nbb_cell_id) {\n",
       "                        if (nbb_cells[i].get_text() == nbb_unformatted_code) {\n",
       "                             nbb_cells[i].set_text(nbb_formatted_code);\n",
       "                        }\n",
       "                        break;\n",
       "                    }\n",
       "                }\n",
       "            }, 500);\n",
       "            "
      ],
      "text/plain": [
       "<IPython.core.display.Javascript object>"
      ]
     },
     "metadata": {},
     "output_type": "display_data"
    }
   ],
   "source": [
    "# Drop ineffective variables for the model\n",
    "taxi_df.drop(\n",
    "    [\n",
    "        \"Weekday\",\n",
    "        \"vehicle_model_id\",\n",
    "        \"F_Month\",\n",
    "        \"Trip_Day\",\n",
    "    ],\n",
    "    inplace=True,\n",
    "    axis=1,\n",
    ")"
   ]
  },
  {
   "cell_type": "markdown",
   "metadata": {},
   "source": [
    "* There are 3 different categories of travel types, 5 different categories of season, 2 categories of ‘available destination’, 2 categories of online booking, and 2 categories for mobile site booking. Therefore these variables will be turned into a categorical variable. \n",
    "\n",
    "Category variables with more than 2 types of categories will be turned into dummy variables. These variables include:\n",
    "* Travel Type ID\n",
    "* Season\n"
   ]
  },
  {
   "cell_type": "code",
   "execution_count": 12,
   "metadata": {},
   "outputs": [
    {
     "data": {
      "application/javascript": [
       "\n",
       "            setTimeout(function() {\n",
       "                var nbb_cell_id = 12;\n",
       "                var nbb_unformatted_code = \"# Convert to categorical data type\\ntaxi_df[\\\"travel_type_id\\\"] = taxi_df[\\\"travel_type_id\\\"].astype(\\\"category\\\")\\ntaxi_df[\\\"Season\\\"] = taxi_df[\\\"Season\\\"].astype(\\\"category\\\")\\n\\n# Create dummy variables for converted categorical variables\\ntaxi_df = pd.get_dummies(taxi_df, prefix_sep=\\\"_\\\")\\n\\n# Convert rest to categorical data type\\ntaxi_df[\\\"Available_Destination\\\"] = taxi_df[\\\"Available_Destination\\\"].astype(\\\"category\\\")\\ntaxi_df[\\\"online_booking\\\"] = taxi_df[\\\"online_booking\\\"].astype(\\\"category\\\")\\ntaxi_df[\\\"mobile_site_booking\\\"] = taxi_df[\\\"mobile_site_booking\\\"].astype(\\\"category\\\")\";\n",
       "                var nbb_formatted_code = \"# Convert to categorical data type\\ntaxi_df[\\\"travel_type_id\\\"] = taxi_df[\\\"travel_type_id\\\"].astype(\\\"category\\\")\\ntaxi_df[\\\"Season\\\"] = taxi_df[\\\"Season\\\"].astype(\\\"category\\\")\\n\\n# Create dummy variables for converted categorical variables\\ntaxi_df = pd.get_dummies(taxi_df, prefix_sep=\\\"_\\\")\\n\\n# Convert rest to categorical data type\\ntaxi_df[\\\"Available_Destination\\\"] = taxi_df[\\\"Available_Destination\\\"].astype(\\\"category\\\")\\ntaxi_df[\\\"online_booking\\\"] = taxi_df[\\\"online_booking\\\"].astype(\\\"category\\\")\\ntaxi_df[\\\"mobile_site_booking\\\"] = taxi_df[\\\"mobile_site_booking\\\"].astype(\\\"category\\\")\";\n",
       "                var nbb_cells = Jupyter.notebook.get_cells();\n",
       "                for (var i = 0; i < nbb_cells.length; ++i) {\n",
       "                    if (nbb_cells[i].input_prompt_number == nbb_cell_id) {\n",
       "                        if (nbb_cells[i].get_text() == nbb_unformatted_code) {\n",
       "                             nbb_cells[i].set_text(nbb_formatted_code);\n",
       "                        }\n",
       "                        break;\n",
       "                    }\n",
       "                }\n",
       "            }, 500);\n",
       "            "
      ],
      "text/plain": [
       "<IPython.core.display.Javascript object>"
      ]
     },
     "metadata": {},
     "output_type": "display_data"
    }
   ],
   "source": [
    "# Convert to categorical data type\n",
    "taxi_df[\"travel_type_id\"] = taxi_df[\"travel_type_id\"].astype(\"category\")\n",
    "taxi_df[\"Season\"] = taxi_df[\"Season\"].astype(\"category\")\n",
    "\n",
    "# Create dummy variables for converted categorical variables\n",
    "taxi_df = pd.get_dummies(taxi_df, prefix_sep=\"_\")\n",
    "\n",
    "# Convert rest to categorical data type\n",
    "taxi_df[\"Available_Destination\"] = taxi_df[\"Available_Destination\"].astype(\"category\")\n",
    "taxi_df[\"online_booking\"] = taxi_df[\"online_booking\"].astype(\"category\")\n",
    "taxi_df[\"mobile_site_booking\"] = taxi_df[\"mobile_site_booking\"].astype(\"category\")"
   ]
  },
  {
   "cell_type": "markdown",
   "metadata": {},
   "source": [
    "**Transform**"
   ]
  },
  {
   "cell_type": "code",
   "execution_count": 13,
   "metadata": {},
   "outputs": [
    {
     "data": {
      "application/javascript": [
       "\n",
       "            setTimeout(function() {\n",
       "                var nbb_cell_id = 13;\n",
       "                var nbb_unformatted_code = \"# Separate out predictors and outcome variable\\nX = taxi_df.drop(columns=\\\"Car_Cancellation\\\")\\ny = taxi_df[\\\"Car_Cancellation\\\"]\";\n",
       "                var nbb_formatted_code = \"# Separate out predictors and outcome variable\\nX = taxi_df.drop(columns=\\\"Car_Cancellation\\\")\\ny = taxi_df[\\\"Car_Cancellation\\\"]\";\n",
       "                var nbb_cells = Jupyter.notebook.get_cells();\n",
       "                for (var i = 0; i < nbb_cells.length; ++i) {\n",
       "                    if (nbb_cells[i].input_prompt_number == nbb_cell_id) {\n",
       "                        if (nbb_cells[i].get_text() == nbb_unformatted_code) {\n",
       "                             nbb_cells[i].set_text(nbb_formatted_code);\n",
       "                        }\n",
       "                        break;\n",
       "                    }\n",
       "                }\n",
       "            }, 500);\n",
       "            "
      ],
      "text/plain": [
       "<IPython.core.display.Javascript object>"
      ]
     },
     "metadata": {},
     "output_type": "display_data"
    }
   ],
   "source": [
    "# Separate out predictors and outcome variable\n",
    "X = taxi_df.drop(columns=\"Car_Cancellation\")\n",
    "y = taxi_df[\"Car_Cancellation\"]"
   ]
  },
  {
   "cell_type": "code",
   "execution_count": 14,
   "metadata": {},
   "outputs": [
    {
     "data": {
      "application/javascript": [
       "\n",
       "            setTimeout(function() {\n",
       "                var nbb_cell_id = 14;\n",
       "                var nbb_unformatted_code = \"# Partition the data into training (80%) and validation (20%) sets with a stratified sampling\\nX_train, X_valid, y_train, y_valid = train_test_split(\\n    X, y, test_size=0.20, stratify=y, random_state=1\\n)\";\n",
       "                var nbb_formatted_code = \"# Partition the data into training (80%) and validation (20%) sets with a stratified sampling\\nX_train, X_valid, y_train, y_valid = train_test_split(\\n    X, y, test_size=0.20, stratify=y, random_state=1\\n)\";\n",
       "                var nbb_cells = Jupyter.notebook.get_cells();\n",
       "                for (var i = 0; i < nbb_cells.length; ++i) {\n",
       "                    if (nbb_cells[i].input_prompt_number == nbb_cell_id) {\n",
       "                        if (nbb_cells[i].get_text() == nbb_unformatted_code) {\n",
       "                             nbb_cells[i].set_text(nbb_formatted_code);\n",
       "                        }\n",
       "                        break;\n",
       "                    }\n",
       "                }\n",
       "            }, 500);\n",
       "            "
      ],
      "text/plain": [
       "<IPython.core.display.Javascript object>"
      ]
     },
     "metadata": {},
     "output_type": "display_data"
    }
   ],
   "source": [
    "# Partition the data into training (80%) and validation (20%) sets with a stratified sampling\n",
    "X_train, X_valid, y_train, y_valid = train_test_split(\n",
    "    X, y, test_size=0.20, stratify=y, random_state=1\n",
    ")"
   ]
  },
  {
   "cell_type": "code",
   "execution_count": 15,
   "metadata": {},
   "outputs": [
    {
     "name": "stdout",
     "output_type": "stream",
     "text": [
      "Total number of missing values in the training set: 0\n",
      "Total number of missing values in the validation set: 0\n"
     ]
    },
    {
     "data": {
      "application/javascript": [
       "\n",
       "            setTimeout(function() {\n",
       "                var nbb_cell_id = 15;\n",
       "                var nbb_unformatted_code = \"# Handle missing values\\nimputer = KNNImputer()\\nimputer.fit(X_train)\\nX_train = pd.DataFrame(imputer.transform(X_train), columns=X_train.columns)\\nX_valid = pd.DataFrame(imputer.transform(X_valid), columns=X_valid.columns)\\n\\nprint(\\n    \\\"Total number of missing values in the training set:\\\", X_train.isnull().sum().sum()\\n)\\nprint(\\n    \\\"Total number of missing values in the validation set:\\\",\\n    X_valid.isnull().sum().sum(),\\n)\";\n",
       "                var nbb_formatted_code = \"# Handle missing values\\nimputer = KNNImputer()\\nimputer.fit(X_train)\\nX_train = pd.DataFrame(imputer.transform(X_train), columns=X_train.columns)\\nX_valid = pd.DataFrame(imputer.transform(X_valid), columns=X_valid.columns)\\n\\nprint(\\n    \\\"Total number of missing values in the training set:\\\", X_train.isnull().sum().sum()\\n)\\nprint(\\n    \\\"Total number of missing values in the validation set:\\\",\\n    X_valid.isnull().sum().sum(),\\n)\";\n",
       "                var nbb_cells = Jupyter.notebook.get_cells();\n",
       "                for (var i = 0; i < nbb_cells.length; ++i) {\n",
       "                    if (nbb_cells[i].input_prompt_number == nbb_cell_id) {\n",
       "                        if (nbb_cells[i].get_text() == nbb_unformatted_code) {\n",
       "                             nbb_cells[i].set_text(nbb_formatted_code);\n",
       "                        }\n",
       "                        break;\n",
       "                    }\n",
       "                }\n",
       "            }, 500);\n",
       "            "
      ],
      "text/plain": [
       "<IPython.core.display.Javascript object>"
      ]
     },
     "metadata": {},
     "output_type": "display_data"
    }
   ],
   "source": [
    "# Handle missing values\n",
    "imputer = KNNImputer()\n",
    "imputer.fit(X_train)\n",
    "X_train = pd.DataFrame(imputer.transform(X_train), columns=X_train.columns)\n",
    "X_valid = pd.DataFrame(imputer.transform(X_valid), columns=X_valid.columns)\n",
    "\n",
    "print(\n",
    "    \"Total number of missing values in the training set:\", X_train.isnull().sum().sum()\n",
    ")\n",
    "print(\n",
    "    \"Total number of missing values in the validation set:\",\n",
    "    X_valid.isnull().sum().sum(),\n",
    ")"
   ]
  },
  {
   "cell_type": "code",
   "execution_count": 16,
   "metadata": {},
   "outputs": [
    {
     "data": {
      "application/javascript": [
       "\n",
       "            setTimeout(function() {\n",
       "                var nbb_cell_id = 16;\n",
       "                var nbb_unformatted_code = \"# list for variables to scale (Goal is to avoid scaling binary variables)\\ncols_to_scale = [\\n    \\\"Elapsed_hour\\\",\\n    \\\"Distance_km\\\",\\n]\\n\\n# create and fit scaler\\nscaler = StandardScaler()\\nscaler.fit(X_train[cols_to_scale])\\n\\n# scale selected data\\nX_train[cols_to_scale] = scaler.transform(X_train[cols_to_scale])\\nX_valid[cols_to_scale] = scaler.transform(X_valid[cols_to_scale])\";\n",
       "                var nbb_formatted_code = \"# list for variables to scale (Goal is to avoid scaling binary variables)\\ncols_to_scale = [\\n    \\\"Elapsed_hour\\\",\\n    \\\"Distance_km\\\",\\n]\\n\\n# create and fit scaler\\nscaler = StandardScaler()\\nscaler.fit(X_train[cols_to_scale])\\n\\n# scale selected data\\nX_train[cols_to_scale] = scaler.transform(X_train[cols_to_scale])\\nX_valid[cols_to_scale] = scaler.transform(X_valid[cols_to_scale])\";\n",
       "                var nbb_cells = Jupyter.notebook.get_cells();\n",
       "                for (var i = 0; i < nbb_cells.length; ++i) {\n",
       "                    if (nbb_cells[i].input_prompt_number == nbb_cell_id) {\n",
       "                        if (nbb_cells[i].get_text() == nbb_unformatted_code) {\n",
       "                             nbb_cells[i].set_text(nbb_formatted_code);\n",
       "                        }\n",
       "                        break;\n",
       "                    }\n",
       "                }\n",
       "            }, 500);\n",
       "            "
      ],
      "text/plain": [
       "<IPython.core.display.Javascript object>"
      ]
     },
     "metadata": {},
     "output_type": "display_data"
    }
   ],
   "source": [
    "# list for variables to scale (Goal is to avoid scaling binary variables)\n",
    "cols_to_scale = [\n",
    "    \"Elapsed_hour\",\n",
    "    \"Distance_km\",\n",
    "]\n",
    "\n",
    "# create and fit scaler\n",
    "scaler = StandardScaler()\n",
    "scaler.fit(X_train[cols_to_scale])\n",
    "\n",
    "# scale selected data\n",
    "X_train[cols_to_scale] = scaler.transform(X_train[cols_to_scale])\n",
    "X_valid[cols_to_scale] = scaler.transform(X_valid[cols_to_scale])"
   ]
  },
  {
   "cell_type": "code",
   "execution_count": 17,
   "metadata": {},
   "outputs": [
    {
     "data": {
      "text/plain": [
       "Index(['online_booking', 'mobile_site_booking', 'Elapsed_hour', 'Distance_km',\n",
       "       'Available_Destination', 'travel_type_id_1', 'travel_type_id_2',\n",
       "       'travel_type_id_3', 'Season_Autumn', 'Season_Monsoon', 'Season_Spring',\n",
       "       'Season_Summer', 'Season_Winter'],\n",
       "      dtype='object')"
      ]
     },
     "execution_count": 17,
     "metadata": {},
     "output_type": "execute_result"
    },
    {
     "data": {
      "application/javascript": [
       "\n",
       "            setTimeout(function() {\n",
       "                var nbb_cell_id = 17;\n",
       "                var nbb_unformatted_code = \"# Display Final List of Predictors\\nX_train.columns\";\n",
       "                var nbb_formatted_code = \"# Display Final List of Predictors\\nX_train.columns\";\n",
       "                var nbb_cells = Jupyter.notebook.get_cells();\n",
       "                for (var i = 0; i < nbb_cells.length; ++i) {\n",
       "                    if (nbb_cells[i].input_prompt_number == nbb_cell_id) {\n",
       "                        if (nbb_cells[i].get_text() == nbb_unformatted_code) {\n",
       "                             nbb_cells[i].set_text(nbb_formatted_code);\n",
       "                        }\n",
       "                        break;\n",
       "                    }\n",
       "                }\n",
       "            }, 500);\n",
       "            "
      ],
      "text/plain": [
       "<IPython.core.display.Javascript object>"
      ]
     },
     "metadata": {},
     "output_type": "display_data"
    }
   ],
   "source": [
    "# Display Final List of Predictors\n",
    "X_train.columns"
   ]
  },
  {
   "cell_type": "markdown",
   "metadata": {},
   "source": [
    "<div class=\"alert alert-block alert-info\">\n",
    "<strong>4:</strong> Fit several predictive models of your choice. Do they provide information on how the predictor variables relate to cancellations? \n",
    "</div>"
   ]
  },
  {
   "cell_type": "markdown",
   "metadata": {},
   "source": [
    "**K-Neighbors Classifier**"
   ]
  },
  {
   "cell_type": "code",
   "execution_count": 18,
   "metadata": {},
   "outputs": [
    {
     "data": {
      "application/javascript": [
       "\n",
       "            setTimeout(function() {\n",
       "                var nbb_cell_id = 18;\n",
       "                var nbb_unformatted_code = \"# Fit model\\nknn = KNeighborsClassifier(n_neighbors=1, weights=\\\"distance\\\")\\nknn.fit(X_train, y_train)\\n# Predict values\\nk_pred_t = knn.predict(X_train)\\nk_pred_v = knn.predict(X_valid)\";\n",
       "                var nbb_formatted_code = \"# Fit model\\nknn = KNeighborsClassifier(n_neighbors=1, weights=\\\"distance\\\")\\nknn.fit(X_train, y_train)\\n# Predict values\\nk_pred_t = knn.predict(X_train)\\nk_pred_v = knn.predict(X_valid)\";\n",
       "                var nbb_cells = Jupyter.notebook.get_cells();\n",
       "                for (var i = 0; i < nbb_cells.length; ++i) {\n",
       "                    if (nbb_cells[i].input_prompt_number == nbb_cell_id) {\n",
       "                        if (nbb_cells[i].get_text() == nbb_unformatted_code) {\n",
       "                             nbb_cells[i].set_text(nbb_formatted_code);\n",
       "                        }\n",
       "                        break;\n",
       "                    }\n",
       "                }\n",
       "            }, 500);\n",
       "            "
      ],
      "text/plain": [
       "<IPython.core.display.Javascript object>"
      ]
     },
     "metadata": {},
     "output_type": "display_data"
    }
   ],
   "source": [
    "# Fit model\n",
    "knn = KNeighborsClassifier(n_neighbors=1, weights=\"distance\")\n",
    "knn.fit(X_train, y_train)\n",
    "# Predict values\n",
    "k_pred_t = knn.predict(X_train)\n",
    "k_pred_v = knn.predict(X_valid)"
   ]
  },
  {
   "cell_type": "markdown",
   "metadata": {},
   "source": [
    "<div class=\"alert alert-warning\">\n",
    "  <strong>*</strong> Feature importance is not defined for the K-Neighbors classifier. KNN does not provide a prediction for the importance or coefficients of variables. In other words, There is no simple or easy way to compute the features responsible for the classification model. Instead, we will use other models to gather more information on the most important features for the model.\n",
    " </div>"
   ]
  },
  {
   "cell_type": "markdown",
   "metadata": {},
   "source": [
    "**Gaussian Naive Bayes Classifier**"
   ]
  },
  {
   "cell_type": "code",
   "execution_count": 19,
   "metadata": {},
   "outputs": [
    {
     "data": {
      "application/javascript": [
       "\n",
       "            setTimeout(function() {\n",
       "                var nbb_cell_id = 19;\n",
       "                var nbb_unformatted_code = \"# Fit model\\nnb = GaussianNB()\\nnb.fit(X_train, y_train)\\n# Predict values\\nnb_pred_t = nb.predict(X_train)\\nnb_pred_v = nb.predict(X_valid)\";\n",
       "                var nbb_formatted_code = \"# Fit model\\nnb = GaussianNB()\\nnb.fit(X_train, y_train)\\n# Predict values\\nnb_pred_t = nb.predict(X_train)\\nnb_pred_v = nb.predict(X_valid)\";\n",
       "                var nbb_cells = Jupyter.notebook.get_cells();\n",
       "                for (var i = 0; i < nbb_cells.length; ++i) {\n",
       "                    if (nbb_cells[i].input_prompt_number == nbb_cell_id) {\n",
       "                        if (nbb_cells[i].get_text() == nbb_unformatted_code) {\n",
       "                             nbb_cells[i].set_text(nbb_formatted_code);\n",
       "                        }\n",
       "                        break;\n",
       "                    }\n",
       "                }\n",
       "            }, 500);\n",
       "            "
      ],
      "text/plain": [
       "<IPython.core.display.Javascript object>"
      ]
     },
     "metadata": {},
     "output_type": "display_data"
    }
   ],
   "source": [
    "# Fit model\n",
    "nb = GaussianNB()\n",
    "nb.fit(X_train, y_train)\n",
    "# Predict values\n",
    "nb_pred_t = nb.predict(X_train)\n",
    "nb_pred_v = nb.predict(X_valid)"
   ]
  },
  {
   "cell_type": "code",
   "execution_count": 20,
   "metadata": {},
   "outputs": [
    {
     "data": {
      "text/html": [
       "<div>\n",
       "<style scoped>\n",
       "    .dataframe tbody tr th:only-of-type {\n",
       "        vertical-align: middle;\n",
       "    }\n",
       "\n",
       "    .dataframe tbody tr th {\n",
       "        vertical-align: top;\n",
       "    }\n",
       "\n",
       "    .dataframe thead th {\n",
       "        text-align: right;\n",
       "    }\n",
       "</style>\n",
       "<table border=\"1\" class=\"dataframe\">\n",
       "  <thead>\n",
       "    <tr style=\"text-align: right;\">\n",
       "      <th></th>\n",
       "      <th>Features</th>\n",
       "      <th>Importance Mean</th>\n",
       "      <th>Importance Standard Deviation</th>\n",
       "    </tr>\n",
       "  </thead>\n",
       "  <tbody>\n",
       "    <tr>\n",
       "      <th>3</th>\n",
       "      <td>Distance_km</td>\n",
       "      <td>0.00615</td>\n",
       "      <td>0.003606</td>\n",
       "    </tr>\n",
       "    <tr>\n",
       "      <th>2</th>\n",
       "      <td>Elapsed_hour</td>\n",
       "      <td>0.00135</td>\n",
       "      <td>0.004817</td>\n",
       "    </tr>\n",
       "    <tr>\n",
       "      <th>0</th>\n",
       "      <td>online_booking</td>\n",
       "      <td>-0.00250</td>\n",
       "      <td>0.003557</td>\n",
       "    </tr>\n",
       "    <tr>\n",
       "      <th>1</th>\n",
       "      <td>mobile_site_booking</td>\n",
       "      <td>-0.00395</td>\n",
       "      <td>0.002687</td>\n",
       "    </tr>\n",
       "    <tr>\n",
       "      <th>9</th>\n",
       "      <td>Season_Monsoon</td>\n",
       "      <td>-0.00550</td>\n",
       "      <td>0.003892</td>\n",
       "    </tr>\n",
       "    <tr>\n",
       "      <th>10</th>\n",
       "      <td>Season_Spring</td>\n",
       "      <td>-0.00700</td>\n",
       "      <td>0.003354</td>\n",
       "    </tr>\n",
       "    <tr>\n",
       "      <th>12</th>\n",
       "      <td>Season_Winter</td>\n",
       "      <td>-0.00700</td>\n",
       "      <td>0.001803</td>\n",
       "    </tr>\n",
       "    <tr>\n",
       "      <th>5</th>\n",
       "      <td>travel_type_id_1</td>\n",
       "      <td>-0.00730</td>\n",
       "      <td>0.002713</td>\n",
       "    </tr>\n",
       "    <tr>\n",
       "      <th>11</th>\n",
       "      <td>Season_Summer</td>\n",
       "      <td>-0.01645</td>\n",
       "      <td>0.002434</td>\n",
       "    </tr>\n",
       "    <tr>\n",
       "      <th>7</th>\n",
       "      <td>travel_type_id_3</td>\n",
       "      <td>-0.02775</td>\n",
       "      <td>0.004976</td>\n",
       "    </tr>\n",
       "    <tr>\n",
       "      <th>4</th>\n",
       "      <td>Available_Destination</td>\n",
       "      <td>-0.03320</td>\n",
       "      <td>0.004100</td>\n",
       "    </tr>\n",
       "    <tr>\n",
       "      <th>6</th>\n",
       "      <td>travel_type_id_2</td>\n",
       "      <td>-0.03320</td>\n",
       "      <td>0.004100</td>\n",
       "    </tr>\n",
       "    <tr>\n",
       "      <th>8</th>\n",
       "      <td>Season_Autumn</td>\n",
       "      <td>-0.03350</td>\n",
       "      <td>0.004393</td>\n",
       "    </tr>\n",
       "  </tbody>\n",
       "</table>\n",
       "</div>"
      ],
      "text/plain": [
       "                 Features  Importance Mean  Importance Standard Deviation\n",
       "3             Distance_km          0.00615                       0.003606\n",
       "2            Elapsed_hour          0.00135                       0.004817\n",
       "0          online_booking         -0.00250                       0.003557\n",
       "1     mobile_site_booking         -0.00395                       0.002687\n",
       "9          Season_Monsoon         -0.00550                       0.003892\n",
       "10          Season_Spring         -0.00700                       0.003354\n",
       "12          Season_Winter         -0.00700                       0.001803\n",
       "5        travel_type_id_1         -0.00730                       0.002713\n",
       "11          Season_Summer         -0.01645                       0.002434\n",
       "7        travel_type_id_3         -0.02775                       0.004976\n",
       "4   Available_Destination         -0.03320                       0.004100\n",
       "6        travel_type_id_2         -0.03320                       0.004100\n",
       "8           Season_Autumn         -0.03350                       0.004393"
      ]
     },
     "metadata": {},
     "output_type": "display_data"
    },
    {
     "data": {
      "application/javascript": [
       "\n",
       "            setTimeout(function() {\n",
       "                var nbb_cell_id = 20;\n",
       "                var nbb_unformatted_code = \"# Variable Importance\\nimps = permutation_importance(nb, X_valid, y_valid, random_state=1, n_repeats=10)\\nnb_VarImportance = (\\n    pd.DataFrame(X_train.columns, columns=[\\\"Features\\\"]),\\n    pd.DataFrame(imps.importances_mean, columns=[\\\"Importance Mean\\\"]),\\n    pd.DataFrame(imps.importances_std, columns=[\\\"Importance Standard Deviation\\\"])\\n)\\nnb_VarImportance = pd.concat(nb_VarImportance, axis=1)\\ndisplay(nb_VarImportance.sort_values(by='Importance Mean', ascending=False))\";\n",
       "                var nbb_formatted_code = \"# Variable Importance\\nimps = permutation_importance(nb, X_valid, y_valid, random_state=1, n_repeats=10)\\nnb_VarImportance = (\\n    pd.DataFrame(X_train.columns, columns=[\\\"Features\\\"]),\\n    pd.DataFrame(imps.importances_mean, columns=[\\\"Importance Mean\\\"]),\\n    pd.DataFrame(imps.importances_std, columns=[\\\"Importance Standard Deviation\\\"]),\\n)\\nnb_VarImportance = pd.concat(nb_VarImportance, axis=1)\\ndisplay(nb_VarImportance.sort_values(by=\\\"Importance Mean\\\", ascending=False))\";\n",
       "                var nbb_cells = Jupyter.notebook.get_cells();\n",
       "                for (var i = 0; i < nbb_cells.length; ++i) {\n",
       "                    if (nbb_cells[i].input_prompt_number == nbb_cell_id) {\n",
       "                        if (nbb_cells[i].get_text() == nbb_unformatted_code) {\n",
       "                             nbb_cells[i].set_text(nbb_formatted_code);\n",
       "                        }\n",
       "                        break;\n",
       "                    }\n",
       "                }\n",
       "            }, 500);\n",
       "            "
      ],
      "text/plain": [
       "<IPython.core.display.Javascript object>"
      ]
     },
     "metadata": {},
     "output_type": "display_data"
    }
   ],
   "source": [
    "# Variable Importance\n",
    "imps = permutation_importance(nb, X_valid, y_valid, random_state=1, n_repeats=10)\n",
    "nb_VarImportance = (\n",
    "    pd.DataFrame(X_train.columns, columns=[\"Features\"]),\n",
    "    pd.DataFrame(imps.importances_mean, columns=[\"Importance Mean\"]),\n",
    "    pd.DataFrame(imps.importances_std, columns=[\"Importance Standard Deviation\"])\n",
    ")\n",
    "nb_VarImportance = pd.concat(nb_VarImportance, axis=1)\n",
    "display(nb_VarImportance.sort_values(by='Importance Mean', ascending=False))\n"
   ]
  },
  {
   "cell_type": "markdown",
   "metadata": {},
   "source": [
    "<div class=\"alert alert-warning\">\n",
    "  <strong>*</strong> The numbers in the Gaussian Naive Bayes represent the permutation feature importance which measures the importance of a feature by calculating the increase in the model's prediction error after permuting the feature. The features at the top of the table are considered the most important features in the model, while those at the bottom matter least. The negative values indicate that the predictions on noisy/shuffled data are more accurate than the real data. In other words, those features do not contribute as much to the predictions as the positive ones do. In the model fitted above, distance and elapsed time are considered the most important features to the model. The features with negative values on the bottom of the dataframe indicate features that are of little significance to the model.   \n",
    "</div>"
   ]
  },
  {
   "cell_type": "markdown",
   "metadata": {},
   "source": [
    "**Gradient Boosting Classifier**"
   ]
  },
  {
   "cell_type": "code",
   "execution_count": 21,
   "metadata": {},
   "outputs": [
    {
     "data": {
      "application/javascript": [
       "\n",
       "            setTimeout(function() {\n",
       "                var nbb_cell_id = 21;\n",
       "                var nbb_unformatted_code = \"# Fit model\\nGB = GradientBoostingClassifier(random_state=1)\\nGB.fit(X_train, y_train)\\n# Predict values\\nb_pred_t = GB.predict(X_train)\\nb_pred_v = GB.predict(X_valid)\";\n",
       "                var nbb_formatted_code = \"# Fit model\\nGB = GradientBoostingClassifier(random_state=1)\\nGB.fit(X_train, y_train)\\n# Predict values\\nb_pred_t = GB.predict(X_train)\\nb_pred_v = GB.predict(X_valid)\";\n",
       "                var nbb_cells = Jupyter.notebook.get_cells();\n",
       "                for (var i = 0; i < nbb_cells.length; ++i) {\n",
       "                    if (nbb_cells[i].input_prompt_number == nbb_cell_id) {\n",
       "                        if (nbb_cells[i].get_text() == nbb_unformatted_code) {\n",
       "                             nbb_cells[i].set_text(nbb_formatted_code);\n",
       "                        }\n",
       "                        break;\n",
       "                    }\n",
       "                }\n",
       "            }, 500);\n",
       "            "
      ],
      "text/plain": [
       "<IPython.core.display.Javascript object>"
      ]
     },
     "metadata": {},
     "output_type": "display_data"
    }
   ],
   "source": [
    "# Fit model\n",
    "GB = GradientBoostingClassifier(random_state=1)\n",
    "GB.fit(X_train, y_train)\n",
    "# Predict values\n",
    "b_pred_t = GB.predict(X_train)\n",
    "b_pred_v = GB.predict(X_valid)"
   ]
  },
  {
   "cell_type": "code",
   "execution_count": 22,
   "metadata": {
    "scrolled": false
   },
   "outputs": [
    {
     "data": {
      "text/html": [
       "<div>\n",
       "<style scoped>\n",
       "    .dataframe tbody tr th:only-of-type {\n",
       "        vertical-align: middle;\n",
       "    }\n",
       "\n",
       "    .dataframe tbody tr th {\n",
       "        vertical-align: top;\n",
       "    }\n",
       "\n",
       "    .dataframe thead th {\n",
       "        text-align: right;\n",
       "    }\n",
       "</style>\n",
       "<table border=\"1\" class=\"dataframe\">\n",
       "  <thead>\n",
       "    <tr style=\"text-align: right;\">\n",
       "      <th></th>\n",
       "      <th>feature</th>\n",
       "      <th>importance</th>\n",
       "    </tr>\n",
       "  </thead>\n",
       "  <tbody>\n",
       "    <tr>\n",
       "      <th>3</th>\n",
       "      <td>Distance_km</td>\n",
       "      <td>0.324998</td>\n",
       "    </tr>\n",
       "    <tr>\n",
       "      <th>2</th>\n",
       "      <td>Elapsed_hour</td>\n",
       "      <td>0.290816</td>\n",
       "    </tr>\n",
       "    <tr>\n",
       "      <th>0</th>\n",
       "      <td>online_booking</td>\n",
       "      <td>0.160308</td>\n",
       "    </tr>\n",
       "    <tr>\n",
       "      <th>8</th>\n",
       "      <td>Season_Autumn</td>\n",
       "      <td>0.110731</td>\n",
       "    </tr>\n",
       "    <tr>\n",
       "      <th>1</th>\n",
       "      <td>mobile_site_booking</td>\n",
       "      <td>0.036918</td>\n",
       "    </tr>\n",
       "    <tr>\n",
       "      <th>11</th>\n",
       "      <td>Season_Summer</td>\n",
       "      <td>0.034168</td>\n",
       "    </tr>\n",
       "    <tr>\n",
       "      <th>4</th>\n",
       "      <td>Available_Destination</td>\n",
       "      <td>0.026190</td>\n",
       "    </tr>\n",
       "    <tr>\n",
       "      <th>9</th>\n",
       "      <td>Season_Monsoon</td>\n",
       "      <td>0.005522</td>\n",
       "    </tr>\n",
       "    <tr>\n",
       "      <th>12</th>\n",
       "      <td>Season_Winter</td>\n",
       "      <td>0.003811</td>\n",
       "    </tr>\n",
       "    <tr>\n",
       "      <th>10</th>\n",
       "      <td>Season_Spring</td>\n",
       "      <td>0.003737</td>\n",
       "    </tr>\n",
       "    <tr>\n",
       "      <th>6</th>\n",
       "      <td>travel_type_id_2</td>\n",
       "      <td>0.001749</td>\n",
       "    </tr>\n",
       "    <tr>\n",
       "      <th>5</th>\n",
       "      <td>travel_type_id_1</td>\n",
       "      <td>0.001052</td>\n",
       "    </tr>\n",
       "    <tr>\n",
       "      <th>7</th>\n",
       "      <td>travel_type_id_3</td>\n",
       "      <td>0.000000</td>\n",
       "    </tr>\n",
       "  </tbody>\n",
       "</table>\n",
       "</div>"
      ],
      "text/plain": [
       "                  feature  importance\n",
       "3             Distance_km    0.324998\n",
       "2            Elapsed_hour    0.290816\n",
       "0          online_booking    0.160308\n",
       "8           Season_Autumn    0.110731\n",
       "1     mobile_site_booking    0.036918\n",
       "11          Season_Summer    0.034168\n",
       "4   Available_Destination    0.026190\n",
       "9          Season_Monsoon    0.005522\n",
       "12          Season_Winter    0.003811\n",
       "10          Season_Spring    0.003737\n",
       "6        travel_type_id_2    0.001749\n",
       "5        travel_type_id_1    0.001052\n",
       "7        travel_type_id_3    0.000000"
      ]
     },
     "metadata": {},
     "output_type": "display_data"
    },
    {
     "data": {
      "application/javascript": [
       "\n",
       "            setTimeout(function() {\n",
       "                var nbb_cell_id = 22;\n",
       "                var nbb_unformatted_code = \"# Variable (feature) importance plot\\nGB_importances = GB.feature_importances_\\nGB_df = pd.DataFrame({\\\"feature\\\": X_train.columns, \\\"importance\\\": GB_importances})\\nGB_df = GB_df.sort_values(\\\"importance\\\", ascending=False)\\ndisplay(GB_df)\";\n",
       "                var nbb_formatted_code = \"# Variable (feature) importance plot\\nGB_importances = GB.feature_importances_\\nGB_df = pd.DataFrame({\\\"feature\\\": X_train.columns, \\\"importance\\\": GB_importances})\\nGB_df = GB_df.sort_values(\\\"importance\\\", ascending=False)\\ndisplay(GB_df)\";\n",
       "                var nbb_cells = Jupyter.notebook.get_cells();\n",
       "                for (var i = 0; i < nbb_cells.length; ++i) {\n",
       "                    if (nbb_cells[i].input_prompt_number == nbb_cell_id) {\n",
       "                        if (nbb_cells[i].get_text() == nbb_unformatted_code) {\n",
       "                             nbb_cells[i].set_text(nbb_formatted_code);\n",
       "                        }\n",
       "                        break;\n",
       "                    }\n",
       "                }\n",
       "            }, 500);\n",
       "            "
      ],
      "text/plain": [
       "<IPython.core.display.Javascript object>"
      ]
     },
     "metadata": {},
     "output_type": "display_data"
    }
   ],
   "source": [
    "# Variable (feature) importance plot\n",
    "GB_importances = GB.feature_importances_\n",
    "GB_df = pd.DataFrame({\"feature\": X_train.columns, \"importance\": GB_importances})\n",
    "GB_df = GB_df.sort_values(\"importance\", ascending=False)\n",
    "display(GB_df)"
   ]
  },
  {
   "cell_type": "code",
   "execution_count": 23,
   "metadata": {},
   "outputs": [
    {
     "data": {
      "text/plain": [
       "Text(0, 0.5, '')"
      ]
     },
     "execution_count": 23,
     "metadata": {},
     "output_type": "execute_result"
    },
    {
     "data": {
      "image/png": "[encoded data removed]",
      "text/plain": [
       "<Figure size 432x288 with 1 Axes>"
      ]
     },
     "metadata": {
      "needs_background": "light"
     },
     "output_type": "display_data"
    },
    {
     "data": {
      "application/javascript": [
       "\n",
       "            setTimeout(function() {\n",
       "                var nbb_cell_id = 23;\n",
       "                var nbb_unformatted_code = \"ax = GB_df.plot(kind=\\\"barh\\\", x=\\\"feature\\\", legend=False)\\nax.set_ylabel(\\\"\\\")\";\n",
       "                var nbb_formatted_code = \"ax = GB_df.plot(kind=\\\"barh\\\", x=\\\"feature\\\", legend=False)\\nax.set_ylabel(\\\"\\\")\";\n",
       "                var nbb_cells = Jupyter.notebook.get_cells();\n",
       "                for (var i = 0; i < nbb_cells.length; ++i) {\n",
       "                    if (nbb_cells[i].input_prompt_number == nbb_cell_id) {\n",
       "                        if (nbb_cells[i].get_text() == nbb_unformatted_code) {\n",
       "                             nbb_cells[i].set_text(nbb_formatted_code);\n",
       "                        }\n",
       "                        break;\n",
       "                    }\n",
       "                }\n",
       "            }, 500);\n",
       "            "
      ],
      "text/plain": [
       "<IPython.core.display.Javascript object>"
      ]
     },
     "metadata": {},
     "output_type": "display_data"
    }
   ],
   "source": [
    "ax = GB_df.plot(kind=\"barh\", x=\"feature\", legend=False)\n",
    "ax.set_ylabel(\"\")"
   ]
  },
  {
   "cell_type": "markdown",
   "metadata": {},
   "source": [
    "<div class=\"alert alert-warning\">\n",
    "  <strong>*</strong> The feature importance was calculated for the gradient boosting classifier. According to both the table,, we can see that distance and time predictors were the most important features. The plot indicates that online booking and the autumn season also had a considerable impact on the model. In addition, the summer season, mobile site booking, and the destination  availability  had a slight impact on the model as well. However, the gradient boosting classifier model indicated that the travel type feature had almost no contribution to the model’s prediction. \n",
    "</div>"
   ]
  },
  {
   "cell_type": "markdown",
   "metadata": {},
   "source": [
    "**Decision Tree Classifier**"
   ]
  },
  {
   "cell_type": "code",
   "execution_count": 24,
   "metadata": {},
   "outputs": [
    {
     "data": {
      "application/javascript": [
       "\n",
       "            setTimeout(function() {\n",
       "                var nbb_cell_id = 24;\n",
       "                var nbb_unformatted_code = \"D = DecisionTreeClassifier(random_state=1)\\nD.fit(X_train, y_train)\\nD_pred_t = D.predict(X_train)\\nD_pred_v = D.predict(X_valid)\";\n",
       "                var nbb_formatted_code = \"D = DecisionTreeClassifier(random_state=1)\\nD.fit(X_train, y_train)\\nD_pred_t = D.predict(X_train)\\nD_pred_v = D.predict(X_valid)\";\n",
       "                var nbb_cells = Jupyter.notebook.get_cells();\n",
       "                for (var i = 0; i < nbb_cells.length; ++i) {\n",
       "                    if (nbb_cells[i].input_prompt_number == nbb_cell_id) {\n",
       "                        if (nbb_cells[i].get_text() == nbb_unformatted_code) {\n",
       "                             nbb_cells[i].set_text(nbb_formatted_code);\n",
       "                        }\n",
       "                        break;\n",
       "                    }\n",
       "                }\n",
       "            }, 500);\n",
       "            "
      ],
      "text/plain": [
       "<IPython.core.display.Javascript object>"
      ]
     },
     "metadata": {},
     "output_type": "display_data"
    }
   ],
   "source": [
    "D = DecisionTreeClassifier(random_state=1)\n",
    "D.fit(X_train, y_train)\n",
    "D_pred_t = D.predict(X_train)\n",
    "D_pred_v = D.predict(X_valid)"
   ]
  },
  {
   "cell_type": "code",
   "execution_count": 25,
   "metadata": {
    "scrolled": false
   },
   "outputs": [
    {
     "data": {
      "text/html": [
       "<div>\n",
       "<style scoped>\n",
       "    .dataframe tbody tr th:only-of-type {\n",
       "        vertical-align: middle;\n",
       "    }\n",
       "\n",
       "    .dataframe tbody tr th {\n",
       "        vertical-align: top;\n",
       "    }\n",
       "\n",
       "    .dataframe thead th {\n",
       "        text-align: right;\n",
       "    }\n",
       "</style>\n",
       "<table border=\"1\" class=\"dataframe\">\n",
       "  <thead>\n",
       "    <tr style=\"text-align: right;\">\n",
       "      <th></th>\n",
       "      <th>feature</th>\n",
       "      <th>importance</th>\n",
       "    </tr>\n",
       "  </thead>\n",
       "  <tbody>\n",
       "    <tr>\n",
       "      <th>3</th>\n",
       "      <td>Distance_km</td>\n",
       "      <td>0.443983</td>\n",
       "    </tr>\n",
       "    <tr>\n",
       "      <th>2</th>\n",
       "      <td>Elapsed_hour</td>\n",
       "      <td>0.430082</td>\n",
       "    </tr>\n",
       "    <tr>\n",
       "      <th>8</th>\n",
       "      <td>Season_Autumn</td>\n",
       "      <td>0.025912</td>\n",
       "    </tr>\n",
       "    <tr>\n",
       "      <th>0</th>\n",
       "      <td>online_booking</td>\n",
       "      <td>0.024265</td>\n",
       "    </tr>\n",
       "    <tr>\n",
       "      <th>11</th>\n",
       "      <td>Season_Summer</td>\n",
       "      <td>0.015691</td>\n",
       "    </tr>\n",
       "    <tr>\n",
       "      <th>9</th>\n",
       "      <td>Season_Monsoon</td>\n",
       "      <td>0.013314</td>\n",
       "    </tr>\n",
       "    <tr>\n",
       "      <th>4</th>\n",
       "      <td>Available_Destination</td>\n",
       "      <td>0.011009</td>\n",
       "    </tr>\n",
       "    <tr>\n",
       "      <th>7</th>\n",
       "      <td>travel_type_id_3</td>\n",
       "      <td>0.009812</td>\n",
       "    </tr>\n",
       "    <tr>\n",
       "      <th>6</th>\n",
       "      <td>travel_type_id_2</td>\n",
       "      <td>0.009561</td>\n",
       "    </tr>\n",
       "    <tr>\n",
       "      <th>1</th>\n",
       "      <td>mobile_site_booking</td>\n",
       "      <td>0.007358</td>\n",
       "    </tr>\n",
       "    <tr>\n",
       "      <th>5</th>\n",
       "      <td>travel_type_id_1</td>\n",
       "      <td>0.005321</td>\n",
       "    </tr>\n",
       "    <tr>\n",
       "      <th>12</th>\n",
       "      <td>Season_Winter</td>\n",
       "      <td>0.002797</td>\n",
       "    </tr>\n",
       "    <tr>\n",
       "      <th>10</th>\n",
       "      <td>Season_Spring</td>\n",
       "      <td>0.000895</td>\n",
       "    </tr>\n",
       "  </tbody>\n",
       "</table>\n",
       "</div>"
      ],
      "text/plain": [
       "                  feature  importance\n",
       "3             Distance_km    0.443983\n",
       "2            Elapsed_hour    0.430082\n",
       "8           Season_Autumn    0.025912\n",
       "0          online_booking    0.024265\n",
       "11          Season_Summer    0.015691\n",
       "9          Season_Monsoon    0.013314\n",
       "4   Available_Destination    0.011009\n",
       "7        travel_type_id_3    0.009812\n",
       "6        travel_type_id_2    0.009561\n",
       "1     mobile_site_booking    0.007358\n",
       "5        travel_type_id_1    0.005321\n",
       "12          Season_Winter    0.002797\n",
       "10          Season_Spring    0.000895"
      ]
     },
     "metadata": {},
     "output_type": "display_data"
    },
    {
     "data": {
      "application/javascript": [
       "\n",
       "            setTimeout(function() {\n",
       "                var nbb_cell_id = 25;\n",
       "                var nbb_unformatted_code = \"# Variable (feature) importance plot\\nD_importances = D.feature_importances_\\nD_df = pd.DataFrame({\\\"feature\\\": X_train.columns, \\\"importance\\\": D_importances})\\nD_df = D_df.sort_values(\\\"importance\\\", ascending=False)\\ndisplay(D_df)\";\n",
       "                var nbb_formatted_code = \"# Variable (feature) importance plot\\nD_importances = D.feature_importances_\\nD_df = pd.DataFrame({\\\"feature\\\": X_train.columns, \\\"importance\\\": D_importances})\\nD_df = D_df.sort_values(\\\"importance\\\", ascending=False)\\ndisplay(D_df)\";\n",
       "                var nbb_cells = Jupyter.notebook.get_cells();\n",
       "                for (var i = 0; i < nbb_cells.length; ++i) {\n",
       "                    if (nbb_cells[i].input_prompt_number == nbb_cell_id) {\n",
       "                        if (nbb_cells[i].get_text() == nbb_unformatted_code) {\n",
       "                             nbb_cells[i].set_text(nbb_formatted_code);\n",
       "                        }\n",
       "                        break;\n",
       "                    }\n",
       "                }\n",
       "            }, 500);\n",
       "            "
      ],
      "text/plain": [
       "<IPython.core.display.Javascript object>"
      ]
     },
     "metadata": {},
     "output_type": "display_data"
    }
   ],
   "source": [
    "# Variable (feature) importance plot\n",
    "D_importances = D.feature_importances_\n",
    "D_df = pd.DataFrame({\"feature\": X_train.columns, \"importance\": D_importances})\n",
    "D_df = D_df.sort_values(\"importance\", ascending=False)\n",
    "display(D_df)"
   ]
  },
  {
   "cell_type": "code",
   "execution_count": 26,
   "metadata": {},
   "outputs": [
    {
     "data": {
      "text/plain": [
       "Text(0, 0.5, '')"
      ]
     },
     "execution_count": 26,
     "metadata": {},
     "output_type": "execute_result"
    },
    {
     "data": {
      "image/png": "[encoded data removed]",
      "text/plain": [
       "<Figure size 432x288 with 1 Axes>"
      ]
     },
     "metadata": {
      "needs_background": "light"
     },
     "output_type": "display_data"
    },
    {
     "data": {
      "application/javascript": [
       "\n",
       "            setTimeout(function() {\n",
       "                var nbb_cell_id = 26;\n",
       "                var nbb_unformatted_code = \"ax = D_df.plot(kind=\\\"barh\\\", x=\\\"feature\\\", legend=False)\\nax.set_ylabel(\\\"\\\")\";\n",
       "                var nbb_formatted_code = \"ax = D_df.plot(kind=\\\"barh\\\", x=\\\"feature\\\", legend=False)\\nax.set_ylabel(\\\"\\\")\";\n",
       "                var nbb_cells = Jupyter.notebook.get_cells();\n",
       "                for (var i = 0; i < nbb_cells.length; ++i) {\n",
       "                    if (nbb_cells[i].input_prompt_number == nbb_cell_id) {\n",
       "                        if (nbb_cells[i].get_text() == nbb_unformatted_code) {\n",
       "                             nbb_cells[i].set_text(nbb_formatted_code);\n",
       "                        }\n",
       "                        break;\n",
       "                    }\n",
       "                }\n",
       "            }, 500);\n",
       "            "
      ],
      "text/plain": [
       "<IPython.core.display.Javascript object>"
      ]
     },
     "metadata": {},
     "output_type": "display_data"
    }
   ],
   "source": [
    "ax = D_df.plot(kind=\"barh\", x=\"feature\", legend=False)\n",
    "ax.set_ylabel(\"\")"
   ]
  },
  {
   "cell_type": "markdown",
   "metadata": {},
   "source": [
    "<div class=\"alert alert-warning\">\n",
    "  <strong>*</strong> The decision tree model weighed distance and time as the most important features by a significant margin. All other features had little to no impact on the model’s prediction. \n",
    "</div>"
   ]
  },
  {
   "cell_type": "markdown",
   "metadata": {},
   "source": [
    "**Random Forest Classifier**"
   ]
  },
  {
   "cell_type": "code",
   "execution_count": 27,
   "metadata": {},
   "outputs": [
    {
     "data": {
      "application/javascript": [
       "\n",
       "            setTimeout(function() {\n",
       "                var nbb_cell_id = 27;\n",
       "                var nbb_unformatted_code = \"R = RandomForestClassifier(random_state=1)\\nR.fit(X_train, y_train)\\nR_pred_t = R.predict(X_train)\\nR_pred_v = R.predict(X_valid)\";\n",
       "                var nbb_formatted_code = \"R = RandomForestClassifier(random_state=1)\\nR.fit(X_train, y_train)\\nR_pred_t = R.predict(X_train)\\nR_pred_v = R.predict(X_valid)\";\n",
       "                var nbb_cells = Jupyter.notebook.get_cells();\n",
       "                for (var i = 0; i < nbb_cells.length; ++i) {\n",
       "                    if (nbb_cells[i].input_prompt_number == nbb_cell_id) {\n",
       "                        if (nbb_cells[i].get_text() == nbb_unformatted_code) {\n",
       "                             nbb_cells[i].set_text(nbb_formatted_code);\n",
       "                        }\n",
       "                        break;\n",
       "                    }\n",
       "                }\n",
       "            }, 500);\n",
       "            "
      ],
      "text/plain": [
       "<IPython.core.display.Javascript object>"
      ]
     },
     "metadata": {},
     "output_type": "display_data"
    }
   ],
   "source": [
    "R = RandomForestClassifier(random_state=1)\n",
    "R.fit(X_train, y_train)\n",
    "R_pred_t = R.predict(X_train)\n",
    "R_pred_v = R.predict(X_valid)"
   ]
  },
  {
   "cell_type": "code",
   "execution_count": 28,
   "metadata": {},
   "outputs": [
    {
     "data": {
      "text/html": [
       "<div>\n",
       "<style scoped>\n",
       "    .dataframe tbody tr th:only-of-type {\n",
       "        vertical-align: middle;\n",
       "    }\n",
       "\n",
       "    .dataframe tbody tr th {\n",
       "        vertical-align: top;\n",
       "    }\n",
       "\n",
       "    .dataframe thead th {\n",
       "        text-align: right;\n",
       "    }\n",
       "</style>\n",
       "<table border=\"1\" class=\"dataframe\">\n",
       "  <thead>\n",
       "    <tr style=\"text-align: right;\">\n",
       "      <th></th>\n",
       "      <th>feature</th>\n",
       "      <th>importance</th>\n",
       "      <th>std</th>\n",
       "    </tr>\n",
       "  </thead>\n",
       "  <tbody>\n",
       "    <tr>\n",
       "      <th>2</th>\n",
       "      <td>Elapsed_hour</td>\n",
       "      <td>0.449418</td>\n",
       "      <td>6.661338e-16</td>\n",
       "    </tr>\n",
       "    <tr>\n",
       "      <th>3</th>\n",
       "      <td>Distance_km</td>\n",
       "      <td>0.444487</td>\n",
       "      <td>4.440892e-16</td>\n",
       "    </tr>\n",
       "    <tr>\n",
       "      <th>0</th>\n",
       "      <td>online_booking</td>\n",
       "      <td>0.039328</td>\n",
       "      <td>4.857226e-17</td>\n",
       "    </tr>\n",
       "    <tr>\n",
       "      <th>8</th>\n",
       "      <td>Season_Autumn</td>\n",
       "      <td>0.021622</td>\n",
       "      <td>6.938894e-18</td>\n",
       "    </tr>\n",
       "    <tr>\n",
       "      <th>1</th>\n",
       "      <td>mobile_site_booking</td>\n",
       "      <td>0.010071</td>\n",
       "      <td>8.673617e-18</td>\n",
       "    </tr>\n",
       "    <tr>\n",
       "      <th>11</th>\n",
       "      <td>Season_Summer</td>\n",
       "      <td>0.007001</td>\n",
       "      <td>4.336809e-18</td>\n",
       "    </tr>\n",
       "    <tr>\n",
       "      <th>10</th>\n",
       "      <td>Season_Spring</td>\n",
       "      <td>0.006194</td>\n",
       "      <td>2.602085e-18</td>\n",
       "    </tr>\n",
       "    <tr>\n",
       "      <th>9</th>\n",
       "      <td>Season_Monsoon</td>\n",
       "      <td>0.006072</td>\n",
       "      <td>2.602085e-18</td>\n",
       "    </tr>\n",
       "    <tr>\n",
       "      <th>12</th>\n",
       "      <td>Season_Winter</td>\n",
       "      <td>0.003908</td>\n",
       "      <td>1.734723e-18</td>\n",
       "    </tr>\n",
       "    <tr>\n",
       "      <th>6</th>\n",
       "      <td>travel_type_id_2</td>\n",
       "      <td>0.003731</td>\n",
       "      <td>4.770490e-18</td>\n",
       "    </tr>\n",
       "    <tr>\n",
       "      <th>7</th>\n",
       "      <td>travel_type_id_3</td>\n",
       "      <td>0.003370</td>\n",
       "      <td>6.505213e-18</td>\n",
       "    </tr>\n",
       "    <tr>\n",
       "      <th>4</th>\n",
       "      <td>Available_Destination</td>\n",
       "      <td>0.003259</td>\n",
       "      <td>6.505213e-18</td>\n",
       "    </tr>\n",
       "    <tr>\n",
       "      <th>5</th>\n",
       "      <td>travel_type_id_1</td>\n",
       "      <td>0.001539</td>\n",
       "      <td>0.000000e+00</td>\n",
       "    </tr>\n",
       "  </tbody>\n",
       "</table>\n",
       "</div>"
      ],
      "text/plain": [
       "                  feature  importance           std\n",
       "2            Elapsed_hour    0.449418  6.661338e-16\n",
       "3             Distance_km    0.444487  4.440892e-16\n",
       "0          online_booking    0.039328  4.857226e-17\n",
       "8           Season_Autumn    0.021622  6.938894e-18\n",
       "1     mobile_site_booking    0.010071  8.673617e-18\n",
       "11          Season_Summer    0.007001  4.336809e-18\n",
       "10          Season_Spring    0.006194  2.602085e-18\n",
       "9          Season_Monsoon    0.006072  2.602085e-18\n",
       "12          Season_Winter    0.003908  1.734723e-18\n",
       "6        travel_type_id_2    0.003731  4.770490e-18\n",
       "7        travel_type_id_3    0.003370  6.505213e-18\n",
       "4   Available_Destination    0.003259  6.505213e-18\n",
       "5        travel_type_id_1    0.001539  0.000000e+00"
      ]
     },
     "metadata": {},
     "output_type": "display_data"
    },
    {
     "data": {
      "application/javascript": [
       "\n",
       "            setTimeout(function() {\n",
       "                var nbb_cell_id = 28;\n",
       "                var nbb_unformatted_code = \"# Variable (feature) importance plot\\nimportances = R.feature_importances_\\nstd = np.std([R.feature_importances_ for tree in R.estimators_], axis=0)\\ndf = pd.DataFrame({\\\"feature\\\": X_train.columns, \\\"importance\\\": importances, \\\"std\\\": std})\\ndf = df.sort_values(\\\"importance\\\", ascending=False)\\ndisplay(df)\";\n",
       "                var nbb_formatted_code = \"# Variable (feature) importance plot\\nimportances = R.feature_importances_\\nstd = np.std([R.feature_importances_ for tree in R.estimators_], axis=0)\\ndf = pd.DataFrame({\\\"feature\\\": X_train.columns, \\\"importance\\\": importances, \\\"std\\\": std})\\ndf = df.sort_values(\\\"importance\\\", ascending=False)\\ndisplay(df)\";\n",
       "                var nbb_cells = Jupyter.notebook.get_cells();\n",
       "                for (var i = 0; i < nbb_cells.length; ++i) {\n",
       "                    if (nbb_cells[i].input_prompt_number == nbb_cell_id) {\n",
       "                        if (nbb_cells[i].get_text() == nbb_unformatted_code) {\n",
       "                             nbb_cells[i].set_text(nbb_formatted_code);\n",
       "                        }\n",
       "                        break;\n",
       "                    }\n",
       "                }\n",
       "            }, 500);\n",
       "            "
      ],
      "text/plain": [
       "<IPython.core.display.Javascript object>"
      ]
     },
     "metadata": {},
     "output_type": "display_data"
    }
   ],
   "source": [
    "# Variable (feature) importance plot\n",
    "importances = R.feature_importances_\n",
    "std = np.std([R.feature_importances_ for tree in R.estimators_], axis=0)\n",
    "df = pd.DataFrame({\"feature\": X_train.columns, \"importance\": importances, \"std\": std})\n",
    "df = df.sort_values(\"importance\", ascending=False)\n",
    "display(df)"
   ]
  },
  {
   "cell_type": "code",
   "execution_count": 29,
   "metadata": {},
   "outputs": [
    {
     "data": {
      "text/plain": [
       "Text(0, 0.5, '')"
      ]
     },
     "execution_count": 29,
     "metadata": {},
     "output_type": "execute_result"
    },
    {
     "data": {
      "image/png": "[encoded data removed]",
      "text/plain": [
       "<Figure size 432x288 with 1 Axes>"
      ]
     },
     "metadata": {
      "needs_background": "light"
     },
     "output_type": "display_data"
    },
    {
     "data": {
      "application/javascript": [
       "\n",
       "            setTimeout(function() {\n",
       "                var nbb_cell_id = 29;\n",
       "                var nbb_unformatted_code = \"ax = df.plot(kind=\\\"barh\\\", xerr=\\\"std\\\", x=\\\"feature\\\", legend=False)\\nax.set_ylabel(\\\"\\\")\";\n",
       "                var nbb_formatted_code = \"ax = df.plot(kind=\\\"barh\\\", xerr=\\\"std\\\", x=\\\"feature\\\", legend=False)\\nax.set_ylabel(\\\"\\\")\";\n",
       "                var nbb_cells = Jupyter.notebook.get_cells();\n",
       "                for (var i = 0; i < nbb_cells.length; ++i) {\n",
       "                    if (nbb_cells[i].input_prompt_number == nbb_cell_id) {\n",
       "                        if (nbb_cells[i].get_text() == nbb_unformatted_code) {\n",
       "                             nbb_cells[i].set_text(nbb_formatted_code);\n",
       "                        }\n",
       "                        break;\n",
       "                    }\n",
       "                }\n",
       "            }, 500);\n",
       "            "
      ],
      "text/plain": [
       "<IPython.core.display.Javascript object>"
      ]
     },
     "metadata": {},
     "output_type": "display_data"
    }
   ],
   "source": [
    "ax = df.plot(kind=\"barh\", xerr=\"std\", x=\"feature\", legend=False)\n",
    "ax.set_ylabel(\"\")"
   ]
  },
  {
   "cell_type": "markdown",
   "metadata": {},
   "source": [
    "<div class=\"alert alert-warning\">\n",
    "  <strong>*</strong> Similar to the decision tree, the random forest classifier had time and distance had equally (and most impact) on the model. Online booking and the autumn season had a slight importance rating, while everything else had an insignificant impact on the model. \n",
    "</div>"
   ]
  },
  {
   "cell_type": "markdown",
   "metadata": {},
   "source": [
    "**Logistic Regression CV**"
   ]
  },
  {
   "cell_type": "code",
   "execution_count": 30,
   "metadata": {
    "scrolled": false
   },
   "outputs": [
    {
     "name": "stdout",
     "output_type": "stream",
     "text": [
      "intercept  -4.153662268094669\n"
     ]
    },
    {
     "data": {
      "text/html": [
       "<div>\n",
       "<style scoped>\n",
       "    .dataframe tbody tr th:only-of-type {\n",
       "        vertical-align: middle;\n",
       "    }\n",
       "\n",
       "    .dataframe tbody tr th {\n",
       "        vertical-align: top;\n",
       "    }\n",
       "\n",
       "    .dataframe thead th {\n",
       "        text-align: right;\n",
       "    }\n",
       "</style>\n",
       "<table border=\"1\" class=\"dataframe\">\n",
       "  <thead>\n",
       "    <tr style=\"text-align: right;\">\n",
       "      <th></th>\n",
       "      <th>Predictor</th>\n",
       "      <th>coefficient</th>\n",
       "    </tr>\n",
       "  </thead>\n",
       "  <tbody>\n",
       "    <tr>\n",
       "      <th>0</th>\n",
       "      <td>online_booking</td>\n",
       "      <td>1.444388</td>\n",
       "    </tr>\n",
       "    <tr>\n",
       "      <th>1</th>\n",
       "      <td>mobile_site_booking</td>\n",
       "      <td>1.471632</td>\n",
       "    </tr>\n",
       "    <tr>\n",
       "      <th>2</th>\n",
       "      <td>Elapsed_hour</td>\n",
       "      <td>-0.291948</td>\n",
       "    </tr>\n",
       "    <tr>\n",
       "      <th>3</th>\n",
       "      <td>Distance_km</td>\n",
       "      <td>-0.643759</td>\n",
       "    </tr>\n",
       "    <tr>\n",
       "      <th>4</th>\n",
       "      <td>Available_Destination</td>\n",
       "      <td>-0.397003</td>\n",
       "    </tr>\n",
       "    <tr>\n",
       "      <th>5</th>\n",
       "      <td>travel_type_id_1</td>\n",
       "      <td>-0.431076</td>\n",
       "    </tr>\n",
       "    <tr>\n",
       "      <th>6</th>\n",
       "      <td>travel_type_id_2</td>\n",
       "      <td>0.047966</td>\n",
       "    </tr>\n",
       "    <tr>\n",
       "      <th>7</th>\n",
       "      <td>travel_type_id_3</td>\n",
       "      <td>0.000000</td>\n",
       "    </tr>\n",
       "    <tr>\n",
       "      <th>8</th>\n",
       "      <td>Season_Autumn</td>\n",
       "      <td>1.443636</td>\n",
       "    </tr>\n",
       "    <tr>\n",
       "      <th>9</th>\n",
       "      <td>Season_Monsoon</td>\n",
       "      <td>0.000000</td>\n",
       "    </tr>\n",
       "    <tr>\n",
       "      <th>10</th>\n",
       "      <td>Season_Spring</td>\n",
       "      <td>-0.522199</td>\n",
       "    </tr>\n",
       "    <tr>\n",
       "      <th>11</th>\n",
       "      <td>Season_Summer</td>\n",
       "      <td>0.811526</td>\n",
       "    </tr>\n",
       "    <tr>\n",
       "      <th>12</th>\n",
       "      <td>Season_Winter</td>\n",
       "      <td>-1.214164</td>\n",
       "    </tr>\n",
       "  </tbody>\n",
       "</table>\n",
       "</div>"
      ],
      "text/plain": [
       "                Predictor  coefficient\n",
       "0          online_booking     1.444388\n",
       "1     mobile_site_booking     1.471632\n",
       "2            Elapsed_hour    -0.291948\n",
       "3             Distance_km    -0.643759\n",
       "4   Available_Destination    -0.397003\n",
       "5        travel_type_id_1    -0.431076\n",
       "6        travel_type_id_2     0.047966\n",
       "7        travel_type_id_3     0.000000\n",
       "8           Season_Autumn     1.443636\n",
       "9          Season_Monsoon     0.000000\n",
       "10          Season_Spring    -0.522199\n",
       "11          Season_Summer     0.811526\n",
       "12          Season_Winter    -1.214164"
      ]
     },
     "metadata": {},
     "output_type": "display_data"
    },
    {
     "name": "stdout",
     "output_type": "stream",
     "text": [
      "\n",
      "Regression statistics\n",
      "\n",
      "               Mean Error (ME) : 0.0727\n",
      "Root Mean Squared Error (RMSE) : 0.2711\n",
      "     Mean Absolute Error (MAE) : 0.0735\n"
     ]
    },
    {
     "data": {
      "text/plain": [
       "None"
      ]
     },
     "metadata": {},
     "output_type": "display_data"
    },
    {
     "data": {
      "application/javascript": [
       "\n",
       "            setTimeout(function() {\n",
       "                var nbb_cell_id = 30;\n",
       "                var nbb_unformatted_code = \"# Logistic Regression\\nlogit_full = LogisticRegressionCV(penalty=\\\"l1\\\", cv=5, max_iter=1000, solver=\\\"saga\\\")\\nlogit_full.fit(X_train, y_train)\\n\\n# print coefficients\\nlist_full = pd.DataFrame(\\n    {\\\"Predictor\\\": X_train.columns, \\\"coefficient\\\": logit_full.coef_[0]}\\n)\\nprint(\\\"intercept \\\", logit_full.intercept_[0])\\ndisplay(list_full)\\n\\n# print performance measures\\ndisplay(regressionSummary(y_train, logit_full.predict(X_train)))\";\n",
       "                var nbb_formatted_code = \"# Logistic Regression\\nlogit_full = LogisticRegressionCV(penalty=\\\"l1\\\", cv=5, max_iter=1000, solver=\\\"saga\\\")\\nlogit_full.fit(X_train, y_train)\\n\\n# print coefficients\\nlist_full = pd.DataFrame(\\n    {\\\"Predictor\\\": X_train.columns, \\\"coefficient\\\": logit_full.coef_[0]}\\n)\\nprint(\\\"intercept \\\", logit_full.intercept_[0])\\ndisplay(list_full)\\n\\n# print performance measures\\ndisplay(regressionSummary(y_train, logit_full.predict(X_train)))\";\n",
       "                var nbb_cells = Jupyter.notebook.get_cells();\n",
       "                for (var i = 0; i < nbb_cells.length; ++i) {\n",
       "                    if (nbb_cells[i].input_prompt_number == nbb_cell_id) {\n",
       "                        if (nbb_cells[i].get_text() == nbb_unformatted_code) {\n",
       "                             nbb_cells[i].set_text(nbb_formatted_code);\n",
       "                        }\n",
       "                        break;\n",
       "                    }\n",
       "                }\n",
       "            }, 500);\n",
       "            "
      ],
      "text/plain": [
       "<IPython.core.display.Javascript object>"
      ]
     },
     "metadata": {},
     "output_type": "display_data"
    }
   ],
   "source": [
    "# Logistic Regression\n",
    "logit_full = LogisticRegressionCV(penalty=\"l1\", cv=5, max_iter=1000, solver=\"saga\")\n",
    "logit_full.fit(X_train, y_train)\n",
    "\n",
    "# print coefficients\n",
    "list_full = pd.DataFrame(\n",
    "    {\"Predictor\": X_train.columns, \"coefficient\": logit_full.coef_[0]}\n",
    ")\n",
    "print(\"intercept \", logit_full.intercept_[0])\n",
    "display(list_full)\n",
    "\n",
    "# print performance measures\n",
    "display(regressionSummary(y_train, logit_full.predict(X_train)))"
   ]
  },
  {
   "cell_type": "markdown",
   "metadata": {},
   "source": [
    "In order to prevent overfitting, predictor coefficient values less than 0.6 were deemed insignificant to the model and therefore removed in order to compute logistic regression with a reduced set of predictors."
   ]
  },
  {
   "cell_type": "markdown",
   "metadata": {},
   "source": [
    "**Reduced Predictors Logistic Regression CV**"
   ]
  },
  {
   "cell_type": "code",
   "execution_count": 31,
   "metadata": {
    "scrolled": false
   },
   "outputs": [
    {
     "name": "stdout",
     "output_type": "stream",
     "text": [
      "intercept  -2.5331267951170258\n"
     ]
    },
    {
     "data": {
      "text/html": [
       "<div>\n",
       "<style scoped>\n",
       "    .dataframe tbody tr th:only-of-type {\n",
       "        vertical-align: middle;\n",
       "    }\n",
       "\n",
       "    .dataframe tbody tr th {\n",
       "        vertical-align: top;\n",
       "    }\n",
       "\n",
       "    .dataframe thead th {\n",
       "        text-align: right;\n",
       "    }\n",
       "</style>\n",
       "<table border=\"1\" class=\"dataframe\">\n",
       "  <thead>\n",
       "    <tr style=\"text-align: right;\">\n",
       "      <th></th>\n",
       "      <th>Predictor</th>\n",
       "      <th>coefficient</th>\n",
       "    </tr>\n",
       "  </thead>\n",
       "  <tbody>\n",
       "    <tr>\n",
       "      <th>0</th>\n",
       "      <td>online_booking</td>\n",
       "      <td>0.015311</td>\n",
       "    </tr>\n",
       "    <tr>\n",
       "      <th>1</th>\n",
       "      <td>mobile_site_booking</td>\n",
       "      <td>0.002535</td>\n",
       "    </tr>\n",
       "    <tr>\n",
       "      <th>2</th>\n",
       "      <td>Distance_km</td>\n",
       "      <td>-0.024719</td>\n",
       "    </tr>\n",
       "    <tr>\n",
       "      <th>3</th>\n",
       "      <td>Season_Autumn</td>\n",
       "      <td>0.013812</td>\n",
       "    </tr>\n",
       "    <tr>\n",
       "      <th>4</th>\n",
       "      <td>Season_Summer</td>\n",
       "      <td>0.001883</td>\n",
       "    </tr>\n",
       "    <tr>\n",
       "      <th>5</th>\n",
       "      <td>Season_Winter</td>\n",
       "      <td>-0.003694</td>\n",
       "    </tr>\n",
       "  </tbody>\n",
       "</table>\n",
       "</div>"
      ],
      "text/plain": [
       "             Predictor  coefficient\n",
       "0       online_booking     0.015311\n",
       "1  mobile_site_booking     0.002535\n",
       "2          Distance_km    -0.024719\n",
       "3        Season_Autumn     0.013812\n",
       "4        Season_Summer     0.001883\n",
       "5        Season_Winter    -0.003694"
      ]
     },
     "metadata": {},
     "output_type": "display_data"
    },
    {
     "name": "stdout",
     "output_type": "stream",
     "text": [
      "\n",
      "Regression statistics\n",
      "\n",
      "               Mean Error (ME) : 0.0742\n",
      "Root Mean Squared Error (RMSE) : 0.2725\n",
      "     Mean Absolute Error (MAE) : 0.0742\n"
     ]
    },
    {
     "data": {
      "text/plain": [
       "None"
      ]
     },
     "metadata": {},
     "output_type": "display_data"
    },
    {
     "data": {
      "application/javascript": [
       "\n",
       "            setTimeout(function() {\n",
       "                var nbb_cell_id = 31;\n",
       "                var nbb_unformatted_code = \"# Select Subset based on Logistic Regression CV coefficients\\nlist_full[\\\"coefficient\\\"] = list_full[\\\"coefficient\\\"].abs()\\nreduced_list = list_full[list_full[\\\"coefficient\\\"] >= 0.6]\\npredictors = reduced_list[\\\"Predictor\\\"].unique()\\n\\n\\n# Logistic Regression\\nlogit_red = LogisticRegressionCV(penalty=\\\"l2\\\", cv=5, max_iter=1000)\\nlogit_red.fit(X_train[predictors], y_train)\\n\\n# print coefficients\\nlist_red = pd.DataFrame(\\n    {\\\"Predictor\\\": X_train[predictors].columns, \\\"coefficient\\\": logit_red.coef_[0]}\\n)\\nprint(\\\"intercept \\\", logit_red.intercept_[0])\\ndisplay(list_red)\\n\\n# print performance measures\\ndisplay(regressionSummary(y_train, logit_red.predict(X_train[predictors])))\\n\\nlogit_red_pred = logit_red.predict_proba(X_train[predictors])\\nred_result = pd.DataFrame(\\n    {\\n        \\\"actual\\\": y_train,\\n        \\\"p(0)\\\": [p[0] for p in logit_red_pred],\\n        \\\"p(1)\\\": [p[1] for p in logit_red_pred],\\n        \\\"predicted\\\": logit_red.predict(X_train[predictors]),\\n    }\\n)\\nred_result = red_result.sort_values(by=[\\\"p(1)\\\"], ascending=False)\";\n",
       "                var nbb_formatted_code = \"# Select Subset based on Logistic Regression CV coefficients\\nlist_full[\\\"coefficient\\\"] = list_full[\\\"coefficient\\\"].abs()\\nreduced_list = list_full[list_full[\\\"coefficient\\\"] >= 0.6]\\npredictors = reduced_list[\\\"Predictor\\\"].unique()\\n\\n\\n# Logistic Regression\\nlogit_red = LogisticRegressionCV(penalty=\\\"l2\\\", cv=5, max_iter=1000)\\nlogit_red.fit(X_train[predictors], y_train)\\n\\n# print coefficients\\nlist_red = pd.DataFrame(\\n    {\\\"Predictor\\\": X_train[predictors].columns, \\\"coefficient\\\": logit_red.coef_[0]}\\n)\\nprint(\\\"intercept \\\", logit_red.intercept_[0])\\ndisplay(list_red)\\n\\n# print performance measures\\ndisplay(regressionSummary(y_train, logit_red.predict(X_train[predictors])))\\n\\nlogit_red_pred = logit_red.predict_proba(X_train[predictors])\\nred_result = pd.DataFrame(\\n    {\\n        \\\"actual\\\": y_train,\\n        \\\"p(0)\\\": [p[0] for p in logit_red_pred],\\n        \\\"p(1)\\\": [p[1] for p in logit_red_pred],\\n        \\\"predicted\\\": logit_red.predict(X_train[predictors]),\\n    }\\n)\\nred_result = red_result.sort_values(by=[\\\"p(1)\\\"], ascending=False)\";\n",
       "                var nbb_cells = Jupyter.notebook.get_cells();\n",
       "                for (var i = 0; i < nbb_cells.length; ++i) {\n",
       "                    if (nbb_cells[i].input_prompt_number == nbb_cell_id) {\n",
       "                        if (nbb_cells[i].get_text() == nbb_unformatted_code) {\n",
       "                             nbb_cells[i].set_text(nbb_formatted_code);\n",
       "                        }\n",
       "                        break;\n",
       "                    }\n",
       "                }\n",
       "            }, 500);\n",
       "            "
      ],
      "text/plain": [
       "<IPython.core.display.Javascript object>"
      ]
     },
     "metadata": {},
     "output_type": "display_data"
    }
   ],
   "source": [
    "# Select Subset based on Logistic Regression CV coefficients\n",
    "list_full[\"coefficient\"] = list_full[\"coefficient\"].abs()\n",
    "reduced_list = list_full[list_full[\"coefficient\"] >= 0.6]\n",
    "predictors = reduced_list[\"Predictor\"].unique()\n",
    "\n",
    "\n",
    "# Logistic Regression\n",
    "logit_red = LogisticRegressionCV(penalty=\"l2\", cv=5, max_iter=1000)\n",
    "logit_red.fit(X_train[predictors], y_train)\n",
    "\n",
    "# print coefficients\n",
    "list_red = pd.DataFrame(\n",
    "    {\"Predictor\": X_train[predictors].columns, \"coefficient\": logit_red.coef_[0]}\n",
    ")\n",
    "print(\"intercept \", logit_red.intercept_[0])\n",
    "display(list_red)\n",
    "\n",
    "# print performance measures\n",
    "display(regressionSummary(y_train, logit_red.predict(X_train[predictors])))\n",
    "\n",
    "logit_red_pred = logit_red.predict_proba(X_train[predictors])\n",
    "red_result = pd.DataFrame(\n",
    "    {\n",
    "        \"actual\": y_train,\n",
    "        \"p(0)\": [p[0] for p in logit_red_pred],\n",
    "        \"p(1)\": [p[1] for p in logit_red_pred],\n",
    "        \"predicted\": logit_red.predict(X_train[predictors]),\n",
    "    }\n",
    ")\n",
    "red_result = red_result.sort_values(by=[\"p(1)\"], ascending=False)"
   ]
  },
  {
   "cell_type": "markdown",
   "metadata": {},
   "source": [
    "<div class=\"alert alert-warning\">\n",
    "  <strong>*</strong> The predictors above are the features that were considered important enough to use in the reduced logistic regression model. Furthermore, distance, the autumn season, and online booking had the most impact for the reduced predictor  model. However, it is interesting to note that the time variable ‘elapsed_hour’ was not considered relative to the model, while all other models had time as one of the most important predictors. \n",
    "</div>"
   ]
  },
  {
   "cell_type": "markdown",
   "metadata": {},
   "source": [
    "_Further investigation of the two most important predictors (Distance and Time)"
   ]
  },
  {
   "cell_type": "code",
   "execution_count": 32,
   "metadata": {
    "scrolled": true
   },
   "outputs": [
    {
     "data": {
      "application/javascript": [
       "\n",
       "            setTimeout(function() {\n",
       "                var nbb_cell_id = 32;\n",
       "                var nbb_unformatted_code = \"# Copy Df\\ndf = taxi_df.copy()\";\n",
       "                var nbb_formatted_code = \"# Copy Df\\ndf = taxi_df.copy()\";\n",
       "                var nbb_cells = Jupyter.notebook.get_cells();\n",
       "                for (var i = 0; i < nbb_cells.length; ++i) {\n",
       "                    if (nbb_cells[i].input_prompt_number == nbb_cell_id) {\n",
       "                        if (nbb_cells[i].get_text() == nbb_unformatted_code) {\n",
       "                             nbb_cells[i].set_text(nbb_formatted_code);\n",
       "                        }\n",
       "                        break;\n",
       "                    }\n",
       "                }\n",
       "            }, 500);\n",
       "            "
      ],
      "text/plain": [
       "<IPython.core.display.Javascript object>"
      ]
     },
     "metadata": {},
     "output_type": "display_data"
    }
   ],
   "source": [
    "# Copy Df\n",
    "df = taxi_df.copy()"
   ]
  },
  {
   "cell_type": "code",
   "execution_count": 33,
   "metadata": {},
   "outputs": [
    {
     "data": {
      "text/plain": [
       "<matplotlib.legend.Legend at 0x7fc30c948cd0>"
      ]
     },
     "execution_count": 33,
     "metadata": {},
     "output_type": "execute_result"
    },
    {
     "data": {
      "image/png": "[encoded data removed]",
      "text/plain": [
       "<Figure size 432x288 with 1 Axes>"
      ]
     },
     "metadata": {
      "needs_background": "light"
     },
     "output_type": "display_data"
    },
    {
     "data": {
      "application/javascript": [
       "\n",
       "            setTimeout(function() {\n",
       "                var nbb_cell_id = 33;\n",
       "                var nbb_unformatted_code = \"# plot Distance vs. Time\\nfig, ax = plt.subplots()\\n\\nsubset = df.loc[df['Car_Cancellation']== 0]\\nax.scatter(subset.Distance_km, subset.Elapsed_hour, marker='o', label='Car_Cancellation=No')\\n\\nsubset1 = df.loc[df['Car_Cancellation']== 1]\\nax.scatter(subset1.Distance_km, subset1.Elapsed_hour, marker='D', label='Car_Cancellation=Yes')\\n\\nplt.xlabel('Distance(KM)')  # set x-axis label\\nplt.ylabel('Time(hr)')  # set y-axis label\\n    \\nhandles, labels = ax.get_legend_handles_labels()\\nax.legend(handles, labels)\";\n",
       "                var nbb_formatted_code = \"# plot Distance vs. Time\\nfig, ax = plt.subplots()\\n\\nsubset = df.loc[df[\\\"Car_Cancellation\\\"] == 0]\\nax.scatter(\\n    subset.Distance_km, subset.Elapsed_hour, marker=\\\"o\\\", label=\\\"Car_Cancellation=No\\\"\\n)\\n\\nsubset1 = df.loc[df[\\\"Car_Cancellation\\\"] == 1]\\nax.scatter(\\n    subset1.Distance_km, subset1.Elapsed_hour, marker=\\\"D\\\", label=\\\"Car_Cancellation=Yes\\\"\\n)\\n\\nplt.xlabel(\\\"Distance(KM)\\\")  # set x-axis label\\nplt.ylabel(\\\"Time(hr)\\\")  # set y-axis label\\n\\nhandles, labels = ax.get_legend_handles_labels()\\nax.legend(handles, labels)\";\n",
       "                var nbb_cells = Jupyter.notebook.get_cells();\n",
       "                for (var i = 0; i < nbb_cells.length; ++i) {\n",
       "                    if (nbb_cells[i].input_prompt_number == nbb_cell_id) {\n",
       "                        if (nbb_cells[i].get_text() == nbb_unformatted_code) {\n",
       "                             nbb_cells[i].set_text(nbb_formatted_code);\n",
       "                        }\n",
       "                        break;\n",
       "                    }\n",
       "                }\n",
       "            }, 500);\n",
       "            "
      ],
      "text/plain": [
       "<IPython.core.display.Javascript object>"
      ]
     },
     "metadata": {},
     "output_type": "display_data"
    }
   ],
   "source": [
    "# plot Distance vs. Time\n",
    "fig, ax = plt.subplots()\n",
    "\n",
    "subset = df.loc[df[\"Car_Cancellation\"] == 0]\n",
    "ax.scatter(\n",
    "    subset.Distance_km, subset.Elapsed_hour, marker=\"o\", label=\"Car_Cancellation=No\"\n",
    ")\n",
    "\n",
    "subset1 = df.loc[df[\"Car_Cancellation\"] == 1]\n",
    "ax.scatter(\n",
    "    subset1.Distance_km, subset1.Elapsed_hour, marker=\"D\", label=\"Car_Cancellation=Yes\"\n",
    ")\n",
    "\n",
    "plt.xlabel(\"Distance(KM)\")  # set x-axis label\n",
    "plt.ylabel(\"Time(hr)\")  # set y-axis label\n",
    "\n",
    "handles, labels = ax.get_legend_handles_labels()\n",
    "ax.legend(handles, labels)"
   ]
  },
  {
   "cell_type": "markdown",
   "metadata": {},
   "source": [
    "From the scatterplot, we can see that there shorter distance trips and time in between booking and trip date leads to more cancellations."
   ]
  },
  {
   "cell_type": "markdown",
   "metadata": {},
   "source": [
    "<div class=\"alert alert-success\">\n",
    "  <b>A.4:</b> Overall, the models above provided insight to what kind of features are important to cancellations. Almost all models indicated that distance and time predictors are heavily related to car cancellations. Predictors like online booking, mobile booking, and season influenced the model’s predictions, but are considered relatively insignificant to the distance and time predictors. \n",
    "</div>"
   ]
  },
  {
   "cell_type": "markdown",
   "metadata": {},
   "source": [
    "<div class=\"alert alert-block alert-info\">\n",
    "<strong>5:</strong> Report the predictive performance of your model in terms of error rates (the confusion matrix). How well does the model perform? Can the model be used in practice?\n",
    "</div>"
   ]
  },
  {
   "cell_type": "code",
   "execution_count": 34,
   "metadata": {
    "scrolled": true
   },
   "outputs": [
    {
     "name": "stdout",
     "output_type": "stream",
     "text": [
      "- Full Logistic Regression - Training Confustion Matrix -\n",
      "Confusion Matrix (Accuracy 0.9265)\n",
      "\n",
      "       Prediction\n",
      "Actual    0    1\n",
      "     0 7403    3\n",
      "     1  585    9\n",
      "- Full Logistic Regression - Validation Set Confustion Matrix -\n",
      "Confusion Matrix (Accuracy 0.9265)\n",
      "\n",
      "       Prediction\n",
      "Actual    0    1\n",
      "     0 1850    1\n",
      "     1  146    3\n"
     ]
    },
    {
     "data": {
      "application/javascript": [
       "\n",
       "            setTimeout(function() {\n",
       "                var nbb_cell_id = 34;\n",
       "                var nbb_unformatted_code = \"# confusion matrix\\nprint(\\\"- Full Logistic Regression - Training Confustion Matrix -\\\")\\nclassificationSummary(y_train, logit_full.predict(X_train))\\nprint(\\\"- Full Logistic Regression - Validation Set Confustion Matrix -\\\")\\nclassificationSummary(y_valid, logit_full.predict(X_valid))\";\n",
       "                var nbb_formatted_code = \"# confusion matrix\\nprint(\\\"- Full Logistic Regression - Training Confustion Matrix -\\\")\\nclassificationSummary(y_train, logit_full.predict(X_train))\\nprint(\\\"- Full Logistic Regression - Validation Set Confustion Matrix -\\\")\\nclassificationSummary(y_valid, logit_full.predict(X_valid))\";\n",
       "                var nbb_cells = Jupyter.notebook.get_cells();\n",
       "                for (var i = 0; i < nbb_cells.length; ++i) {\n",
       "                    if (nbb_cells[i].input_prompt_number == nbb_cell_id) {\n",
       "                        if (nbb_cells[i].get_text() == nbb_unformatted_code) {\n",
       "                             nbb_cells[i].set_text(nbb_formatted_code);\n",
       "                        }\n",
       "                        break;\n",
       "                    }\n",
       "                }\n",
       "            }, 500);\n",
       "            "
      ],
      "text/plain": [
       "<IPython.core.display.Javascript object>"
      ]
     },
     "metadata": {},
     "output_type": "display_data"
    }
   ],
   "source": [
    "# confusion matrix\n",
    "print(\"- Full Logistic Regression - Training Confustion Matrix -\")\n",
    "classificationSummary(y_train, logit_full.predict(X_train))\n",
    "print(\"- Full Logistic Regression - Validation Set Confustion Matrix -\")\n",
    "classificationSummary(y_valid, logit_full.predict(X_valid))"
   ]
  },
  {
   "cell_type": "markdown",
   "metadata": {},
   "source": [
    "<div class=\"alert alert-warning\">\n",
    "  <strong>*</strong> Logistic regression with the full set of predictors yielded the same accuracy of 92.65% for both the training and validation set. However, the model classifies almost all of the predictions as ‘no cancellations’. Because of this, the accuracy is high since there are vastly more no cancellations than cancellations. Therefore in terms of trying to predict cancellations, this model should not be used in practice. \n",
    "</div>"
   ]
  },
  {
   "cell_type": "code",
   "execution_count": 35,
   "metadata": {
    "scrolled": true
   },
   "outputs": [
    {
     "name": "stdout",
     "output_type": "stream",
     "text": [
      "- Reduced Logistic Regression - Training Set Confustion Matrix -\n",
      "Confusion Matrix (Accuracy 0.9257)\n",
      "\n",
      "       Prediction\n",
      "Actual    0    1\n",
      "     0 7406    0\n",
      "     1  594    0\n",
      "- Reduced Logistic Regression -  Validation Set Confustion Matrix -\n",
      "Confusion Matrix (Accuracy 0.9255)\n",
      "\n",
      "       Prediction\n",
      "Actual    0    1\n",
      "     0 1851    0\n",
      "     1  149    0\n"
     ]
    },
    {
     "data": {
      "application/javascript": [
       "\n",
       "            setTimeout(function() {\n",
       "                var nbb_cell_id = 35;\n",
       "                var nbb_unformatted_code = \"# confusion matrix\\nprint(\\\"- Reduced Logistic Regression - Training Set Confustion Matrix -\\\")\\nclassificationSummary(y_train, logit_red.predict(X_train[predictors]))\\nprint(\\\"- Reduced Logistic Regression -  Validation Set Confustion Matrix -\\\")\\nclassificationSummary(y_valid, logit_red.predict(X_valid[predictors]))\";\n",
       "                var nbb_formatted_code = \"# confusion matrix\\nprint(\\\"- Reduced Logistic Regression - Training Set Confustion Matrix -\\\")\\nclassificationSummary(y_train, logit_red.predict(X_train[predictors]))\\nprint(\\\"- Reduced Logistic Regression -  Validation Set Confustion Matrix -\\\")\\nclassificationSummary(y_valid, logit_red.predict(X_valid[predictors]))\";\n",
       "                var nbb_cells = Jupyter.notebook.get_cells();\n",
       "                for (var i = 0; i < nbb_cells.length; ++i) {\n",
       "                    if (nbb_cells[i].input_prompt_number == nbb_cell_id) {\n",
       "                        if (nbb_cells[i].get_text() == nbb_unformatted_code) {\n",
       "                             nbb_cells[i].set_text(nbb_formatted_code);\n",
       "                        }\n",
       "                        break;\n",
       "                    }\n",
       "                }\n",
       "            }, 500);\n",
       "            "
      ],
      "text/plain": [
       "<IPython.core.display.Javascript object>"
      ]
     },
     "metadata": {},
     "output_type": "display_data"
    }
   ],
   "source": [
    "# confusion matrix\n",
    "print(\"- Reduced Logistic Regression - Training Set Confustion Matrix -\")\n",
    "classificationSummary(y_train, logit_red.predict(X_train[predictors]))\n",
    "print(\"- Reduced Logistic Regression -  Validation Set Confustion Matrix -\")\n",
    "classificationSummary(y_valid, logit_red.predict(X_valid[predictors]))"
   ]
  },
  {
   "cell_type": "markdown",
   "metadata": {},
   "source": [
    "<div class=\"alert alert-warning\">\n",
    "  <strong>*</strong> Logistic regression with the reduced set of predictors yielded an accuracy of 92.55% for the validation set. Similar to the full predictor model, this model classifies all of the predictions as ‘no cancellations’. In terms of trying to predict cancellations, this model should not be used in practice. \n",
    "</div>"
   ]
  },
  {
   "cell_type": "code",
   "execution_count": 36,
   "metadata": {
    "scrolled": true
   },
   "outputs": [
    {
     "name": "stdout",
     "output_type": "stream",
     "text": [
      "- KNeighbors - Training Set Confusion matrix\n",
      "\n",
      "Confusion Matrix (Accuracy 0.9970)\n",
      "\n",
      "       Prediction\n",
      "Actual    0    1\n",
      "     0 7394   12\n",
      "     1   12  582\n",
      "\n",
      "- KNeighbors - Validation Set Confusion matrix\n",
      "\n",
      "Confusion Matrix (Accuracy 0.8770)\n",
      "\n",
      "       Prediction\n",
      "Actual    0    1\n",
      "     0 1722  129\n",
      "     1  117   32\n"
     ]
    },
    {
     "data": {
      "application/javascript": [
       "\n",
       "            setTimeout(function() {\n",
       "                var nbb_cell_id = 36;\n",
       "                var nbb_unformatted_code = \"print(\\\"- KNeighbors - Training Set Confusion matrix\\\\n\\\")\\nclassificationSummary(y_train, k_pred_t)\\nprint(\\\"\\\\n- KNeighbors - Validation Set Confusion matrix\\\\n\\\")\\nclassificationSummary(y_valid, k_pred_v)\";\n",
       "                var nbb_formatted_code = \"print(\\\"- KNeighbors - Training Set Confusion matrix\\\\n\\\")\\nclassificationSummary(y_train, k_pred_t)\\nprint(\\\"\\\\n- KNeighbors - Validation Set Confusion matrix\\\\n\\\")\\nclassificationSummary(y_valid, k_pred_v)\";\n",
       "                var nbb_cells = Jupyter.notebook.get_cells();\n",
       "                for (var i = 0; i < nbb_cells.length; ++i) {\n",
       "                    if (nbb_cells[i].input_prompt_number == nbb_cell_id) {\n",
       "                        if (nbb_cells[i].get_text() == nbb_unformatted_code) {\n",
       "                             nbb_cells[i].set_text(nbb_formatted_code);\n",
       "                        }\n",
       "                        break;\n",
       "                    }\n",
       "                }\n",
       "            }, 500);\n",
       "            "
      ],
      "text/plain": [
       "<IPython.core.display.Javascript object>"
      ]
     },
     "metadata": {},
     "output_type": "display_data"
    }
   ],
   "source": [
    "print(\"- KNeighbors - Training Set Confusion matrix\\n\")\n",
    "classificationSummary(y_train, k_pred_t)\n",
    "print(\"\\n- KNeighbors - Validation Set Confusion matrix\\n\")\n",
    "classificationSummary(y_valid, k_pred_v)"
   ]
  },
  {
   "cell_type": "markdown",
   "metadata": {},
   "source": [
    "<div class=\"alert alert-warning\">\n",
    "  <strong>*</strong>  K-Neighbor classifier had a training accuracy of 99.7% which indicates that the model may be overfitted. The validation set had an accuracy of 87.70% which is slightly lower than the logistic regression model. However, the model appears to correctly classify cancellations which is an improvement to the logistic regression models. When comparing the two models, the K-Neighbors classifier works better than the logistic regression model, but still is not sufficient enough to be used in practice. \n",
    "</div>"
   ]
  },
  {
   "cell_type": "code",
   "execution_count": 37,
   "metadata": {
    "scrolled": true
   },
   "outputs": [
    {
     "name": "stdout",
     "output_type": "stream",
     "text": [
      "- Gradient Booster - Training Set Confusion matrix\n",
      "\n",
      "Confusion Matrix (Accuracy 0.9307)\n",
      "\n",
      "       Prediction\n",
      "Actual    0    1\n",
      "     0 7378   28\n",
      "     1  526   68\n",
      "\n",
      "- Gradient Booster - Validation Set Confusion matrix\n",
      "\n",
      "Confusion Matrix (Accuracy 0.9225)\n",
      "\n",
      "       Prediction\n",
      "Actual    0    1\n",
      "     0 1833   18\n",
      "     1  137   12\n"
     ]
    },
    {
     "data": {
      "application/javascript": [
       "\n",
       "            setTimeout(function() {\n",
       "                var nbb_cell_id = 37;\n",
       "                var nbb_unformatted_code = \"print(\\\"- Gradient Booster - Training Set Confusion matrix\\\\n\\\")\\nclassificationSummary(y_train, b_pred_t)\\nprint(\\\"\\\\n- Gradient Booster - Validation Set Confusion matrix\\\\n\\\")\\nclassificationSummary(y_valid, b_pred_v)\";\n",
       "                var nbb_formatted_code = \"print(\\\"- Gradient Booster - Training Set Confusion matrix\\\\n\\\")\\nclassificationSummary(y_train, b_pred_t)\\nprint(\\\"\\\\n- Gradient Booster - Validation Set Confusion matrix\\\\n\\\")\\nclassificationSummary(y_valid, b_pred_v)\";\n",
       "                var nbb_cells = Jupyter.notebook.get_cells();\n",
       "                for (var i = 0; i < nbb_cells.length; ++i) {\n",
       "                    if (nbb_cells[i].input_prompt_number == nbb_cell_id) {\n",
       "                        if (nbb_cells[i].get_text() == nbb_unformatted_code) {\n",
       "                             nbb_cells[i].set_text(nbb_formatted_code);\n",
       "                        }\n",
       "                        break;\n",
       "                    }\n",
       "                }\n",
       "            }, 500);\n",
       "            "
      ],
      "text/plain": [
       "<IPython.core.display.Javascript object>"
      ]
     },
     "metadata": {},
     "output_type": "display_data"
    }
   ],
   "source": [
    "print(\"- Gradient Booster - Training Set Confusion matrix\\n\")\n",
    "classificationSummary(y_train, b_pred_t)\n",
    "print(\"\\n- Gradient Booster - Validation Set Confusion matrix\\n\")\n",
    "classificationSummary(y_valid, b_pred_v)"
   ]
  },
  {
   "cell_type": "markdown",
   "metadata": {},
   "source": [
    "<div class=\"alert alert-warning\">\n",
    "  <strong>*</strong> The gradient boosting classifier yielded similar accuracies in both training and validation set at roughly 92.5%. The model performs better than the logistic regression, but slightly worse in classifying cancellations than the K-Neighbors classifier. Therefore, the gradient boosting classifier should not be used in practice. \n",
    "</div>"
   ]
  },
  {
   "cell_type": "code",
   "execution_count": 38,
   "metadata": {
    "scrolled": false
   },
   "outputs": [
    {
     "name": "stdout",
     "output_type": "stream",
     "text": [
      "- Random Forest - Training Set Confusion matrix\n",
      "\n",
      "Confusion Matrix (Accuracy 0.9972)\n",
      "\n",
      "       Prediction\n",
      "Actual    0    1\n",
      "     0 7401    5\n",
      "     1   17  577\n",
      "\n",
      "- Random Forest - Validation Set Confusion matrix\n",
      "\n",
      "Confusion Matrix (Accuracy 0.9095)\n",
      "\n",
      "       Prediction\n",
      "Actual    0    1\n",
      "     0 1797   54\n",
      "     1  127   22\n"
     ]
    },
    {
     "data": {
      "application/javascript": [
       "\n",
       "            setTimeout(function() {\n",
       "                var nbb_cell_id = 38;\n",
       "                var nbb_unformatted_code = \"print(\\\"- Random Forest - Training Set Confusion matrix\\\\n\\\")\\nclassificationSummary(y_train, R_pred_t)\\nprint(\\\"\\\\n- Random Forest - Validation Set Confusion matrix\\\\n\\\")\\nclassificationSummary(y_valid, R_pred_v)\";\n",
       "                var nbb_formatted_code = \"print(\\\"- Random Forest - Training Set Confusion matrix\\\\n\\\")\\nclassificationSummary(y_train, R_pred_t)\\nprint(\\\"\\\\n- Random Forest - Validation Set Confusion matrix\\\\n\\\")\\nclassificationSummary(y_valid, R_pred_v)\";\n",
       "                var nbb_cells = Jupyter.notebook.get_cells();\n",
       "                for (var i = 0; i < nbb_cells.length; ++i) {\n",
       "                    if (nbb_cells[i].input_prompt_number == nbb_cell_id) {\n",
       "                        if (nbb_cells[i].get_text() == nbb_unformatted_code) {\n",
       "                             nbb_cells[i].set_text(nbb_formatted_code);\n",
       "                        }\n",
       "                        break;\n",
       "                    }\n",
       "                }\n",
       "            }, 500);\n",
       "            "
      ],
      "text/plain": [
       "<IPython.core.display.Javascript object>"
      ]
     },
     "metadata": {},
     "output_type": "display_data"
    }
   ],
   "source": [
    "print(\"- Random Forest - Training Set Confusion matrix\\n\")\n",
    "classificationSummary(y_train, R_pred_t)\n",
    "print(\"\\n- Random Forest - Validation Set Confusion matrix\\n\")\n",
    "classificationSummary(y_valid, R_pred_v)"
   ]
  },
  {
   "cell_type": "markdown",
   "metadata": {},
   "source": [
    "<div class=\"alert alert-warning\">\n",
    "  <strong>*</strong> The random forest accuracy for the training set is 99.72% which indicates the model is possibly overfitting. Furthermore, the validation set yielded an accuracy of 90.95%. All attempts of hypertuning the model led to a decrease in accuracy when classifying cancellations.  Moreover, the model performs similarly to the K-Neighbors classifier. For these reasonings, the random forest model is not practical for implementation. \n",
    "</div>"
   ]
  },
  {
   "cell_type": "code",
   "execution_count": 39,
   "metadata": {
    "scrolled": false
   },
   "outputs": [
    {
     "name": "stdout",
     "output_type": "stream",
     "text": [
      "- Decision Tree - Training Set Confusion matrix\n",
      "\n",
      "Confusion Matrix (Accuracy 0.9972)\n",
      "\n",
      "       Prediction\n",
      "Actual    0    1\n",
      "     0 7403    3\n",
      "     1   19  575\n",
      "\n",
      "- Decision Tree - Validation Set Confusion matrix\n",
      "\n",
      "Confusion Matrix (Accuracy 0.8835)\n",
      "\n",
      "       Prediction\n",
      "Actual    0    1\n",
      "     0 1731  120\n",
      "     1  113   36\n"
     ]
    },
    {
     "data": {
      "application/javascript": [
       "\n",
       "            setTimeout(function() {\n",
       "                var nbb_cell_id = 39;\n",
       "                var nbb_unformatted_code = \"print(\\\"- Decision Tree - Training Set Confusion matrix\\\\n\\\")\\nclassificationSummary(y_train, D_pred_t)\\nprint(\\\"\\\\n- Decision Tree - Validation Set Confusion matrix\\\\n\\\")\\nclassificationSummary(y_valid, D_pred_v)\";\n",
       "                var nbb_formatted_code = \"print(\\\"- Decision Tree - Training Set Confusion matrix\\\\n\\\")\\nclassificationSummary(y_train, D_pred_t)\\nprint(\\\"\\\\n- Decision Tree - Validation Set Confusion matrix\\\\n\\\")\\nclassificationSummary(y_valid, D_pred_v)\";\n",
       "                var nbb_cells = Jupyter.notebook.get_cells();\n",
       "                for (var i = 0; i < nbb_cells.length; ++i) {\n",
       "                    if (nbb_cells[i].input_prompt_number == nbb_cell_id) {\n",
       "                        if (nbb_cells[i].get_text() == nbb_unformatted_code) {\n",
       "                             nbb_cells[i].set_text(nbb_formatted_code);\n",
       "                        }\n",
       "                        break;\n",
       "                    }\n",
       "                }\n",
       "            }, 500);\n",
       "            "
      ],
      "text/plain": [
       "<IPython.core.display.Javascript object>"
      ]
     },
     "metadata": {},
     "output_type": "display_data"
    }
   ],
   "source": [
    "print(\"- Decision Tree - Training Set Confusion matrix\\n\")\n",
    "classificationSummary(y_train, D_pred_t)\n",
    "print(\"\\n- Decision Tree - Validation Set Confusion matrix\\n\")\n",
    "classificationSummary(y_valid, D_pred_v)"
   ]
  },
  {
   "cell_type": "markdown",
   "metadata": {},
   "source": [
    "<div class=\"alert alert-warning\">\n",
    "  <strong>*</strong> Similar to random forest, the decision tree accuracy for the training set is 99.72% which indicates the model is possibly overfitting. The decision tree model outperforms all the models previously discussed in the validation set. Attempts to hypertuned the model yielded worse results for the decision tree model. However, the decision tree model still classifies most cancellations as non cancellations, making this model ineffective in practice. \n",
    "</div>"
   ]
  },
  {
   "cell_type": "code",
   "execution_count": 40,
   "metadata": {
    "scrolled": true
   },
   "outputs": [
    {
     "name": "stdout",
     "output_type": "stream",
     "text": [
      "- Gaussian Naive Bayes - Training Set Confusion matrix\n",
      "\n",
      "Confusion Matrix (Accuracy 0.7205)\n",
      "\n",
      "       Prediction\n",
      "Actual    0    1\n",
      "     0 5369 2037\n",
      "     1  199  395\n",
      "\n",
      "- Gaussian Naive Bayes - Validation Set Confusion matrix\n",
      "\n",
      "Confusion Matrix (Accuracy 0.7100)\n",
      "\n",
      "       Prediction\n",
      "Actual    0    1\n",
      "     0 1320  531\n",
      "     1   49  100\n"
     ]
    },
    {
     "data": {
      "application/javascript": [
       "\n",
       "            setTimeout(function() {\n",
       "                var nbb_cell_id = 40;\n",
       "                var nbb_unformatted_code = \"print(\\\"- Gaussian Naive Bayes - Training Set Confusion matrix\\\\n\\\")\\nclassificationSummary(y_train, nb_pred_t)\\nprint(\\\"\\\\n- Gaussian Naive Bayes - Validation Set Confusion matrix\\\\n\\\")\\nclassificationSummary(y_valid, nb_pred_v)\";\n",
       "                var nbb_formatted_code = \"print(\\\"- Gaussian Naive Bayes - Training Set Confusion matrix\\\\n\\\")\\nclassificationSummary(y_train, nb_pred_t)\\nprint(\\\"\\\\n- Gaussian Naive Bayes - Validation Set Confusion matrix\\\\n\\\")\\nclassificationSummary(y_valid, nb_pred_v)\";\n",
       "                var nbb_cells = Jupyter.notebook.get_cells();\n",
       "                for (var i = 0; i < nbb_cells.length; ++i) {\n",
       "                    if (nbb_cells[i].input_prompt_number == nbb_cell_id) {\n",
       "                        if (nbb_cells[i].get_text() == nbb_unformatted_code) {\n",
       "                             nbb_cells[i].set_text(nbb_formatted_code);\n",
       "                        }\n",
       "                        break;\n",
       "                    }\n",
       "                }\n",
       "            }, 500);\n",
       "            "
      ],
      "text/plain": [
       "<IPython.core.display.Javascript object>"
      ]
     },
     "metadata": {},
     "output_type": "display_data"
    }
   ],
   "source": [
    "print(\"- Gaussian Naive Bayes - Training Set Confusion matrix\\n\")\n",
    "classificationSummary(y_train, nb_pred_t)\n",
    "print(\"\\n- Gaussian Naive Bayes - Validation Set Confusion matrix\\n\")\n",
    "classificationSummary(y_valid, nb_pred_v)"
   ]
  },
  {
   "cell_type": "markdown",
   "metadata": {},
   "source": [
    "<div class=\"alert alert-warning\">\n",
    "  <strong>*</strong> The Gaussian Naive Bayes model has an accuracy of 72% and 71% for the training and validation set respectively. An accuracy that low indicates that the model is not overfitting but still better than classifying than a random model. However, the Gaussian Naive Bayes classifies the most cancellations accurately (much more than the other models), and is even able to classify more cancellations correctly than incorrectly. Therefore, this model is acceptable enough to be used in practice for the taxi cancellation dataset. \n",
    "</div>"
   ]
  },
  {
   "cell_type": "markdown",
   "metadata": {},
   "source": [
    "<div class=\"alert alert-success\">\n",
    "  <b>A.5:</b> Compared to every model, the Gaussian Naive Bayes model had the lowest accuracy score for both the training and validation set. However, the reasoning why the Gaussian Naive Bayes model is considered the best model for this dataset is due to the fact the model correctly identifies cancellations at a significantly higher rate than the other models used. In addition, incorrectly classifying no cancellations should be considered less important to the company than incorrectly classifying customers that classifies. Therefore, the  Gaussian Naive Bayes model is sufficient enough to be used in practice by Yourcabs.com. \n",
    "</div>"
   ]
  },
  {
   "cell_type": "markdown",
   "metadata": {},
   "source": [
    "<div class=\"alert alert-block alert-info\">\n",
    "<strong>6:</strong> Examine the predictive performance of your model in terms of ranking (lift). How well does the model perform? Can the model be used in practice?\n",
    "</div>"
   ]
  },
  {
   "cell_type": "markdown",
   "metadata": {},
   "source": [
    "The Gaussian Naive Bayes model was the only model that was practical to use by Yourcabs.com. Therefore, the gain and lift analysis will solely be done for the Gaussian Naive Bayes model."
   ]
  },
  {
   "cell_type": "markdown",
   "metadata": {},
   "source": [
    "**Gaussian Naive Bayes Classifier**"
   ]
  },
  {
   "cell_type": "code",
   "execution_count": 41,
   "metadata": {},
   "outputs": [
    {
     "data": {
      "text/plain": [
       "<AxesSubplot:xlabel='Percentile', ylabel='Lift'>"
      ]
     },
     "execution_count": 41,
     "metadata": {},
     "output_type": "execute_result"
    },
    {
     "data": {
      "image/png": "[encoded data removed]",
      "text/plain": [
       "<Figure size 720x288 with 2 Axes>"
      ]
     },
     "metadata": {
      "needs_background": "light"
     },
     "output_type": "display_data"
    },
    {
     "data": {
      "application/javascript": [
       "\n",
       "            setTimeout(function() {\n",
       "                var nbb_cell_id = 41;\n",
       "                var nbb_unformatted_code = \"# predicted probabilities for validation set\\nnb_pred_prob_v = nb.predict_proba(X_valid)\\n\\n# put it together in a data frame\\nNB_result = pd.DataFrame(\\n    {\\n        \\\"actual\\\": y_valid,\\n        \\\"p(0)\\\": [p[0] for p in nb_pred_prob_v],\\n        \\\"p(1)\\\": [p[1] for p in nb_pred_prob_v],\\n        \\\"predicted\\\": nb_pred_v,\\n    }\\n)\\n\\n# lift chart for validation set\\nNB = NB_result.sort_values(by=[\\\"p(1)\\\"], ascending=False)\\nfig, axes = plt.subplots(nrows=1, ncols=2, figsize=(10, 4))\\n\\ngainsChart(NB.actual, ax=axes[0])\\nliftChart(NB[\\\"p(1)\\\"], title=False, ax=axes[1])\";\n",
       "                var nbb_formatted_code = \"# predicted probabilities for validation set\\nnb_pred_prob_v = nb.predict_proba(X_valid)\\n\\n# put it together in a data frame\\nNB_result = pd.DataFrame(\\n    {\\n        \\\"actual\\\": y_valid,\\n        \\\"p(0)\\\": [p[0] for p in nb_pred_prob_v],\\n        \\\"p(1)\\\": [p[1] for p in nb_pred_prob_v],\\n        \\\"predicted\\\": nb_pred_v,\\n    }\\n)\\n\\n# lift chart for validation set\\nNB = NB_result.sort_values(by=[\\\"p(1)\\\"], ascending=False)\\nfig, axes = plt.subplots(nrows=1, ncols=2, figsize=(10, 4))\\n\\ngainsChart(NB.actual, ax=axes[0])\\nliftChart(NB[\\\"p(1)\\\"], title=False, ax=axes[1])\";\n",
       "                var nbb_cells = Jupyter.notebook.get_cells();\n",
       "                for (var i = 0; i < nbb_cells.length; ++i) {\n",
       "                    if (nbb_cells[i].input_prompt_number == nbb_cell_id) {\n",
       "                        if (nbb_cells[i].get_text() == nbb_unformatted_code) {\n",
       "                             nbb_cells[i].set_text(nbb_formatted_code);\n",
       "                        }\n",
       "                        break;\n",
       "                    }\n",
       "                }\n",
       "            }, 500);\n",
       "            "
      ],
      "text/plain": [
       "<IPython.core.display.Javascript object>"
      ]
     },
     "metadata": {},
     "output_type": "display_data"
    }
   ],
   "source": [
    "# predicted probabilities for validation set\n",
    "nb_pred_prob_v = nb.predict_proba(X_valid)\n",
    "\n",
    "# put it together in a data frame\n",
    "NB_result = pd.DataFrame(\n",
    "    {\n",
    "        \"actual\": y_valid,\n",
    "        \"p(0)\": [p[0] for p in nb_pred_prob_v],\n",
    "        \"p(1)\": [p[1] for p in nb_pred_prob_v],\n",
    "        \"predicted\": nb_pred_v,\n",
    "    }\n",
    ")\n",
    "\n",
    "# lift chart for validation set\n",
    "NB = NB_result.sort_values(by=[\"p(1)\"], ascending=False)\n",
    "fig, axes = plt.subplots(nrows=1, ncols=2, figsize=(10, 4))\n",
    "\n",
    "gainsChart(NB.actual, ax=axes[0])\n",
    "liftChart(NB[\"p(1)\"], title=False, ax=axes[1])"
   ]
  },
  {
   "cell_type": "markdown",
   "metadata": {},
   "source": [
    "<div class=\"alert alert-success\">\n",
    "  <b>A.6:</b> Both charts indicate that the model can in fact be used in practice. From the gains chart, it can be seen that the model’s predictive performance in terms of gains is better than the baseline model, since its cumulative gains curve is higher than that of the baseline model. Moreover, the lift chart shows that the model’s predictive performance is better than the baseline model, since its lift curve is higher than that of the baseline model. For example, from the decile chart, we can see that choosing the top 10% of the sample will have a gain 3.0 times the amount than choosing 10% at random. Other deciles and their ratios can be noted on the lift chart. The staircase effect of the model also indicates that the model ‘binned’ the sample from the most likely to least likely for cancellations. \n",
    "</div>"
   ]
  },
  {
   "cell_type": "markdown",
   "metadata": {},
   "source": [
    "<div class=\"alert alert-block alert-info\">\n",
    "<strong>7:</strong> Briefly explain, in two to three paragraphs, the business objective, the data mining models used, why they were used, the model results, and your recommendations to your non-technical stakeholder team. \n",
    "</div>"
   ]
  },
  {
   "cell_type": "markdown",
   "metadata": {},
   "source": [
    "Yourcabs is a company that offers a booking service for taxis in India. However, the company was facing a problem with drivers using their platform where many drivers were not showing up for the scheduled calls. In other words, drivers would cancel their bookings, and if the cancellation did not occur with adequate notice, the customer would be left with no ride or an alternate driver. Therefore, a predictive model will be implemented to predict cancellations and give further insight to why cancellations happen. By accurately predicting the cancellations, the company will be able to reduce company costs and ultimately increase revenue as well as customer satisfaction. "
   ]
  },
  {
   "cell_type": "markdown",
   "metadata": {},
   "source": [
    "Yourcabs.com had collected data on its bookings from 2011 to 2013 which resulted in 10,000 samples to implement a model. The original dataset included 17 input variables. However, the variables were either combined into a new feature or disregarded if deemed unnecessary to the model.  In addition, the dataset was explored, cleaned, and transformed appropriately for modeling. Afterwards, classification models were used to categorize cancellations and non cancellations. The models used are as follows: K-Neighbors, Gaussian Naive Bayes, Gradient Boosting, Decision Tree, Random Forest, and Logistic Regression. Among those models, only the Gaussian Naives Bayes was considered sufficient enough for practical use. The Naives Bayes classifier had an accuracy rating of 71%, but was able to classify the cancellations 67% of the time which was significantly higher than any other model used."
   ]
  },
  {
   "cell_type": "markdown",
   "metadata": {},
   "source": [
    "Feature importance was also explored to determine which characteristics influenced cancellations the most.  The key underlying assumption made about the taxi company was that Yourcabs.com shared a similar feature as apps like Uber and Lyft where the destination is known beforehand. For example, users can set both their pickup and drop off location before ordering a 'taxi'.  Therefore, a distance variable was implemented. Almost all models incorporated into the analysis shared the same characteristic where distance and time had the most impact on the models prediction. Further analysis showed that the shorter the trip and time in between bookings lead to more cancellations. Other variables that also contributed to the models success were the season of the trip date and if the booking was made through online or mobile booking.  Recommendations include flagging all orders that are predicted to cancel using the model. By doing so, the company can potentially prevent cancellations from happening by implementing a feature such as a confirmation message (and/or phone call) to all flagged orders to both parties (drivers and customers) that they still can commit to the order. Once both parties have confirmed, the cab will be dispatched to the customer, and if not, an alternative driver can be notified ahead of time to pick up the customer. Orders that are flagged as canceled but in reality are not canceled will also not be affected by the confirmation message recommendation as long as the service states that users are expected to answer confirmation messages in a timely manner. "
   ]
  }
 ],
 "metadata": {
  "kernelspec": {
   "display_name": "Python 3",
   "language": "python",
   "name": "python3"
  },
  "language_info": {
   "codemirror_mode": {
    "name": "ipython",
    "version": 3
   },
   "file_extension": ".py",
   "mimetype": "text/x-python",
   "name": "python",
   "nbconvert_exporter": "python",
   "pygments_lexer": "ipython3",
   "version": "3.8.5"
  }
 },
 "nbformat": 4,
 "nbformat_minor": 4
}

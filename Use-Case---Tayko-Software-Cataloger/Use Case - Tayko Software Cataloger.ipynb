{
 "cells": [
  {
   "cell_type": "markdown",
   "metadata": {},
   "source": [
    " # Use Case - Tayko Software Cataloger"
   ]
  },
  {
   "cell_type": "code",
   "execution_count": 1,
   "metadata": {},
   "outputs": [
    {
     "name": "stdout",
     "output_type": "stream",
     "text": [
      "no display found. Using non-interactive Agg backend\n"
     ]
    },
    {
     "data": {
      "application/javascript": [
       "\n",
       "            setTimeout(function() {\n",
       "                var nbb_cell_id = 1;\n",
       "                var nbb_unformatted_code = \"import pandas as pd\\nimport numpy as np\\nimport matplotlib.pylab as plt\\nimport seaborn as sns\\n\\nfrom sklearn import preprocessing\\nfrom sklearn.preprocessing import StandardScaler\\n\\nfrom sklearn.model_selection import train_test_split, GridSearchCV\\nfrom sklearn.linear_model import LinearRegression, Ridge, Lasso\\nfrom sklearn.linear_model import LogisticRegression, LogisticRegressionCV\\nfrom sklearn.tree import DecisionTreeRegressor\\nfrom sklearn.ensemble import RandomForestRegressor\\nfrom sklearn.model_selection import RandomizedSearchCV\\nfrom sklearn.compose import ColumnTransformer\\n\\nimport dmba\\nfrom dmba import (\\n    regressionSummary,\\n    adjusted_r2_score,\\n    AIC_score,\\n    BIC_score,\\n    classificationSummary,\\n    gainsChart,\\n    liftChart,\\n    stepwise_selection,\\n)\\n\\nfrom fast_ml import eda\\n\\nimport warnings\\nwarnings.filterwarnings('ignore')\\n\\n%load_ext nb_black\\n%matplotlib inline\";\n",
       "                var nbb_formatted_code = \"import pandas as pd\\nimport numpy as np\\nimport matplotlib.pylab as plt\\nimport seaborn as sns\\n\\nfrom sklearn import preprocessing\\nfrom sklearn.preprocessing import StandardScaler\\n\\nfrom sklearn.model_selection import train_test_split, GridSearchCV\\nfrom sklearn.linear_model import LinearRegression, Ridge, Lasso\\nfrom sklearn.linear_model import LogisticRegression, LogisticRegressionCV\\nfrom sklearn.tree import DecisionTreeRegressor\\nfrom sklearn.ensemble import RandomForestRegressor\\nfrom sklearn.model_selection import RandomizedSearchCV\\nfrom sklearn.compose import ColumnTransformer\\n\\nimport dmba\\nfrom dmba import (\\n    regressionSummary,\\n    adjusted_r2_score,\\n    AIC_score,\\n    BIC_score,\\n    classificationSummary,\\n    gainsChart,\\n    liftChart,\\n    stepwise_selection,\\n)\\n\\nfrom fast_ml import eda\\n\\nimport warnings\\n\\nwarnings.filterwarnings(\\\"ignore\\\")\\n\\n%load_ext nb_black\\n%matplotlib inline\";\n",
       "                var nbb_cells = Jupyter.notebook.get_cells();\n",
       "                for (var i = 0; i < nbb_cells.length; ++i) {\n",
       "                    if (nbb_cells[i].input_prompt_number == nbb_cell_id) {\n",
       "                        if (nbb_cells[i].get_text() == nbb_unformatted_code) {\n",
       "                             nbb_cells[i].set_text(nbb_formatted_code);\n",
       "                        }\n",
       "                        break;\n",
       "                    }\n",
       "                }\n",
       "            }, 500);\n",
       "            "
      ],
      "text/plain": [
       "<IPython.core.display.Javascript object>"
      ]
     },
     "metadata": {},
     "output_type": "display_data"
    }
   ],
   "source": [
    "import pandas as pd\n",
    "import numpy as np\n",
    "import matplotlib.pylab as plt\n",
    "import seaborn as sns\n",
    "\n",
    "from sklearn import preprocessing\n",
    "from sklearn.preprocessing import StandardScaler\n",
    "\n",
    "from sklearn.model_selection import train_test_split, GridSearchCV\n",
    "from sklearn.linear_model import LinearRegression, Ridge, Lasso\n",
    "from sklearn.linear_model import LogisticRegression, LogisticRegressionCV\n",
    "from sklearn.tree import DecisionTreeRegressor\n",
    "from sklearn.ensemble import RandomForestRegressor\n",
    "from sklearn.model_selection import RandomizedSearchCV\n",
    "from sklearn.compose import ColumnTransformer\n",
    "\n",
    "import dmba\n",
    "from dmba import (\n",
    "    regressionSummary,\n",
    "    adjusted_r2_score,\n",
    "    AIC_score,\n",
    "    BIC_score,\n",
    "    classificationSummary,\n",
    "    gainsChart,\n",
    "    liftChart,\n",
    "    stepwise_selection,\n",
    ")\n",
    "\n",
    "from fast_ml import eda\n",
    "\n",
    "%load_ext nb_black\n",
    "%matplotlib inline"
   ]
  },
  {
   "cell_type": "code",
   "execution_count": 2,
   "metadata": {},
   "outputs": [
    {
     "data": {
      "text/html": [
       "<div>\n",
       "<style scoped>\n",
       "    .dataframe tbody tr th:only-of-type {\n",
       "        vertical-align: middle;\n",
       "    }\n",
       "\n",
       "    .dataframe tbody tr th {\n",
       "        vertical-align: top;\n",
       "    }\n",
       "\n",
       "    .dataframe thead th {\n",
       "        text-align: right;\n",
       "    }\n",
       "</style>\n",
       "<table border=\"1\" class=\"dataframe\">\n",
       "  <thead>\n",
       "    <tr style=\"text-align: right;\">\n",
       "      <th></th>\n",
       "      <th>data_type</th>\n",
       "      <th>data_type_grp</th>\n",
       "      <th>num_unique_values</th>\n",
       "      <th>sample_unique_values</th>\n",
       "      <th>num_missing</th>\n",
       "      <th>perc_missing</th>\n",
       "    </tr>\n",
       "  </thead>\n",
       "  <tbody>\n",
       "    <tr>\n",
       "      <th>sequence_number</th>\n",
       "      <td>int64</td>\n",
       "      <td>Numerical</td>\n",
       "      <td>2000</td>\n",
       "      <td>[1, 2, 3, 4, 5, 6, 7, 8, 9, 10]</td>\n",
       "      <td>0</td>\n",
       "      <td>0</td>\n",
       "    </tr>\n",
       "    <tr>\n",
       "      <th>US</th>\n",
       "      <td>int64</td>\n",
       "      <td>Numerical</td>\n",
       "      <td>2</td>\n",
       "      <td>[1, 0]</td>\n",
       "      <td>0</td>\n",
       "      <td>0</td>\n",
       "    </tr>\n",
       "    <tr>\n",
       "      <th>source_a</th>\n",
       "      <td>int64</td>\n",
       "      <td>Numerical</td>\n",
       "      <td>2</td>\n",
       "      <td>[0, 1]</td>\n",
       "      <td>0</td>\n",
       "      <td>0</td>\n",
       "    </tr>\n",
       "    <tr>\n",
       "      <th>source_c</th>\n",
       "      <td>int64</td>\n",
       "      <td>Numerical</td>\n",
       "      <td>2</td>\n",
       "      <td>[0, 1]</td>\n",
       "      <td>0</td>\n",
       "      <td>0</td>\n",
       "    </tr>\n",
       "    <tr>\n",
       "      <th>source_b</th>\n",
       "      <td>int64</td>\n",
       "      <td>Numerical</td>\n",
       "      <td>2</td>\n",
       "      <td>[1, 0]</td>\n",
       "      <td>0</td>\n",
       "      <td>0</td>\n",
       "    </tr>\n",
       "    <tr>\n",
       "      <th>source_d</th>\n",
       "      <td>int64</td>\n",
       "      <td>Numerical</td>\n",
       "      <td>2</td>\n",
       "      <td>[0, 1]</td>\n",
       "      <td>0</td>\n",
       "      <td>0</td>\n",
       "    </tr>\n",
       "    <tr>\n",
       "      <th>source_e</th>\n",
       "      <td>int64</td>\n",
       "      <td>Numerical</td>\n",
       "      <td>2</td>\n",
       "      <td>[0, 1]</td>\n",
       "      <td>0</td>\n",
       "      <td>0</td>\n",
       "    </tr>\n",
       "    <tr>\n",
       "      <th>source_m</th>\n",
       "      <td>int64</td>\n",
       "      <td>Numerical</td>\n",
       "      <td>2</td>\n",
       "      <td>[0, 1]</td>\n",
       "      <td>0</td>\n",
       "      <td>0</td>\n",
       "    </tr>\n",
       "    <tr>\n",
       "      <th>source_o</th>\n",
       "      <td>int64</td>\n",
       "      <td>Numerical</td>\n",
       "      <td>2</td>\n",
       "      <td>[0, 1]</td>\n",
       "      <td>0</td>\n",
       "      <td>0</td>\n",
       "    </tr>\n",
       "    <tr>\n",
       "      <th>source_h</th>\n",
       "      <td>int64</td>\n",
       "      <td>Numerical</td>\n",
       "      <td>2</td>\n",
       "      <td>[0, 1]</td>\n",
       "      <td>0</td>\n",
       "      <td>0</td>\n",
       "    </tr>\n",
       "    <tr>\n",
       "      <th>source_r</th>\n",
       "      <td>int64</td>\n",
       "      <td>Numerical</td>\n",
       "      <td>2</td>\n",
       "      <td>[0, 1]</td>\n",
       "      <td>0</td>\n",
       "      <td>0</td>\n",
       "    </tr>\n",
       "    <tr>\n",
       "      <th>source_s</th>\n",
       "      <td>int64</td>\n",
       "      <td>Numerical</td>\n",
       "      <td>2</td>\n",
       "      <td>[0, 1]</td>\n",
       "      <td>0</td>\n",
       "      <td>0</td>\n",
       "    </tr>\n",
       "    <tr>\n",
       "      <th>source_t</th>\n",
       "      <td>int64</td>\n",
       "      <td>Numerical</td>\n",
       "      <td>2</td>\n",
       "      <td>[0, 1]</td>\n",
       "      <td>0</td>\n",
       "      <td>0</td>\n",
       "    </tr>\n",
       "    <tr>\n",
       "      <th>source_u</th>\n",
       "      <td>int64</td>\n",
       "      <td>Numerical</td>\n",
       "      <td>2</td>\n",
       "      <td>[0, 1]</td>\n",
       "      <td>0</td>\n",
       "      <td>0</td>\n",
       "    </tr>\n",
       "    <tr>\n",
       "      <th>source_p</th>\n",
       "      <td>int64</td>\n",
       "      <td>Numerical</td>\n",
       "      <td>2</td>\n",
       "      <td>[0, 1]</td>\n",
       "      <td>0</td>\n",
       "      <td>0</td>\n",
       "    </tr>\n",
       "    <tr>\n",
       "      <th>source_x</th>\n",
       "      <td>int64</td>\n",
       "      <td>Numerical</td>\n",
       "      <td>2</td>\n",
       "      <td>[0, 1]</td>\n",
       "      <td>0</td>\n",
       "      <td>0</td>\n",
       "    </tr>\n",
       "    <tr>\n",
       "      <th>source_w</th>\n",
       "      <td>int64</td>\n",
       "      <td>Numerical</td>\n",
       "      <td>2</td>\n",
       "      <td>[0, 1]</td>\n",
       "      <td>0</td>\n",
       "      <td>0</td>\n",
       "    </tr>\n",
       "    <tr>\n",
       "      <th>Freq</th>\n",
       "      <td>int64</td>\n",
       "      <td>Numerical</td>\n",
       "      <td>15</td>\n",
       "      <td>[2, 0, 1, 4, 5, 3, 9, 8, 6, 10]</td>\n",
       "      <td>0</td>\n",
       "      <td>0</td>\n",
       "    </tr>\n",
       "    <tr>\n",
       "      <th>last_update_days_ago</th>\n",
       "      <td>int64</td>\n",
       "      <td>Numerical</td>\n",
       "      <td>940</td>\n",
       "      <td>[3662, 2900, 3883, 829, 869, 1995, 1498, 3397,...</td>\n",
       "      <td>0</td>\n",
       "      <td>0</td>\n",
       "    </tr>\n",
       "    <tr>\n",
       "      <th>1st_update_days_ago</th>\n",
       "      <td>int64</td>\n",
       "      <td>Numerical</td>\n",
       "      <td>923</td>\n",
       "      <td>[3662, 2900, 3914, 829, 869, 2002, 1529, 3397,...</td>\n",
       "      <td>0</td>\n",
       "      <td>0</td>\n",
       "    </tr>\n",
       "    <tr>\n",
       "      <th>Web order</th>\n",
       "      <td>int64</td>\n",
       "      <td>Numerical</td>\n",
       "      <td>2</td>\n",
       "      <td>[1, 0]</td>\n",
       "      <td>0</td>\n",
       "      <td>0</td>\n",
       "    </tr>\n",
       "    <tr>\n",
       "      <th>Gender=male</th>\n",
       "      <td>int64</td>\n",
       "      <td>Numerical</td>\n",
       "      <td>2</td>\n",
       "      <td>[0, 1]</td>\n",
       "      <td>0</td>\n",
       "      <td>0</td>\n",
       "    </tr>\n",
       "    <tr>\n",
       "      <th>Address_is_res</th>\n",
       "      <td>int64</td>\n",
       "      <td>Numerical</td>\n",
       "      <td>2</td>\n",
       "      <td>[1, 0]</td>\n",
       "      <td>0</td>\n",
       "      <td>0</td>\n",
       "    </tr>\n",
       "    <tr>\n",
       "      <th>Purchase</th>\n",
       "      <td>int64</td>\n",
       "      <td>Numerical</td>\n",
       "      <td>2</td>\n",
       "      <td>[1, 0]</td>\n",
       "      <td>0</td>\n",
       "      <td>0</td>\n",
       "    </tr>\n",
       "    <tr>\n",
       "      <th>Spending</th>\n",
       "      <td>int64</td>\n",
       "      <td>Numerical</td>\n",
       "      <td>363</td>\n",
       "      <td>[128, 0, 127, 489, 174, 1416, 192, 130, 386, 161]</td>\n",
       "      <td>0</td>\n",
       "      <td>0</td>\n",
       "    </tr>\n",
       "  </tbody>\n",
       "</table>\n",
       "</div>"
      ],
      "text/plain": [
       "                     data_type data_type_grp num_unique_values  \\\n",
       "sequence_number          int64     Numerical              2000   \n",
       "US                       int64     Numerical                 2   \n",
       "source_a                 int64     Numerical                 2   \n",
       "source_c                 int64     Numerical                 2   \n",
       "source_b                 int64     Numerical                 2   \n",
       "source_d                 int64     Numerical                 2   \n",
       "source_e                 int64     Numerical                 2   \n",
       "source_m                 int64     Numerical                 2   \n",
       "source_o                 int64     Numerical                 2   \n",
       "source_h                 int64     Numerical                 2   \n",
       "source_r                 int64     Numerical                 2   \n",
       "source_s                 int64     Numerical                 2   \n",
       "source_t                 int64     Numerical                 2   \n",
       "source_u                 int64     Numerical                 2   \n",
       "source_p                 int64     Numerical                 2   \n",
       "source_x                 int64     Numerical                 2   \n",
       "source_w                 int64     Numerical                 2   \n",
       "Freq                     int64     Numerical                15   \n",
       "last_update_days_ago     int64     Numerical               940   \n",
       "1st_update_days_ago      int64     Numerical               923   \n",
       "Web order                int64     Numerical                 2   \n",
       "Gender=male              int64     Numerical                 2   \n",
       "Address_is_res           int64     Numerical                 2   \n",
       "Purchase                 int64     Numerical                 2   \n",
       "Spending                 int64     Numerical               363   \n",
       "\n",
       "                                                   sample_unique_values  \\\n",
       "sequence_number                         [1, 2, 3, 4, 5, 6, 7, 8, 9, 10]   \n",
       "US                                                               [1, 0]   \n",
       "source_a                                                         [0, 1]   \n",
       "source_c                                                         [0, 1]   \n",
       "source_b                                                         [1, 0]   \n",
       "source_d                                                         [0, 1]   \n",
       "source_e                                                         [0, 1]   \n",
       "source_m                                                         [0, 1]   \n",
       "source_o                                                         [0, 1]   \n",
       "source_h                                                         [0, 1]   \n",
       "source_r                                                         [0, 1]   \n",
       "source_s                                                         [0, 1]   \n",
       "source_t                                                         [0, 1]   \n",
       "source_u                                                         [0, 1]   \n",
       "source_p                                                         [0, 1]   \n",
       "source_x                                                         [0, 1]   \n",
       "source_w                                                         [0, 1]   \n",
       "Freq                                    [2, 0, 1, 4, 5, 3, 9, 8, 6, 10]   \n",
       "last_update_days_ago  [3662, 2900, 3883, 829, 869, 1995, 1498, 3397,...   \n",
       "1st_update_days_ago   [3662, 2900, 3914, 829, 869, 2002, 1529, 3397,...   \n",
       "Web order                                                        [1, 0]   \n",
       "Gender=male                                                      [0, 1]   \n",
       "Address_is_res                                                   [1, 0]   \n",
       "Purchase                                                         [1, 0]   \n",
       "Spending              [128, 0, 127, 489, 174, 1416, 192, 130, 386, 161]   \n",
       "\n",
       "                     num_missing perc_missing  \n",
       "sequence_number                0            0  \n",
       "US                             0            0  \n",
       "source_a                       0            0  \n",
       "source_c                       0            0  \n",
       "source_b                       0            0  \n",
       "source_d                       0            0  \n",
       "source_e                       0            0  \n",
       "source_m                       0            0  \n",
       "source_o                       0            0  \n",
       "source_h                       0            0  \n",
       "source_r                       0            0  \n",
       "source_s                       0            0  \n",
       "source_t                       0            0  \n",
       "source_u                       0            0  \n",
       "source_p                       0            0  \n",
       "source_x                       0            0  \n",
       "source_w                       0            0  \n",
       "Freq                           0            0  \n",
       "last_update_days_ago           0            0  \n",
       "1st_update_days_ago            0            0  \n",
       "Web order                      0            0  \n",
       "Gender=male                    0            0  \n",
       "Address_is_res                 0            0  \n",
       "Purchase                       0            0  \n",
       "Spending                       0            0  "
      ]
     },
     "execution_count": 2,
     "metadata": {},
     "output_type": "execute_result"
    },
    {
     "data": {
      "application/javascript": [
       "\n",
       "            setTimeout(function() {\n",
       "                var nbb_cell_id = 2;\n",
       "                var nbb_unformatted_code = \"# Load Data\\ncat_df = pd.read_csv(\\n    \\\"/Users/datascience/Desktop/Applied Data Science for Buisiness/Datasets/Tayko Software Cataloger.csv\\\"\\n)\\neda.df_info(cat_df)  # Quick Exploratory Data Analysis\";\n",
       "                var nbb_formatted_code = \"# Load Data\\ncat_df = pd.read_csv(\\n    \\\"/Users/datascience/Desktop/Applied Data Science for Buisiness/Datasets/Tayko Software Cataloger.csv\\\"\\n)\\neda.df_info(cat_df)  # Quick Exploratory Data Analysis\";\n",
       "                var nbb_cells = Jupyter.notebook.get_cells();\n",
       "                for (var i = 0; i < nbb_cells.length; ++i) {\n",
       "                    if (nbb_cells[i].input_prompt_number == nbb_cell_id) {\n",
       "                        if (nbb_cells[i].get_text() == nbb_unformatted_code) {\n",
       "                             nbb_cells[i].set_text(nbb_formatted_code);\n",
       "                        }\n",
       "                        break;\n",
       "                    }\n",
       "                }\n",
       "            }, 500);\n",
       "            "
      ],
      "text/plain": [
       "<IPython.core.display.Javascript object>"
      ]
     },
     "metadata": {},
     "output_type": "display_data"
    }
   ],
   "source": [
    "# Load Data\n",
    "cat_df = pd.read_csv(\n",
    "    \"/Users/datascience/Desktop/Applied Data Science for Buisiness/Datasets/Tayko Software Cataloger.csv\"\n",
    ")\n",
    "eda.df_info(cat_df)  # Quick Exploratory Data Analysis"
   ]
  },
  {
   "cell_type": "markdown",
   "metadata": {},
   "source": [
    "## 1. Each catalog costs approximately 2 dollars to mail (including printing, postage, and mailing costs). Estimate the gross profit that the firm could expect from the remaining 180,000 names if it selects them randomly from the pool."
   ]
  },
  {
   "cell_type": "code",
   "execution_count": 3,
   "metadata": {},
   "outputs": [
    {
     "name": "stdout",
     "output_type": "stream",
     "text": [
      "Average Spending for 1000 purchasers: $ 205.249\n",
      "Estimate gross profit that the firm could expect from the remaining 180,000 names: $ 1616557.5\n"
     ]
    },
    {
     "data": {
      "application/javascript": [
       "\n",
       "            setTimeout(function() {\n",
       "                var nbb_cell_id = 3;\n",
       "                var nbb_unformatted_code = \"# Calculate average spending from the 1,000 purchasers in the stratified sample\\npurchasers_df = cat_df[cat_df[\\\"Purchase\\\"] == 1]\\nprint(\\n    \\\"Average Spending for 1000 purchasers: $\\\",\\n    purchasers_df.Spending.mean(),\\n)\\n\\n# Calculate average spending from the 2000 customers in the stratified sample\\navg_spending = cat_df.Spending.mean()\\n# Expected average spending per customer\\nnumber_purchasers = (\\n    180000 * 0.107\\n)  # random selection probability of purchase (true response rate)\\ntotal_spending = number_purchasers * avg_spending\\n\\n# Expected average profit per customer (with cost of mailing)\\ncost = 2 * 180000\\navg_profit = total_spending - cost\\nprint(\\n    \\\"Estimate gross profit that the firm could expect from the remaining 180,000 names: $\\\",\\n    avg_profit,\\n)\";\n",
       "                var nbb_formatted_code = \"# Calculate average spending from the 1,000 purchasers in the stratified sample\\npurchasers_df = cat_df[cat_df[\\\"Purchase\\\"] == 1]\\nprint(\\n    \\\"Average Spending for 1000 purchasers: $\\\",\\n    purchasers_df.Spending.mean(),\\n)\\n\\n# Calculate average spending from the 2000 customers in the stratified sample\\navg_spending = cat_df.Spending.mean()\\n# Expected average spending per customer\\nnumber_purchasers = (\\n    180000 * 0.107\\n)  # random selection probability of purchase (true response rate)\\ntotal_spending = number_purchasers * avg_spending\\n\\n# Expected average profit per customer (with cost of mailing)\\ncost = 2 * 180000\\navg_profit = total_spending - cost\\nprint(\\n    \\\"Estimate gross profit that the firm could expect from the remaining 180,000 names: $\\\",\\n    avg_profit,\\n)\";\n",
       "                var nbb_cells = Jupyter.notebook.get_cells();\n",
       "                for (var i = 0; i < nbb_cells.length; ++i) {\n",
       "                    if (nbb_cells[i].input_prompt_number == nbb_cell_id) {\n",
       "                        if (nbb_cells[i].get_text() == nbb_unformatted_code) {\n",
       "                             nbb_cells[i].set_text(nbb_formatted_code);\n",
       "                        }\n",
       "                        break;\n",
       "                    }\n",
       "                }\n",
       "            }, 500);\n",
       "            "
      ],
      "text/plain": [
       "<IPython.core.display.Javascript object>"
      ]
     },
     "metadata": {},
     "output_type": "display_data"
    }
   ],
   "source": [
    "# Calculate average spending from the 1,000 purchasers in the stratified sample\n",
    "purchasers_df = cat_df[cat_df[\"Purchase\"] == 1]\n",
    "print(\n",
    "    \"Average Spending for 1000 purchasers: $\",\n",
    "    purchasers_df.Spending.mean(),\n",
    ")\n",
    "\n",
    "# Calculate average spending from the 2000 customers in the stratified sample\n",
    "avg_spending = cat_df.Spending.mean()\n",
    "# Expected average spending per customer\n",
    "number_purchasers = (\n",
    "    180000 * 0.107\n",
    ")  # random selection probability of purchase (true response rate)\n",
    "total_spending = number_purchasers * avg_spending\n",
    "\n",
    "# Expected average profit per customer (with cost of mailing)\n",
    "cost = 2 * 180000\n",
    "avg_profit = total_spending - cost\n",
    "print(\n",
    "    \"Estimate gross profit that the firm could expect from the remaining 180,000 names: $\",\n",
    "    avg_profit,\n",
    ")"
   ]
  },
  {
   "cell_type": "markdown",
   "metadata": {},
   "source": [
    "## 2. Develop a model for classifying a customer as a purchaser or nonpurchaser."
   ]
  },
  {
   "cell_type": "markdown",
   "metadata": {},
   "source": [
    "### 2.1 Partition the data randomly into a training set (800 records), validation set (700 records), and test set (500 records)."
   ]
  },
  {
   "cell_type": "markdown",
   "metadata": {},
   "source": [
    "_Train, Validation, Test Split_"
   ]
  },
  {
   "cell_type": "code",
   "execution_count": 4,
   "metadata": {
    "scrolled": true
   },
   "outputs": [
    {
     "name": "stdout",
     "output_type": "stream",
     "text": [
      "X_train shape: (800, 22)\n",
      "X_valid shape: (700, 22)\n",
      "X_test shape: (500, 22)\n",
      "y_train shape: (800, 2)\n",
      "y_valid shape: (700, 2)\n",
      "y_test shape: (500, 2)\n"
     ]
    },
    {
     "data": {
      "application/javascript": [
       "\n",
       "            setTimeout(function() {\n",
       "                var nbb_cell_id = 4;\n",
       "                var nbb_unformatted_code = \"X = cat_df.drop(columns=[\\\"Purchase\\\", \\\"Spending\\\", \\\"sequence_number\\\"])\\ny = cat_df[[\\\"Purchase\\\", \\\"Spending\\\"]]\\nclasses = [\\\"nonpurchasers\\\", \\\"purchasers\\\"]\\n# Split Dataset into Train/Test\\nX_train, X_test, y_train, y_test = train_test_split(\\n    X,\\n    y,\\n    test_size=0.25,\\n    shuffle=True,\\n    random_state=1,\\n)\\n\\n# Split Train into Train/Valid\\nX_train, X_valid, y_train, y_valid = train_test_split(\\n    X_train, y_train, test_size=700, shuffle=True, random_state=1\\n)\\n\\n\\nprint(\\\"X_train shape: {}\\\".format(X_train.shape))\\nprint(\\\"X_valid shape: {}\\\".format(X_valid.shape))\\nprint(\\\"X_test shape: {}\\\".format(X_test.shape))\\nprint(\\\"y_train shape: {}\\\".format(y_train.shape))\\nprint(\\\"y_valid shape: {}\\\".format(y_valid.shape))\\nprint(\\\"y_test shape: {}\\\".format(y_test.shape))\";\n",
       "                var nbb_formatted_code = \"X = cat_df.drop(columns=[\\\"Purchase\\\", \\\"Spending\\\", \\\"sequence_number\\\"])\\ny = cat_df[[\\\"Purchase\\\", \\\"Spending\\\"]]\\nclasses = [\\\"nonpurchasers\\\", \\\"purchasers\\\"]\\n# Split Dataset into Train/Test\\nX_train, X_test, y_train, y_test = train_test_split(\\n    X,\\n    y,\\n    test_size=0.25,\\n    shuffle=True,\\n    random_state=1,\\n)\\n\\n# Split Train into Train/Valid\\nX_train, X_valid, y_train, y_valid = train_test_split(\\n    X_train, y_train, test_size=700, shuffle=True, random_state=1\\n)\\n\\n\\nprint(\\\"X_train shape: {}\\\".format(X_train.shape))\\nprint(\\\"X_valid shape: {}\\\".format(X_valid.shape))\\nprint(\\\"X_test shape: {}\\\".format(X_test.shape))\\nprint(\\\"y_train shape: {}\\\".format(y_train.shape))\\nprint(\\\"y_valid shape: {}\\\".format(y_valid.shape))\\nprint(\\\"y_test shape: {}\\\".format(y_test.shape))\";\n",
       "                var nbb_cells = Jupyter.notebook.get_cells();\n",
       "                for (var i = 0; i < nbb_cells.length; ++i) {\n",
       "                    if (nbb_cells[i].input_prompt_number == nbb_cell_id) {\n",
       "                        if (nbb_cells[i].get_text() == nbb_unformatted_code) {\n",
       "                             nbb_cells[i].set_text(nbb_formatted_code);\n",
       "                        }\n",
       "                        break;\n",
       "                    }\n",
       "                }\n",
       "            }, 500);\n",
       "            "
      ],
      "text/plain": [
       "<IPython.core.display.Javascript object>"
      ]
     },
     "metadata": {},
     "output_type": "display_data"
    }
   ],
   "source": [
    "X = cat_df.drop(columns=[\"Purchase\", \"Spending\", \"sequence_number\"])\n",
    "y = cat_df[[\"Purchase\", \"Spending\"]]\n",
    "classes = [\"nonpurchasers\", \"purchasers\"]\n",
    "# Split Dataset into Train/Test\n",
    "X_train, X_test, y_train, y_test = train_test_split(\n",
    "    X,\n",
    "    y,\n",
    "    test_size=0.25,\n",
    "    shuffle=True,\n",
    "    random_state=1,\n",
    ")\n",
    "\n",
    "# Split Train into Train/Valid\n",
    "X_train, X_valid, y_train, y_valid = train_test_split(\n",
    "    X_train, y_train, test_size=700, shuffle=True, random_state=1\n",
    ")\n",
    "\n",
    "\n",
    "print(\"X_train shape: {}\".format(X_train.shape))\n",
    "print(\"X_valid shape: {}\".format(X_valid.shape))\n",
    "print(\"X_test shape: {}\".format(X_test.shape))\n",
    "print(\"y_train shape: {}\".format(y_train.shape))\n",
    "print(\"y_valid shape: {}\".format(y_valid.shape))\n",
    "print(\"y_test shape: {}\".format(y_test.shape))"
   ]
  },
  {
   "cell_type": "markdown",
   "metadata": {},
   "source": [
    "_Preprocess_"
   ]
  },
  {
   "cell_type": "code",
   "execution_count": 5,
   "metadata": {
    "scrolled": true
   },
   "outputs": [
    {
     "data": {
      "application/javascript": [
       "\n",
       "            setTimeout(function() {\n",
       "                var nbb_cell_id = 5;\n",
       "                var nbb_unformatted_code = \"# list for cols to scale\\ncols_to_scale = [\\\"Freq\\\", \\\"last_update_days_ago\\\", \\\"1st_update_days_ago\\\"]\\n\\n# create and fit scaler\\nscaler = StandardScaler()\\nscaler.fit(X_train[cols_to_scale])\\n\\n# scale selected data\\nX_train[cols_to_scale] = scaler.transform(X_train[cols_to_scale])\\nX_valid[cols_to_scale] = scaler.transform(X_valid[cols_to_scale])\\nX_test[cols_to_scale] = scaler.transform(X_test[cols_to_scale])\";\n",
       "                var nbb_formatted_code = \"# list for cols to scale\\ncols_to_scale = [\\\"Freq\\\", \\\"last_update_days_ago\\\", \\\"1st_update_days_ago\\\"]\\n\\n# create and fit scaler\\nscaler = StandardScaler()\\nscaler.fit(X_train[cols_to_scale])\\n\\n# scale selected data\\nX_train[cols_to_scale] = scaler.transform(X_train[cols_to_scale])\\nX_valid[cols_to_scale] = scaler.transform(X_valid[cols_to_scale])\\nX_test[cols_to_scale] = scaler.transform(X_test[cols_to_scale])\";\n",
       "                var nbb_cells = Jupyter.notebook.get_cells();\n",
       "                for (var i = 0; i < nbb_cells.length; ++i) {\n",
       "                    if (nbb_cells[i].input_prompt_number == nbb_cell_id) {\n",
       "                        if (nbb_cells[i].get_text() == nbb_unformatted_code) {\n",
       "                             nbb_cells[i].set_text(nbb_formatted_code);\n",
       "                        }\n",
       "                        break;\n",
       "                    }\n",
       "                }\n",
       "            }, 500);\n",
       "            "
      ],
      "text/plain": [
       "<IPython.core.display.Javascript object>"
      ]
     },
     "metadata": {},
     "output_type": "display_data"
    }
   ],
   "source": [
    "# list for cols to scale\n",
    "cols_to_scale = [\"Freq\", \"last_update_days_ago\", \"1st_update_days_ago\"]\n",
    "\n",
    "# create and fit scaler\n",
    "scaler = StandardScaler()\n",
    "scaler.fit(X_train[cols_to_scale])\n",
    "\n",
    "# scale selected data\n",
    "X_train[cols_to_scale] = scaler.transform(X_train[cols_to_scale])\n",
    "X_valid[cols_to_scale] = scaler.transform(X_valid[cols_to_scale])\n",
    "X_test[cols_to_scale] = scaler.transform(X_test[cols_to_scale])"
   ]
  },
  {
   "cell_type": "markdown",
   "metadata": {},
   "source": [
    "### 2.2 Run logistic regression with L2 penalty, using method LogisticRegressionCV, to select the best subset of variables, then use this model to classify the data into purchasers and nonpurchasers. Use only the training set for running the model. (Logistic regression is used because it yields an estimated “probability of purchase,” which is required later in the analysis.)"
   ]
  },
  {
   "cell_type": "code",
   "execution_count": 6,
   "metadata": {},
   "outputs": [
    {
     "name": "stdout",
     "output_type": "stream",
     "text": [
      "intercept  -0.42447313588136415\n"
     ]
    },
    {
     "data": {
      "text/html": [
       "<div>\n",
       "<style scoped>\n",
       "    .dataframe tbody tr th:only-of-type {\n",
       "        vertical-align: middle;\n",
       "    }\n",
       "\n",
       "    .dataframe tbody tr th {\n",
       "        vertical-align: top;\n",
       "    }\n",
       "\n",
       "    .dataframe thead th {\n",
       "        text-align: right;\n",
       "    }\n",
       "</style>\n",
       "<table border=\"1\" class=\"dataframe\">\n",
       "  <thead>\n",
       "    <tr style=\"text-align: right;\">\n",
       "      <th></th>\n",
       "      <th>Predictor</th>\n",
       "      <th>coefficient</th>\n",
       "    </tr>\n",
       "  </thead>\n",
       "  <tbody>\n",
       "    <tr>\n",
       "      <th>0</th>\n",
       "      <td>US</td>\n",
       "      <td>0.350886</td>\n",
       "    </tr>\n",
       "    <tr>\n",
       "      <th>1</th>\n",
       "      <td>source_a</td>\n",
       "      <td>1.553138</td>\n",
       "    </tr>\n",
       "    <tr>\n",
       "      <th>2</th>\n",
       "      <td>source_c</td>\n",
       "      <td>-0.706147</td>\n",
       "    </tr>\n",
       "    <tr>\n",
       "      <th>3</th>\n",
       "      <td>source_b</td>\n",
       "      <td>-0.138045</td>\n",
       "    </tr>\n",
       "    <tr>\n",
       "      <th>4</th>\n",
       "      <td>source_d</td>\n",
       "      <td>0.885746</td>\n",
       "    </tr>\n",
       "    <tr>\n",
       "      <th>5</th>\n",
       "      <td>source_e</td>\n",
       "      <td>0.494972</td>\n",
       "    </tr>\n",
       "    <tr>\n",
       "      <th>6</th>\n",
       "      <td>source_m</td>\n",
       "      <td>0.755940</td>\n",
       "    </tr>\n",
       "    <tr>\n",
       "      <th>7</th>\n",
       "      <td>source_o</td>\n",
       "      <td>0.336890</td>\n",
       "    </tr>\n",
       "    <tr>\n",
       "      <th>8</th>\n",
       "      <td>source_h</td>\n",
       "      <td>-4.144494</td>\n",
       "    </tr>\n",
       "    <tr>\n",
       "      <th>9</th>\n",
       "      <td>source_r</td>\n",
       "      <td>0.369997</td>\n",
       "    </tr>\n",
       "    <tr>\n",
       "      <th>10</th>\n",
       "      <td>source_s</td>\n",
       "      <td>-0.120527</td>\n",
       "    </tr>\n",
       "    <tr>\n",
       "      <th>11</th>\n",
       "      <td>source_t</td>\n",
       "      <td>1.198233</td>\n",
       "    </tr>\n",
       "    <tr>\n",
       "      <th>12</th>\n",
       "      <td>source_u</td>\n",
       "      <td>1.717244</td>\n",
       "    </tr>\n",
       "    <tr>\n",
       "      <th>13</th>\n",
       "      <td>source_p</td>\n",
       "      <td>1.432897</td>\n",
       "    </tr>\n",
       "    <tr>\n",
       "      <th>14</th>\n",
       "      <td>source_x</td>\n",
       "      <td>0.723098</td>\n",
       "    </tr>\n",
       "    <tr>\n",
       "      <th>15</th>\n",
       "      <td>source_w</td>\n",
       "      <td>1.187598</td>\n",
       "    </tr>\n",
       "    <tr>\n",
       "      <th>16</th>\n",
       "      <td>Freq</td>\n",
       "      <td>3.137663</td>\n",
       "    </tr>\n",
       "    <tr>\n",
       "      <th>17</th>\n",
       "      <td>last_update_days_ago</td>\n",
       "      <td>0.302429</td>\n",
       "    </tr>\n",
       "    <tr>\n",
       "      <th>18</th>\n",
       "      <td>1st_update_days_ago</td>\n",
       "      <td>-0.381637</td>\n",
       "    </tr>\n",
       "    <tr>\n",
       "      <th>19</th>\n",
       "      <td>Web order</td>\n",
       "      <td>0.752754</td>\n",
       "    </tr>\n",
       "    <tr>\n",
       "      <th>20</th>\n",
       "      <td>Gender=male</td>\n",
       "      <td>-0.317367</td>\n",
       "    </tr>\n",
       "    <tr>\n",
       "      <th>21</th>\n",
       "      <td>Address_is_res</td>\n",
       "      <td>-0.698421</td>\n",
       "    </tr>\n",
       "  </tbody>\n",
       "</table>\n",
       "</div>"
      ],
      "text/plain": [
       "               Predictor  coefficient\n",
       "0                     US     0.350886\n",
       "1               source_a     1.553138\n",
       "2               source_c    -0.706147\n",
       "3               source_b    -0.138045\n",
       "4               source_d     0.885746\n",
       "5               source_e     0.494972\n",
       "6               source_m     0.755940\n",
       "7               source_o     0.336890\n",
       "8               source_h    -4.144494\n",
       "9               source_r     0.369997\n",
       "10              source_s    -0.120527\n",
       "11              source_t     1.198233\n",
       "12              source_u     1.717244\n",
       "13              source_p     1.432897\n",
       "14              source_x     0.723098\n",
       "15              source_w     1.187598\n",
       "16                  Freq     3.137663\n",
       "17  last_update_days_ago     0.302429\n",
       "18   1st_update_days_ago    -0.381637\n",
       "19             Web order     0.752754\n",
       "20           Gender=male    -0.317367\n",
       "21        Address_is_res    -0.698421"
      ]
     },
     "metadata": {},
     "output_type": "display_data"
    },
    {
     "name": "stdout",
     "output_type": "stream",
     "text": [
      "\n",
      "Regression statistics\n",
      "\n",
      "               Mean Error (ME) : -0.0025\n",
      "Root Mean Squared Error (RMSE) : 0.4000\n",
      "     Mean Absolute Error (MAE) : 0.1600\n"
     ]
    },
    {
     "data": {
      "text/plain": [
       "None"
      ]
     },
     "metadata": {},
     "output_type": "display_data"
    },
    {
     "data": {
      "application/javascript": [
       "\n",
       "            setTimeout(function() {\n",
       "                var nbb_cell_id = 6;\n",
       "                var nbb_unformatted_code = \"# Logistic Regression\\nlogit_full = LogisticRegressionCV(penalty=\\\"l2\\\", cv=5, max_iter=1000)\\nlogit_full.fit(X_train, y_train[\\\"Purchase\\\"])\\n\\n# print coefficients\\nlist_full = pd.DataFrame({\\\"Predictor\\\": X.columns,\\n                          \\\"coefficient\\\": logit_full.coef_[0]})\\nprint(\\\"intercept \\\", logit_full.intercept_[0])\\ndisplay(list_full)\\n\\n# print performance measures\\ndisplay(regressionSummary(y_train[\\\"Purchase\\\"], logit_full.predict(X_train)))\";\n",
       "                var nbb_formatted_code = \"# Logistic Regression\\nlogit_full = LogisticRegressionCV(penalty=\\\"l2\\\", cv=5, max_iter=1000)\\nlogit_full.fit(X_train, y_train[\\\"Purchase\\\"])\\n\\n# print coefficients\\nlist_full = pd.DataFrame({\\\"Predictor\\\": X.columns, \\\"coefficient\\\": logit_full.coef_[0]})\\nprint(\\\"intercept \\\", logit_full.intercept_[0])\\ndisplay(list_full)\\n\\n# print performance measures\\ndisplay(regressionSummary(y_train[\\\"Purchase\\\"], logit_full.predict(X_train)))\";\n",
       "                var nbb_cells = Jupyter.notebook.get_cells();\n",
       "                for (var i = 0; i < nbb_cells.length; ++i) {\n",
       "                    if (nbb_cells[i].input_prompt_number == nbb_cell_id) {\n",
       "                        if (nbb_cells[i].get_text() == nbb_unformatted_code) {\n",
       "                             nbb_cells[i].set_text(nbb_formatted_code);\n",
       "                        }\n",
       "                        break;\n",
       "                    }\n",
       "                }\n",
       "            }, 500);\n",
       "            "
      ],
      "text/plain": [
       "<IPython.core.display.Javascript object>"
      ]
     },
     "metadata": {},
     "output_type": "display_data"
    }
   ],
   "source": [
    "# Logistic Regression\n",
    "logit_full = LogisticRegressionCV(penalty=\"l2\", cv=5, max_iter=1000)\n",
    "logit_full.fit(X_train, y_train[\"Purchase\"])\n",
    "\n",
    "# print coefficients\n",
    "list_full = pd.DataFrame({\"Predictor\": X.columns,\n",
    "                          \"coefficient\": logit_full.coef_[0]})\n",
    "print(\"intercept \", logit_full.intercept_[0])\n",
    "display(list_full)\n",
    "\n",
    "# print performance measures\n",
    "display(regressionSummary(y_train[\"Purchase\"],\n",
    "                          logit_full.predict(X_train)))"
   ]
  },
  {
   "cell_type": "code",
   "execution_count": 7,
   "metadata": {},
   "outputs": [
    {
     "name": "stdout",
     "output_type": "stream",
     "text": [
      "- Metrics for using all predictors in X_train -\n",
      "adjusted r2 :  0.35916194784703503\n",
      "AIC :  810.2364821288279\n",
      "BIC :  824.2903173118317\n"
     ]
    },
    {
     "data": {
      "application/javascript": [
       "\n",
       "            setTimeout(function() {\n",
       "                var nbb_cell_id = 7;\n",
       "                var nbb_unformatted_code = \"# get predictions based on train_x\\npred_y = logit_full.predict(X_train)\\n\\n# calculate adjusted r2 and information criteria measures\\nprint(\\\"- Metrics for using all predictors in X_train -\\\")\\nprint(\\\"adjusted r2 : \\\", adjusted_r2_score(y_train[\\\"Purchase\\\"],\\n                                          pred_y, logit_full))\\nprint(\\\"AIC : \\\", AIC_score(y_train[\\\"Purchase\\\"], pred_y, logit_full))\\nprint(\\\"BIC : \\\", BIC_score(y_train[\\\"Purchase\\\"], pred_y, logit_full))\";\n",
       "                var nbb_formatted_code = \"# get predictions based on train_x\\npred_y = logit_full.predict(X_train)\\n\\n# calculate adjusted r2 and information criteria measures\\nprint(\\\"- Metrics for using all predictors in X_train -\\\")\\nprint(\\\"adjusted r2 : \\\", adjusted_r2_score(y_train[\\\"Purchase\\\"], pred_y, logit_full))\\nprint(\\\"AIC : \\\", AIC_score(y_train[\\\"Purchase\\\"], pred_y, logit_full))\\nprint(\\\"BIC : \\\", BIC_score(y_train[\\\"Purchase\\\"], pred_y, logit_full))\";\n",
       "                var nbb_cells = Jupyter.notebook.get_cells();\n",
       "                for (var i = 0; i < nbb_cells.length; ++i) {\n",
       "                    if (nbb_cells[i].input_prompt_number == nbb_cell_id) {\n",
       "                        if (nbb_cells[i].get_text() == nbb_unformatted_code) {\n",
       "                             nbb_cells[i].set_text(nbb_formatted_code);\n",
       "                        }\n",
       "                        break;\n",
       "                    }\n",
       "                }\n",
       "            }, 500);\n",
       "            "
      ],
      "text/plain": [
       "<IPython.core.display.Javascript object>"
      ]
     },
     "metadata": {},
     "output_type": "display_data"
    }
   ],
   "source": [
    "# get predictions based on train_x\n",
    "pred_y = logit_full.predict(X_train)\n",
    "\n",
    "# calculate adjusted r2 and information criteria measures\n",
    "print(\"- Metrics for using all predictors in X_train -\")\n",
    "print(\"adjusted r2 : \", adjusted_r2_score(y_train[\"Purchase\"], pred_y, logit_full))\n",
    "print(\"AIC : \", AIC_score(y_train[\"Purchase\"], pred_y, logit_full))\n",
    "print(\"BIC : \", BIC_score(y_train[\"Purchase\"], pred_y, logit_full))"
   ]
  },
  {
   "cell_type": "code",
   "execution_count": 8,
   "metadata": {
    "scrolled": true
   },
   "outputs": [
    {
     "name": "stdout",
     "output_type": "stream",
     "text": [
      "intercept  -0.20418475029769784\n"
     ]
    },
    {
     "data": {
      "text/html": [
       "<div>\n",
       "<style scoped>\n",
       "    .dataframe tbody tr th:only-of-type {\n",
       "        vertical-align: middle;\n",
       "    }\n",
       "\n",
       "    .dataframe tbody tr th {\n",
       "        vertical-align: top;\n",
       "    }\n",
       "\n",
       "    .dataframe thead th {\n",
       "        text-align: right;\n",
       "    }\n",
       "</style>\n",
       "<table border=\"1\" class=\"dataframe\">\n",
       "  <thead>\n",
       "    <tr style=\"text-align: right;\">\n",
       "      <th></th>\n",
       "      <th>Predictor</th>\n",
       "      <th>coefficient</th>\n",
       "    </tr>\n",
       "  </thead>\n",
       "  <tbody>\n",
       "    <tr>\n",
       "      <th>0</th>\n",
       "      <td>source_a</td>\n",
       "      <td>1.388706</td>\n",
       "    </tr>\n",
       "    <tr>\n",
       "      <th>1</th>\n",
       "      <td>source_c</td>\n",
       "      <td>-0.636068</td>\n",
       "    </tr>\n",
       "    <tr>\n",
       "      <th>2</th>\n",
       "      <td>source_d</td>\n",
       "      <td>0.786423</td>\n",
       "    </tr>\n",
       "    <tr>\n",
       "      <th>3</th>\n",
       "      <td>source_e</td>\n",
       "      <td>0.345984</td>\n",
       "    </tr>\n",
       "    <tr>\n",
       "      <th>4</th>\n",
       "      <td>source_m</td>\n",
       "      <td>0.736049</td>\n",
       "    </tr>\n",
       "    <tr>\n",
       "      <th>5</th>\n",
       "      <td>source_h</td>\n",
       "      <td>-4.119148</td>\n",
       "    </tr>\n",
       "    <tr>\n",
       "      <th>6</th>\n",
       "      <td>source_t</td>\n",
       "      <td>1.056473</td>\n",
       "    </tr>\n",
       "    <tr>\n",
       "      <th>7</th>\n",
       "      <td>source_u</td>\n",
       "      <td>1.586167</td>\n",
       "    </tr>\n",
       "    <tr>\n",
       "      <th>8</th>\n",
       "      <td>source_p</td>\n",
       "      <td>1.292274</td>\n",
       "    </tr>\n",
       "    <tr>\n",
       "      <th>9</th>\n",
       "      <td>source_x</td>\n",
       "      <td>0.800315</td>\n",
       "    </tr>\n",
       "    <tr>\n",
       "      <th>10</th>\n",
       "      <td>source_w</td>\n",
       "      <td>1.171684</td>\n",
       "    </tr>\n",
       "    <tr>\n",
       "      <th>11</th>\n",
       "      <td>Freq</td>\n",
       "      <td>2.996690</td>\n",
       "    </tr>\n",
       "    <tr>\n",
       "      <th>12</th>\n",
       "      <td>Web order</td>\n",
       "      <td>0.758606</td>\n",
       "    </tr>\n",
       "    <tr>\n",
       "      <th>13</th>\n",
       "      <td>Address_is_res</td>\n",
       "      <td>-0.641128</td>\n",
       "    </tr>\n",
       "  </tbody>\n",
       "</table>\n",
       "</div>"
      ],
      "text/plain": [
       "         Predictor  coefficient\n",
       "0         source_a     1.388706\n",
       "1         source_c    -0.636068\n",
       "2         source_d     0.786423\n",
       "3         source_e     0.345984\n",
       "4         source_m     0.736049\n",
       "5         source_h    -4.119148\n",
       "6         source_t     1.056473\n",
       "7         source_u     1.586167\n",
       "8         source_p     1.292274\n",
       "9         source_x     0.800315\n",
       "10        source_w     1.171684\n",
       "11            Freq     2.996690\n",
       "12       Web order     0.758606\n",
       "13  Address_is_res    -0.641128"
      ]
     },
     "metadata": {},
     "output_type": "display_data"
    },
    {
     "name": "stdout",
     "output_type": "stream",
     "text": [
      "\n",
      "Regression statistics\n",
      "\n",
      "               Mean Error (ME) : -0.0050\n",
      "Root Mean Squared Error (RMSE) : 0.4062\n",
      "     Mean Absolute Error (MAE) : 0.1650\n"
     ]
    },
    {
     "data": {
      "text/plain": [
       "None"
      ]
     },
     "metadata": {},
     "output_type": "display_data"
    },
    {
     "name": "stdout",
     "output_type": "stream",
     "text": [
      "- Confustion Matrix -\n",
      "Confusion Matrix (Accuracy 0.8350)\n",
      "\n",
      "              Prediction\n",
      "       Actual nonpurchasers    purchasers\n",
      "nonpurchasers           329            68\n",
      "   purchasers            64           339\n"
     ]
    },
    {
     "data": {
      "application/javascript": [
       "\n",
       "            setTimeout(function() {\n",
       "                var nbb_cell_id = 8;\n",
       "                var nbb_unformatted_code = \"# Select Subset based on Logistic Regression CV coefficients\\nlist_full[\\\"coefficient\\\"] = list_full[\\\"coefficient\\\"].abs()\\nreduced_list = list_full[list_full[\\\"coefficient\\\"] >= 0.4]\\npredictors = reduced_list[\\\"Predictor\\\"].unique()\\n\\n\\n# Logistic Regression\\nlogit_red = LogisticRegressionCV(penalty=\\\"l2\\\", cv=5, max_iter=1000)\\nlogit_red.fit(X_train[predictors], y_train[\\\"Purchase\\\"])\\n\\n# print coefficients\\nlist_red = pd.DataFrame(\\n    {\\\"Predictor\\\": X_train[predictors].columns,\\n     \\\"coefficient\\\": logit_red.coef_[0]}\\n)\\nprint(\\\"intercept \\\", logit_red.intercept_[0])\\ndisplay(list_red)\\n\\n# print performance measures\\ndisplay(regressionSummary(y_train[\\\"Purchase\\\"],\\n                          logit_red.predict(X_train[predictors])))\\n\\nlogit_red_pred = logit_red.predict_proba(X_train[predictors])\\nred_result = pd.DataFrame(\\n    {\\n        \\\"actual\\\": y_train[\\\"Purchase\\\"],\\n        \\\"p(0)\\\": [p[0] for p in logit_red_pred],\\n        \\\"p(1)\\\": [p[1] for p in logit_red_pred],\\n        \\\"predicted\\\": logit_red.predict(X_train[predictors]),\\n    }\\n)\\nred_result = red_result.sort_values(by=[\\\"p(1)\\\"], ascending=False)\\n\\n# confusion matrix\\nprint(\\\"- Confustion Matrix -\\\")\\nclassificationSummary(red_result.actual, red_result.predicted,\\n                      class_names=classes)\";\n",
       "                var nbb_formatted_code = \"# Select Subset based on Logistic Regression CV coefficients\\nlist_full[\\\"coefficient\\\"] = list_full[\\\"coefficient\\\"].abs()\\nreduced_list = list_full[list_full[\\\"coefficient\\\"] >= 0.4]\\npredictors = reduced_list[\\\"Predictor\\\"].unique()\\n\\n\\n# Logistic Regression\\nlogit_red = LogisticRegressionCV(penalty=\\\"l2\\\", cv=5, max_iter=1000)\\nlogit_red.fit(X_train[predictors], y_train[\\\"Purchase\\\"])\\n\\n# print coefficients\\nlist_red = pd.DataFrame(\\n    {\\\"Predictor\\\": X_train[predictors].columns, \\\"coefficient\\\": logit_red.coef_[0]}\\n)\\nprint(\\\"intercept \\\", logit_red.intercept_[0])\\ndisplay(list_red)\\n\\n# print performance measures\\ndisplay(regressionSummary(y_train[\\\"Purchase\\\"], logit_red.predict(X_train[predictors])))\\n\\nlogit_red_pred = logit_red.predict_proba(X_train[predictors])\\nred_result = pd.DataFrame(\\n    {\\n        \\\"actual\\\": y_train[\\\"Purchase\\\"],\\n        \\\"p(0)\\\": [p[0] for p in logit_red_pred],\\n        \\\"p(1)\\\": [p[1] for p in logit_red_pred],\\n        \\\"predicted\\\": logit_red.predict(X_train[predictors]),\\n    }\\n)\\nred_result = red_result.sort_values(by=[\\\"p(1)\\\"], ascending=False)\\n\\n# confusion matrix\\nprint(\\\"- Confustion Matrix -\\\")\\nclassificationSummary(red_result.actual, red_result.predicted, class_names=classes)\";\n",
       "                var nbb_cells = Jupyter.notebook.get_cells();\n",
       "                for (var i = 0; i < nbb_cells.length; ++i) {\n",
       "                    if (nbb_cells[i].input_prompt_number == nbb_cell_id) {\n",
       "                        if (nbb_cells[i].get_text() == nbb_unformatted_code) {\n",
       "                             nbb_cells[i].set_text(nbb_formatted_code);\n",
       "                        }\n",
       "                        break;\n",
       "                    }\n",
       "                }\n",
       "            }, 500);\n",
       "            "
      ],
      "text/plain": [
       "<IPython.core.display.Javascript object>"
      ]
     },
     "metadata": {},
     "output_type": "display_data"
    }
   ],
   "source": [
    "# Select Subset based on Logistic Regression CV coefficients\n",
    "list_full[\"coefficient\"] = list_full[\"coefficient\"].abs()\n",
    "reduced_list = list_full[list_full[\"coefficient\"] >= 0.4]\n",
    "predictors = reduced_list[\"Predictor\"].unique()\n",
    "\n",
    "\n",
    "# Logistic Regression\n",
    "logit_red = LogisticRegressionCV(penalty=\"l2\", cv=5, max_iter=1000)\n",
    "logit_red.fit(X_train[predictors], y_train[\"Purchase\"])\n",
    "\n",
    "# print coefficients\n",
    "list_red = pd.DataFrame(\n",
    "    {\"Predictor\": X_train[predictors].columns, \"coefficient\": logit_red.coef_[0]}\n",
    ")\n",
    "print(\"intercept \", logit_red.intercept_[0])\n",
    "display(list_red)\n",
    "\n",
    "# print performance measures\n",
    "display(regressionSummary(y_train[\"Purchase\"], logit_red.predict(X_train[predictors])))\n",
    "\n",
    "logit_red_pred = logit_red.predict_proba(X_train[predictors])\n",
    "red_result = pd.DataFrame(\n",
    "    {\n",
    "        \"actual\": y_train[\"Purchase\"],\n",
    "        \"p(0)\": [p[0] for p in logit_red_pred],\n",
    "        \"p(1)\": [p[1] for p in logit_red_pred],\n",
    "        \"predicted\": logit_red.predict(X_train[predictors]),\n",
    "    }\n",
    ")\n",
    "red_result = red_result.sort_values(by=[\"p(1)\"], ascending=False)\n",
    "\n",
    "# confusion matrix\n",
    "print(\"- Confustion Matrix -\")\n",
    "classificationSummary(red_result.actual, red_result.predicted, class_names=classes)"
   ]
  },
  {
   "cell_type": "code",
   "execution_count": 9,
   "metadata": {},
   "outputs": [
    {
     "name": "stdout",
     "output_type": "stream",
     "text": [
      "- Metrics for using a reduced set of predictors -\n",
      "adjusted r2 :  0.339135758717255\n",
      "AIC :  834.853809062231\n",
      "BIC :  848.9076442452348\n"
     ]
    },
    {
     "data": {
      "application/javascript": [
       "\n",
       "            setTimeout(function() {\n",
       "                var nbb_cell_id = 9;\n",
       "                var nbb_unformatted_code = \"# get predictions based on train_x\\npred_y = logit_red.predict(X_train[predictors])\\n\\n# calculate adjusted r2 and information criteria measures\\nprint(\\\"- Metrics for using a reduced set of predictors -\\\")\\nprint(\\\"adjusted r2 : \\\", adjusted_r2_score(y_train[\\\"Purchase\\\"],\\n                                          pred_y, logit_red))\\nprint(\\\"AIC : \\\", AIC_score(y_train[\\\"Purchase\\\"], pred_y, logit_red))\\nprint(\\\"BIC : \\\", BIC_score(y_train[\\\"Purchase\\\"], pred_y, logit_red))\";\n",
       "                var nbb_formatted_code = \"# get predictions based on train_x\\npred_y = logit_red.predict(X_train[predictors])\\n\\n# calculate adjusted r2 and information criteria measures\\nprint(\\\"- Metrics for using a reduced set of predictors -\\\")\\nprint(\\\"adjusted r2 : \\\", adjusted_r2_score(y_train[\\\"Purchase\\\"], pred_y, logit_red))\\nprint(\\\"AIC : \\\", AIC_score(y_train[\\\"Purchase\\\"], pred_y, logit_red))\\nprint(\\\"BIC : \\\", BIC_score(y_train[\\\"Purchase\\\"], pred_y, logit_red))\";\n",
       "                var nbb_cells = Jupyter.notebook.get_cells();\n",
       "                for (var i = 0; i < nbb_cells.length; ++i) {\n",
       "                    if (nbb_cells[i].input_prompt_number == nbb_cell_id) {\n",
       "                        if (nbb_cells[i].get_text() == nbb_unformatted_code) {\n",
       "                             nbb_cells[i].set_text(nbb_formatted_code);\n",
       "                        }\n",
       "                        break;\n",
       "                    }\n",
       "                }\n",
       "            }, 500);\n",
       "            "
      ],
      "text/plain": [
       "<IPython.core.display.Javascript object>"
      ]
     },
     "metadata": {},
     "output_type": "display_data"
    }
   ],
   "source": [
    "# get predictions based on train_x\n",
    "pred_y = logit_red.predict(X_train[predictors])\n",
    "\n",
    "# calculate adjusted r2 and information criteria measures\n",
    "print(\"- Metrics for using a reduced set of predictors -\")\n",
    "print(\"adjusted r2 : \", adjusted_r2_score(y_train[\"Purchase\"], pred_y, logit_red))\n",
    "print(\"AIC : \", AIC_score(y_train[\"Purchase\"], pred_y, logit_red))\n",
    "print(\"BIC : \", BIC_score(y_train[\"Purchase\"], pred_y, logit_red))"
   ]
  },
  {
   "cell_type": "code",
   "execution_count": 10,
   "metadata": {},
   "outputs": [
    {
     "name": "stdout",
     "output_type": "stream",
     "text": [
      "- Confusion Matrix for using a reduced set of predictors -\n",
      "Confusion Matrix (Accuracy 0.8350)\n",
      "\n",
      "              Prediction\n",
      "       Actual nonpurchasers    purchasers\n",
      "nonpurchasers           329            68\n",
      "   purchasers            64           339\n"
     ]
    },
    {
     "data": {
      "application/javascript": [
       "\n",
       "            setTimeout(function() {\n",
       "                var nbb_cell_id = 10;\n",
       "                var nbb_unformatted_code = \"logit_red_pred = logit_red.predict_proba(X_train[predictors])\\nred_result = pd.DataFrame(\\n    {\\n        \\\"actual\\\": y_train[\\\"Purchase\\\"],\\n        \\\"p(0)\\\": [p[0] for p in logit_red_pred],\\n        \\\"p(1)\\\": [p[1] for p in logit_red_pred],\\n        \\\"predicted\\\": logit_red.predict(X_train[predictors]),\\n    }\\n)\\nred_result = red_result.sort_values(by=[\\\"p(1)\\\"], ascending=False)\\n\\n# confusion matrix\\nprint(\\\"- Confusion Matrix for using a reduced set of predictors -\\\")\\nclassificationSummary(red_result.actual, red_result.predicted,\\n                      class_names=classes)\";\n",
       "                var nbb_formatted_code = \"logit_red_pred = logit_red.predict_proba(X_train[predictors])\\nred_result = pd.DataFrame(\\n    {\\n        \\\"actual\\\": y_train[\\\"Purchase\\\"],\\n        \\\"p(0)\\\": [p[0] for p in logit_red_pred],\\n        \\\"p(1)\\\": [p[1] for p in logit_red_pred],\\n        \\\"predicted\\\": logit_red.predict(X_train[predictors]),\\n    }\\n)\\nred_result = red_result.sort_values(by=[\\\"p(1)\\\"], ascending=False)\\n\\n# confusion matrix\\nprint(\\\"- Confusion Matrix for using a reduced set of predictors -\\\")\\nclassificationSummary(red_result.actual, red_result.predicted, class_names=classes)\";\n",
       "                var nbb_cells = Jupyter.notebook.get_cells();\n",
       "                for (var i = 0; i < nbb_cells.length; ++i) {\n",
       "                    if (nbb_cells[i].input_prompt_number == nbb_cell_id) {\n",
       "                        if (nbb_cells[i].get_text() == nbb_unformatted_code) {\n",
       "                             nbb_cells[i].set_text(nbb_formatted_code);\n",
       "                        }\n",
       "                        break;\n",
       "                    }\n",
       "                }\n",
       "            }, 500);\n",
       "            "
      ],
      "text/plain": [
       "<IPython.core.display.Javascript object>"
      ]
     },
     "metadata": {},
     "output_type": "display_data"
    }
   ],
   "source": [
    "logit_red_pred = logit_red.predict_proba(X_train[predictors])\n",
    "red_result = pd.DataFrame(\n",
    "    {\n",
    "        \"actual\": y_train[\"Purchase\"],\n",
    "        \"p(0)\": [p[0] for p in logit_red_pred],\n",
    "        \"p(1)\": [p[1] for p in logit_red_pred],\n",
    "        \"predicted\": logit_red.predict(X_train[predictors]),\n",
    "    }\n",
    ")\n",
    "red_result = red_result.sort_values(by=[\"p(1)\"], ascending=False)\n",
    "\n",
    "# confusion matrix\n",
    "print(\"- Confusion Matrix for using a reduced set of predictors -\")\n",
    "classificationSummary(red_result.actual, red_result.predicted, class_names=classes)"
   ]
  },
  {
   "cell_type": "markdown",
   "metadata": {},
   "source": [
    "## 3. Develop a model for predicting spending among the purchasers."
   ]
  },
  {
   "cell_type": "markdown",
   "metadata": {},
   "source": [
    "### 3.1  Create subsets of the training and validation sets for only purchasers’ records by filtering for Purchase = 1. "
   ]
  },
  {
   "cell_type": "code",
   "execution_count": 11,
   "metadata": {},
   "outputs": [
    {
     "data": {
      "application/javascript": [
       "\n",
       "            setTimeout(function() {\n",
       "                var nbb_cell_id = 11;\n",
       "                var nbb_unformatted_code = \"# Filter dataset\\npurchasers_df = cat_df[cat_df[\\\"Purchase\\\"] == 1]\\nX_pur = purchasers_df.drop(columns=[\\\"Purchase\\\", \\\"Spending\\\",\\n                                    \\\"sequence_number\\\"])\\ny_pur = purchasers_df[\\\"Spending\\\"]\\n\\n# Split Dataset into Train/Valid\\nX_train_pur, X_valid_pur, y_train_pur, y_valid_pur = train_test_split(\\n    X_pur, y_pur, test_size=0.40, shuffle=True, random_state=1\\n)\";\n",
       "                var nbb_formatted_code = \"# Filter dataset\\npurchasers_df = cat_df[cat_df[\\\"Purchase\\\"] == 1]\\nX_pur = purchasers_df.drop(columns=[\\\"Purchase\\\", \\\"Spending\\\", \\\"sequence_number\\\"])\\ny_pur = purchasers_df[\\\"Spending\\\"]\\n\\n# Split Dataset into Train/Valid\\nX_train_pur, X_valid_pur, y_train_pur, y_valid_pur = train_test_split(\\n    X_pur, y_pur, test_size=0.40, shuffle=True, random_state=1\\n)\";\n",
       "                var nbb_cells = Jupyter.notebook.get_cells();\n",
       "                for (var i = 0; i < nbb_cells.length; ++i) {\n",
       "                    if (nbb_cells[i].input_prompt_number == nbb_cell_id) {\n",
       "                        if (nbb_cells[i].get_text() == nbb_unformatted_code) {\n",
       "                             nbb_cells[i].set_text(nbb_formatted_code);\n",
       "                        }\n",
       "                        break;\n",
       "                    }\n",
       "                }\n",
       "            }, 500);\n",
       "            "
      ],
      "text/plain": [
       "<IPython.core.display.Javascript object>"
      ]
     },
     "metadata": {},
     "output_type": "display_data"
    }
   ],
   "source": [
    "# Filter dataset\n",
    "purchasers_df = cat_df[cat_df[\"Purchase\"] == 1]\n",
    "X_pur = purchasers_df.drop(columns=[\"Purchase\", \"Spending\", \"sequence_number\"])\n",
    "y_pur = purchasers_df[\"Spending\"]\n",
    "\n",
    "# Split Dataset into Train/Valid\n",
    "X_train_pur, X_valid_pur, y_train_pur, y_valid_pur = train_test_split(\n",
    "    X_pur, y_pur, test_size=0.40, shuffle=True, random_state=1\n",
    ")"
   ]
  },
  {
   "cell_type": "code",
   "execution_count": 12,
   "metadata": {},
   "outputs": [
    {
     "data": {
      "application/javascript": [
       "\n",
       "            setTimeout(function() {\n",
       "                var nbb_cell_id = 12;\n",
       "                var nbb_unformatted_code = \"# list for cols to scale\\ncols_to_scale = [\\\"Freq\\\", \\\"last_update_days_ago\\\", \\\"1st_update_days_ago\\\"]\\n\\n# create and fit scaler\\nscaler = StandardScaler()\\nscaler.fit(X_train_pur[cols_to_scale])\\n\\n# scale selected data\\nX_train_pur[cols_to_scale] = scaler.transform(X_train_pur[cols_to_scale])\\nX_valid_pur[cols_to_scale] = scaler.transform(X_valid_pur[cols_to_scale])\";\n",
       "                var nbb_formatted_code = \"# list for cols to scale\\ncols_to_scale = [\\\"Freq\\\", \\\"last_update_days_ago\\\", \\\"1st_update_days_ago\\\"]\\n\\n# create and fit scaler\\nscaler = StandardScaler()\\nscaler.fit(X_train_pur[cols_to_scale])\\n\\n# scale selected data\\nX_train_pur[cols_to_scale] = scaler.transform(X_train_pur[cols_to_scale])\\nX_valid_pur[cols_to_scale] = scaler.transform(X_valid_pur[cols_to_scale])\";\n",
       "                var nbb_cells = Jupyter.notebook.get_cells();\n",
       "                for (var i = 0; i < nbb_cells.length; ++i) {\n",
       "                    if (nbb_cells[i].input_prompt_number == nbb_cell_id) {\n",
       "                        if (nbb_cells[i].get_text() == nbb_unformatted_code) {\n",
       "                             nbb_cells[i].set_text(nbb_formatted_code);\n",
       "                        }\n",
       "                        break;\n",
       "                    }\n",
       "                }\n",
       "            }, 500);\n",
       "            "
      ],
      "text/plain": [
       "<IPython.core.display.Javascript object>"
      ]
     },
     "metadata": {},
     "output_type": "display_data"
    }
   ],
   "source": [
    "# list for cols to scale\n",
    "cols_to_scale = [\"Freq\", \"last_update_days_ago\", \"1st_update_days_ago\"]\n",
    "\n",
    "# create and fit scaler\n",
    "scaler = StandardScaler()\n",
    "scaler.fit(X_train_pur[cols_to_scale])\n",
    "\n",
    "# scale selected data\n",
    "X_train_pur[cols_to_scale] = scaler.transform(X_train_pur[cols_to_scale])\n",
    "X_valid_pur[cols_to_scale] = scaler.transform(X_valid_pur[cols_to_scale])"
   ]
  },
  {
   "cell_type": "markdown",
   "metadata": {},
   "source": [
    "### 3.2 Develop models for predicting spending with the filtered datasets, using:"
   ]
  },
  {
   "cell_type": "markdown",
   "metadata": {},
   "source": [
    "#### 3.2.1 Multiple linear regression"
   ]
  },
  {
   "cell_type": "markdown",
   "metadata": {},
   "source": [
    "##### Stepwise Regression"
   ]
  },
  {
   "cell_type": "code",
   "execution_count": 13,
   "metadata": {
    "scrolled": true
   },
   "outputs": [
    {
     "name": "stdout",
     "output_type": "stream",
     "text": [
      "Variables: US, source_a, source_c, source_b, source_d, source_e, source_m, source_o, source_h, source_r, source_s, source_t, source_u, source_p, source_x, source_w, Freq, last_update_days_ago, 1st_update_days_ago, Web order, Gender=male, Address_is_res\n",
      "Start: score=8123.51, constant\n",
      "Step: score=7834.90, add Freq\n",
      "Step: score=7814.54, add Address_is_res\n",
      "Step: score=7802.53, add 1st_update_days_ago\n",
      "Step: score=7799.38, add source_r\n",
      "Step: score=7796.08, add source_a\n",
      "Step: score=7792.91, add source_u\n",
      "Step: score=7791.19, add source_h\n",
      "Step: score=7791.19, unchanged None\n",
      "(LinearRegression(), ['Freq', 'Address_is_res', '1st_update_days_ago', 'source_r', 'source_a', 'source_u', 'source_h'])\n"
     ]
    },
    {
     "data": {
      "application/javascript": [
       "\n",
       "            setTimeout(function() {\n",
       "                var nbb_cell_id = 13;\n",
       "                var nbb_unformatted_code = \"# Define Model (Linear Regression)\\ndef train_model(variables):\\n    if len(variables) == 0:\\n        return None\\n    model = LinearRegression()\\n    model.fit(X_train_pur[variables], y_train_pur)\\n    return model\\n\\n\\n# Define Scoring Metric Model (AIC Score)\\ndef score_model(model, variables):\\n    if len(variables) == 0:\\n        return AIC_score(\\n            y_train_pur, [y_train_pur.mean()] * len(y_train_pur),\\n            model, df=1\\n        )\\n    return AIC_score(y_train_pur,\\n                     model.predict(X_train_pur[variables]), model)\\n\\n\\n# Stepwise Regression to select Best Variables\\nbest_variables = stepwise_selection(\\n    X_train_pur.columns, train_model, score_model\\n)\\nprint(best_variables)\";\n",
       "                var nbb_formatted_code = \"# Define Model (Linear Regression)\\ndef train_model(variables):\\n    if len(variables) == 0:\\n        return None\\n    model = LinearRegression()\\n    model.fit(X_train_pur[variables], y_train_pur)\\n    return model\\n\\n\\n# Define Scoring Metric Model (AIC Score)\\ndef score_model(model, variables):\\n    if len(variables) == 0:\\n        return AIC_score(\\n            y_train_pur, [y_train_pur.mean()] * len(y_train_pur), model, df=1\\n        )\\n    return AIC_score(y_train_pur, model.predict(X_train_pur[variables]), model)\\n\\n\\n# Stepwise Regression to select Best Variables\\nbest_variables = stepwise_selection(X_train_pur.columns, train_model, score_model)\\nprint(best_variables)\";\n",
       "                var nbb_cells = Jupyter.notebook.get_cells();\n",
       "                for (var i = 0; i < nbb_cells.length; ++i) {\n",
       "                    if (nbb_cells[i].input_prompt_number == nbb_cell_id) {\n",
       "                        if (nbb_cells[i].get_text() == nbb_unformatted_code) {\n",
       "                             nbb_cells[i].set_text(nbb_formatted_code);\n",
       "                        }\n",
       "                        break;\n",
       "                    }\n",
       "                }\n",
       "            }, 500);\n",
       "            "
      ],
      "text/plain": [
       "<IPython.core.display.Javascript object>"
      ]
     },
     "metadata": {},
     "output_type": "display_data"
    }
   ],
   "source": [
    "# Define Model (Linear Regression)\n",
    "def train_model(variables):\n",
    "    if len(variables) == 0:\n",
    "        return None\n",
    "    model = LinearRegression()\n",
    "    model.fit(X_train_pur[variables], y_train_pur)\n",
    "    return model\n",
    "\n",
    "\n",
    "# Define Scoring Metric Model (AIC Score)\n",
    "def score_model(model, variables):\n",
    "    if len(variables) == 0:\n",
    "        return AIC_score(\n",
    "            y_train_pur, [y_train_pur.mean()] * len(y_train_pur),\n",
    "            model, df=1\n",
    "        )\n",
    "    return AIC_score(y_train_pur,\n",
    "                     model.predict(X_train_pur[variables]), model)\n",
    "\n",
    "\n",
    "# Stepwise Regression to select Best Variables\n",
    "best_variables = stepwise_selection(\n",
    "    X_train_pur.columns, train_model, score_model\n",
    ")\n",
    "print(best_variables)\n"
   ]
  },
  {
   "cell_type": "code",
   "execution_count": 14,
   "metadata": {},
   "outputs": [
    {
     "name": "stdout",
     "output_type": "stream",
     "text": [
      "Variables: US, source_a, source_c, source_b, source_d, source_e, source_m, source_o, source_h, source_r, source_s, source_t, source_u, source_p, source_x, source_w, Freq, last_update_days_ago, 1st_update_days_ago, Web order, Gender=male, Address_is_res\n",
      "Start: score=8123.51, constant\n",
      "Step: score=7834.90, add Freq\n",
      "Step: score=7814.55, add Address_is_res\n",
      "Step: score=7802.54, add 1st_update_days_ago\n",
      "Step: score=7799.38, add source_r\n",
      "Step: score=7796.09, add source_a\n",
      "Step: score=7792.92, add source_u\n",
      "Step: score=7791.35, add source_h\n",
      "Step: score=7791.35, unchanged None\n",
      "(Ridge(), ['Freq', 'Address_is_res', '1st_update_days_ago', 'source_r', 'source_a', 'source_u', 'source_h'])\n"
     ]
    },
    {
     "data": {
      "application/javascript": [
       "\n",
       "            setTimeout(function() {\n",
       "                var nbb_cell_id = 14;\n",
       "                var nbb_unformatted_code = \"# Ridge Stepwise\\ndef train_model(variables):\\n    if len(variables) == 0:\\n        return None\\n    model = Ridge()\\n    model.fit(X_train_pur[variables], y_train_pur)\\n    return model\\n\\n\\n# Define Scoring Metric Model (AIC Score)\\ndef score_model(model, variables):\\n    if len(variables) == 0:\\n        return AIC_score(\\n            y_train_pur, [y_train_pur.mean()] * len(y_train_pur),\\n            model, df=1\\n        )\\n    return AIC_score(y_train_pur,\\n                     model.predict(X_train_pur[variables]), model)\\n\\n\\n# Stepwise Regression to select Best Variables\\nbest_variables = stepwise_selection(\\n    X_train_pur.columns, train_model, score_model\\n)\\nprint(best_variables)\";\n",
       "                var nbb_formatted_code = \"# Ridge Stepwise\\ndef train_model(variables):\\n    if len(variables) == 0:\\n        return None\\n    model = Ridge()\\n    model.fit(X_train_pur[variables], y_train_pur)\\n    return model\\n\\n\\n# Define Scoring Metric Model (AIC Score)\\ndef score_model(model, variables):\\n    if len(variables) == 0:\\n        return AIC_score(\\n            y_train_pur, [y_train_pur.mean()] * len(y_train_pur), model, df=1\\n        )\\n    return AIC_score(y_train_pur, model.predict(X_train_pur[variables]), model)\\n\\n\\n# Stepwise Regression to select Best Variables\\nbest_variables = stepwise_selection(X_train_pur.columns, train_model, score_model)\\nprint(best_variables)\";\n",
       "                var nbb_cells = Jupyter.notebook.get_cells();\n",
       "                for (var i = 0; i < nbb_cells.length; ++i) {\n",
       "                    if (nbb_cells[i].input_prompt_number == nbb_cell_id) {\n",
       "                        if (nbb_cells[i].get_text() == nbb_unformatted_code) {\n",
       "                             nbb_cells[i].set_text(nbb_formatted_code);\n",
       "                        }\n",
       "                        break;\n",
       "                    }\n",
       "                }\n",
       "            }, 500);\n",
       "            "
      ],
      "text/plain": [
       "<IPython.core.display.Javascript object>"
      ]
     },
     "metadata": {},
     "output_type": "display_data"
    }
   ],
   "source": [
    "# Ridge Stepwise\n",
    "def train_model(variables):\n",
    "    if len(variables) == 0:\n",
    "        return None\n",
    "    model = Ridge()\n",
    "    model.fit(X_train_pur[variables], y_train_pur)\n",
    "    return model\n",
    "\n",
    "\n",
    "# Define Scoring Metric Model (AIC Score)\n",
    "def score_model(model, variables):\n",
    "    if len(variables) == 0:\n",
    "        return AIC_score(\n",
    "            y_train_pur, [y_train_pur.mean()] * len(y_train_pur),\n",
    "            model, df=1\n",
    "        )\n",
    "    return AIC_score(y_train_pur,\n",
    "                     model.predict(X_train_pur[variables]), model)\n",
    "\n",
    "\n",
    "# Stepwise Regression to select Best Variables\n",
    "best_variables = stepwise_selection(\n",
    "    X_train_pur.columns, train_model, score_model\n",
    ")\n",
    "print(best_variables)\n",
    "\n",
    "\n"
   ]
  },
  {
   "cell_type": "code",
   "execution_count": 15,
   "metadata": {},
   "outputs": [
    {
     "name": "stdout",
     "output_type": "stream",
     "text": [
      "Variables: US, source_a, source_c, source_b, source_d, source_e, source_m, source_o, source_h, source_r, source_s, source_t, source_u, source_p, source_x, source_w, Freq, last_update_days_ago, 1st_update_days_ago, Web order, Gender=male, Address_is_res\n",
      "Start: score=8123.51, constant\n",
      "Step: score=7834.92, add Freq\n",
      "Step: score=7814.72, add Address_is_res\n",
      "Step: score=7802.76, add 1st_update_days_ago\n",
      "Step: score=7799.97, add source_r\n",
      "Step: score=7796.96, add source_a\n",
      "Step: score=7794.22, add source_u\n",
      "Step: score=7794.22, unchanged None\n",
      "(Lasso(), ['Freq', 'Address_is_res', '1st_update_days_ago', 'source_r', 'source_a', 'source_u'])\n"
     ]
    },
    {
     "data": {
      "application/javascript": [
       "\n",
       "            setTimeout(function() {\n",
       "                var nbb_cell_id = 15;\n",
       "                var nbb_unformatted_code = \"# Lasso Stepwise\\ndef train_model(variables):\\n    if len(variables) == 0:\\n        return None\\n    model = Lasso()\\n    model.fit(X_train_pur[variables], y_train_pur)\\n    return model\\n\\n\\n# Stepwise Regression to select Best Variables\\nbest_variables = stepwise_selection(X_train_pur.columns,\\n                                    train_model, score_model)\\nprint(best_variables)\";\n",
       "                var nbb_formatted_code = \"# Lasso Stepwise\\ndef train_model(variables):\\n    if len(variables) == 0:\\n        return None\\n    model = Lasso()\\n    model.fit(X_train_pur[variables], y_train_pur)\\n    return model\\n\\n\\n# Stepwise Regression to select Best Variables\\nbest_variables = stepwise_selection(X_train_pur.columns, train_model, score_model)\\nprint(best_variables)\";\n",
       "                var nbb_cells = Jupyter.notebook.get_cells();\n",
       "                for (var i = 0; i < nbb_cells.length; ++i) {\n",
       "                    if (nbb_cells[i].input_prompt_number == nbb_cell_id) {\n",
       "                        if (nbb_cells[i].get_text() == nbb_unformatted_code) {\n",
       "                             nbb_cells[i].set_text(nbb_formatted_code);\n",
       "                        }\n",
       "                        break;\n",
       "                    }\n",
       "                }\n",
       "            }, 500);\n",
       "            "
      ],
      "text/plain": [
       "<IPython.core.display.Javascript object>"
      ]
     },
     "metadata": {},
     "output_type": "display_data"
    }
   ],
   "source": [
    "# Lasso Stepwise\n",
    "def train_model(variables):\n",
    "    if len(variables) == 0:\n",
    "        return None\n",
    "    model = Lasso()\n",
    "    model.fit(X_train_pur[variables], y_train_pur)\n",
    "    return model\n",
    "\n",
    "\n",
    "# Stepwise Regression to select Best Variables\n",
    "best_variables = stepwise_selection(X_train_pur.columns, train_model, score_model)\n",
    "print(best_variables)"
   ]
  },
  {
   "cell_type": "markdown",
   "metadata": {},
   "source": [
    "##### Multiple Linear Regression Model\n",
    "_Using Best Variables from StepWise Regression_"
   ]
  },
  {
   "cell_type": "code",
   "execution_count": 16,
   "metadata": {},
   "outputs": [
    {
     "name": "stdout",
     "output_type": "stream",
     "text": [
      "intercept  197.9990724045469\n"
     ]
    },
    {
     "data": {
      "text/html": [
       "<div>\n",
       "<style scoped>\n",
       "    .dataframe tbody tr th:only-of-type {\n",
       "        vertical-align: middle;\n",
       "    }\n",
       "\n",
       "    .dataframe tbody tr th {\n",
       "        vertical-align: top;\n",
       "    }\n",
       "\n",
       "    .dataframe thead th {\n",
       "        text-align: right;\n",
       "    }\n",
       "</style>\n",
       "<table border=\"1\" class=\"dataframe\">\n",
       "  <thead>\n",
       "    <tr style=\"text-align: right;\">\n",
       "      <th></th>\n",
       "      <th>Predictor</th>\n",
       "      <th>coefficient</th>\n",
       "    </tr>\n",
       "  </thead>\n",
       "  <tbody>\n",
       "    <tr>\n",
       "      <th>0</th>\n",
       "      <td>Freq</td>\n",
       "      <td>142.144568</td>\n",
       "    </tr>\n",
       "    <tr>\n",
       "      <th>1</th>\n",
       "      <td>Address_is_res</td>\n",
       "      <td>-77.412058</td>\n",
       "    </tr>\n",
       "    <tr>\n",
       "      <th>2</th>\n",
       "      <td>1st_update_days_ago</td>\n",
       "      <td>-31.529344</td>\n",
       "    </tr>\n",
       "    <tr>\n",
       "      <th>3</th>\n",
       "      <td>source_r</td>\n",
       "      <td>71.442764</td>\n",
       "    </tr>\n",
       "    <tr>\n",
       "      <th>4</th>\n",
       "      <td>source_a</td>\n",
       "      <td>47.944673</td>\n",
       "    </tr>\n",
       "    <tr>\n",
       "      <th>5</th>\n",
       "      <td>source_u</td>\n",
       "      <td>39.982971</td>\n",
       "    </tr>\n",
       "    <tr>\n",
       "      <th>6</th>\n",
       "      <td>source_h</td>\n",
       "      <td>-154.856488</td>\n",
       "    </tr>\n",
       "  </tbody>\n",
       "</table>\n",
       "</div>"
      ],
      "text/plain": [
       "             Predictor  coefficient\n",
       "0                 Freq   142.144568\n",
       "1       Address_is_res   -77.412058\n",
       "2  1st_update_days_ago   -31.529344\n",
       "3             source_r    71.442764\n",
       "4             source_a    47.944673\n",
       "5             source_u    39.982971\n",
       "6             source_h  -154.856488"
      ]
     },
     "metadata": {},
     "output_type": "display_data"
    },
    {
     "name": "stdout",
     "output_type": "stream",
     "text": [
      "\n",
      "---- Linear Regression Summary for Train Set ----\n",
      "\n",
      "Regression statistics\n",
      "\n",
      "                      Mean Error (ME) : -0.0000\n",
      "       Root Mean Squared Error (RMSE) : 157.3888\n",
      "            Mean Absolute Error (MAE) : 98.7307\n",
      "          Mean Percentage Error (MPE) : -99.7814\n",
      "Mean Absolute Percentage Error (MAPE) : 132.0294\n",
      "\n",
      "---- Linear Regression Summary for Validation Set ----\n",
      "\n",
      "Regression statistics\n",
      "\n",
      "                      Mean Error (ME) : 4.1171\n",
      "       Root Mean Squared Error (RMSE) : 169.0312\n",
      "            Mean Absolute Error (MAE) : 102.8035\n",
      "          Mean Percentage Error (MPE) : -69.6319\n",
      "Mean Absolute Percentage Error (MAPE) : 101.1441\n",
      "- Metrics for using a Linear Regression -\n",
      "adjusted r2 :  0.47574557702034914\n",
      "AIC :  5257.217426473309\n",
      "BIC :  5293.140607397281\n"
     ]
    },
    {
     "data": {
      "application/javascript": [
       "\n",
       "            setTimeout(function() {\n",
       "                var nbb_cell_id = 16;\n",
       "                var nbb_unformatted_code = \"# Predictors from Linear Regression stepwise regression\\nlm_predictors = [\\n    \\\"Freq\\\",\\n    \\\"Address_is_res\\\",\\n    \\\"1st_update_days_ago\\\",\\n    \\\"source_r\\\",\\n    \\\"source_a\\\",\\n    \\\"source_u\\\",\\n    \\\"source_h\\\",\\n]\\n# Linear Regression model\\nspending_lm = LinearRegression()\\nspending_lm.fit(X_train_pur[lm_predictors], y_train_pur)\\n\\n# print coefficients\\nlist_spending_lm = pd.DataFrame(\\n    {\\n        \\\"Predictor\\\": X_train_pur[lm_predictors].columns,\\n        \\\"coefficient\\\": spending_lm.coef_,\\n    }\\n)\\nprint(\\\"intercept \\\", spending_lm.intercept_)\\ndisplay(list_spending_lm)\\n\\n# Regression Summary Report\\nprint(\\\"\\\\n---- Linear Regression Summary for Train Set ----\\\")\\nregressionSummary(y_train_pur,\\n                  spending_lm.predict(X_train_pur[lm_predictors]))\\nprint(\\\"\\\\n---- Linear Regression Summary for Validation Set ----\\\")\\nregressionSummary(y_valid_pur,\\n                  spending_lm.predict(X_valid_pur[lm_predictors]))\\n\\n# calculate adjusted r2 and information criteria measures\\npred_y = spending_lm.predict(X_valid_pur[lm_predictors])\\nprint(\\\"- Metrics for using a Linear Regression -\\\")\\nprint(\\\"adjusted r2 : \\\", adjusted_r2_score(y_valid_pur,\\n                                          pred_y, spending_lm))\\nprint(\\\"AIC : \\\", AIC_score(y_valid_pur, pred_y, spending_lm))\\nprint(\\\"BIC : \\\", BIC_score(y_valid_pur, pred_y, spending_lm))\";\n",
       "                var nbb_formatted_code = \"# Predictors from Linear Regression stepwise regression\\nlm_predictors = [\\n    \\\"Freq\\\",\\n    \\\"Address_is_res\\\",\\n    \\\"1st_update_days_ago\\\",\\n    \\\"source_r\\\",\\n    \\\"source_a\\\",\\n    \\\"source_u\\\",\\n    \\\"source_h\\\",\\n]\\n# Linear Regression model\\nspending_lm = LinearRegression()\\nspending_lm.fit(X_train_pur[lm_predictors], y_train_pur)\\n\\n# print coefficients\\nlist_spending_lm = pd.DataFrame(\\n    {\\n        \\\"Predictor\\\": X_train_pur[lm_predictors].columns,\\n        \\\"coefficient\\\": spending_lm.coef_,\\n    }\\n)\\nprint(\\\"intercept \\\", spending_lm.intercept_)\\ndisplay(list_spending_lm)\\n\\n# Regression Summary Report\\nprint(\\\"\\\\n---- Linear Regression Summary for Train Set ----\\\")\\nregressionSummary(y_train_pur, spending_lm.predict(X_train_pur[lm_predictors]))\\nprint(\\\"\\\\n---- Linear Regression Summary for Validation Set ----\\\")\\nregressionSummary(y_valid_pur, spending_lm.predict(X_valid_pur[lm_predictors]))\\n\\n# calculate adjusted r2 and information criteria measures\\npred_y = spending_lm.predict(X_valid_pur[lm_predictors])\\nprint(\\\"- Metrics for using a Linear Regression -\\\")\\nprint(\\\"adjusted r2 : \\\", adjusted_r2_score(y_valid_pur, pred_y, spending_lm))\\nprint(\\\"AIC : \\\", AIC_score(y_valid_pur, pred_y, spending_lm))\\nprint(\\\"BIC : \\\", BIC_score(y_valid_pur, pred_y, spending_lm))\";\n",
       "                var nbb_cells = Jupyter.notebook.get_cells();\n",
       "                for (var i = 0; i < nbb_cells.length; ++i) {\n",
       "                    if (nbb_cells[i].input_prompt_number == nbb_cell_id) {\n",
       "                        if (nbb_cells[i].get_text() == nbb_unformatted_code) {\n",
       "                             nbb_cells[i].set_text(nbb_formatted_code);\n",
       "                        }\n",
       "                        break;\n",
       "                    }\n",
       "                }\n",
       "            }, 500);\n",
       "            "
      ],
      "text/plain": [
       "<IPython.core.display.Javascript object>"
      ]
     },
     "metadata": {},
     "output_type": "display_data"
    }
   ],
   "source": [
    "# Predictors from Linear Regression stepwise regression\n",
    "lm_predictors = [\n",
    "    \"Freq\",\n",
    "    \"Address_is_res\",\n",
    "    \"1st_update_days_ago\",\n",
    "    \"source_r\",\n",
    "    \"source_a\",\n",
    "    \"source_u\",\n",
    "    \"source_h\",\n",
    "]\n",
    "# Linear Regression model\n",
    "spending_lm = LinearRegression()\n",
    "spending_lm.fit(X_train_pur[lm_predictors], y_train_pur)\n",
    "\n",
    "# print coefficients\n",
    "list_spending_lm = pd.DataFrame(\n",
    "    {\n",
    "        \"Predictor\": X_train_pur[lm_predictors].columns,\n",
    "        \"coefficient\": spending_lm.coef_,\n",
    "    }\n",
    ")\n",
    "print(\"intercept \", spending_lm.intercept_)\n",
    "display(list_spending_lm)\n",
    "\n",
    "# Regression Summary Report\n",
    "print(\"\\n---- Linear Regression Summary for Train Set ----\")\n",
    "regressionSummary(y_train_pur,\n",
    "                  spending_lm.predict(X_train_pur[lm_predictors]))\n",
    "print(\"\\n---- Linear Regression Summary for Validation Set ----\")\n",
    "regressionSummary(y_valid_pur,\n",
    "                  spending_lm.predict(X_valid_pur[lm_predictors]))\n",
    "\n",
    "# calculate adjusted r2 and information criteria measures\n",
    "pred_y = spending_lm.predict(X_valid_pur[lm_predictors])\n",
    "print(\"- Metrics for using a Linear Regression -\")\n",
    "print(\"adjusted r2 : \", adjusted_r2_score(y_valid_pur, pred_y,\n",
    "                                          spending_lm))\n",
    "print(\"AIC : \", AIC_score(y_valid_pur, pred_y, spending_lm))\n",
    "print(\"BIC : \", BIC_score(y_valid_pur, pred_y, spending_lm))"
   ]
  },
  {
   "cell_type": "code",
   "execution_count": 17,
   "metadata": {},
   "outputs": [
    {
     "name": "stdout",
     "output_type": "stream",
     "text": [
      "intercept  197.23053525276893\n"
     ]
    },
    {
     "data": {
      "text/html": [
       "<div>\n",
       "<style scoped>\n",
       "    .dataframe tbody tr th:only-of-type {\n",
       "        vertical-align: middle;\n",
       "    }\n",
       "\n",
       "    .dataframe tbody tr th {\n",
       "        vertical-align: top;\n",
       "    }\n",
       "\n",
       "    .dataframe thead th {\n",
       "        text-align: right;\n",
       "    }\n",
       "</style>\n",
       "<table border=\"1\" class=\"dataframe\">\n",
       "  <thead>\n",
       "    <tr style=\"text-align: right;\">\n",
       "      <th></th>\n",
       "      <th>Predictor</th>\n",
       "      <th>coefficient</th>\n",
       "    </tr>\n",
       "  </thead>\n",
       "  <tbody>\n",
       "    <tr>\n",
       "      <th>0</th>\n",
       "      <td>Freq</td>\n",
       "      <td>141.675328</td>\n",
       "    </tr>\n",
       "    <tr>\n",
       "      <th>1</th>\n",
       "      <td>Address_is_res</td>\n",
       "      <td>-81.853812</td>\n",
       "    </tr>\n",
       "    <tr>\n",
       "      <th>2</th>\n",
       "      <td>1st_update_days_ago</td>\n",
       "      <td>-31.074224</td>\n",
       "    </tr>\n",
       "    <tr>\n",
       "      <th>3</th>\n",
       "      <td>source_r</td>\n",
       "      <td>73.546229</td>\n",
       "    </tr>\n",
       "    <tr>\n",
       "      <th>4</th>\n",
       "      <td>source_a</td>\n",
       "      <td>49.446687</td>\n",
       "    </tr>\n",
       "    <tr>\n",
       "      <th>5</th>\n",
       "      <td>source_u</td>\n",
       "      <td>41.456702</td>\n",
       "    </tr>\n",
       "  </tbody>\n",
       "</table>\n",
       "</div>"
      ],
      "text/plain": [
       "             Predictor  coefficient\n",
       "0                 Freq   141.675328\n",
       "1       Address_is_res   -81.853812\n",
       "2  1st_update_days_ago   -31.074224\n",
       "3             source_r    73.546229\n",
       "4             source_a    49.446687\n",
       "5             source_u    41.456702"
      ]
     },
     "metadata": {},
     "output_type": "display_data"
    },
    {
     "name": "stdout",
     "output_type": "stream",
     "text": [
      "\n",
      "---- Linear (Lasso Stepwise) Regression Summary for Train Set ----\n",
      "\n",
      "Regression statistics\n",
      "\n",
      "                      Mean Error (ME) : 0.0000\n",
      "       Root Mean Squared Error (RMSE) : 157.8770\n",
      "            Mean Absolute Error (MAE) : 99.2840\n",
      "          Mean Percentage Error (MPE) : -106.0743\n",
      "Mean Absolute Percentage Error (MAPE) : 136.5845\n",
      "\n",
      "---- Linear (Lasso Stepwise) Regression Summary for Validation Set ----\n",
      "\n",
      "Regression statistics\n",
      "\n",
      "                      Mean Error (ME) : 2.1241\n",
      "       Root Mean Squared Error (RMSE) : 167.7249\n",
      "            Mean Absolute Error (MAE) : 104.1302\n",
      "          Mean Percentage Error (MPE) : -83.9127\n",
      "Mean Absolute Percentage Error (MAPE) : 113.0084\n",
      "\n",
      "- Metrics for using a Linear (Lasso Stepwise) Regression -\n",
      "adjusted r2 :  0.48513067699034806\n",
      "AIC :  5249.010943390791\n",
      "BIC :  5280.942659767655\n"
     ]
    },
    {
     "data": {
      "application/javascript": [
       "\n",
       "            setTimeout(function() {\n",
       "                var nbb_cell_id = 17;\n",
       "                var nbb_unformatted_code = \"# Predictors from Lasso Regression stepwise regression\\nlasso_predictors = [\\n    \\\"Freq\\\",\\n    \\\"Address_is_res\\\",\\n    \\\"1st_update_days_ago\\\",\\n    \\\"source_r\\\",\\n    \\\"source_a\\\",\\n    \\\"source_u\\\",\\n]\\n# Linear Regression model\\nspending_lm = LinearRegression()\\nspending_lm.fit(X_train_pur[lasso_predictors], y_train_pur)\\n\\n# print coefficients\\nlist_spending_lm = pd.DataFrame(\\n    {\\n        \\\"Predictor\\\": X_train_pur[lasso_predictors].columns,\\n        \\\"coefficient\\\": spending_lm.coef_,\\n    }\\n)\\nprint(\\\"intercept \\\", spending_lm.intercept_)\\ndisplay(list_spending_lm)\\n\\n# Regression Summary Report\\nprint(\\\"\\\\n---- Linear (Lasso Stepwise) Regression Summary for Train Set ----\\\")\\nregressionSummary(y_train_pur,\\n                  spending_lm.predict(X_train_pur[lasso_predictors]))\\nprint(\\\"\\\\n---- Linear (Lasso Stepwise) Regression Summary for Validation Set ----\\\")\\nregressionSummary(y_valid_pur,\\n                  spending_lm.predict(X_valid_pur[lasso_predictors]))\\n\\n# calculate adjusted r2 and information criteria measures\\npred_y = spending_lm.predict(X_valid_pur[lasso_predictors])\\nprint(\\\"\\\\n- Metrics for using a Linear (Lasso Stepwise) Regression -\\\")\\nprint(\\\"adjusted r2 : \\\", adjusted_r2_score(y_valid_pur, pred_y,\\n                                          spending_lm))\\nprint(\\\"AIC : \\\", AIC_score(y_valid_pur, pred_y, spending_lm))\\nprint(\\\"BIC : \\\", BIC_score(y_valid_pur, pred_y, spending_lm))\";\n",
       "                var nbb_formatted_code = \"# Predictors from Lasso Regression stepwise regression\\nlasso_predictors = [\\n    \\\"Freq\\\",\\n    \\\"Address_is_res\\\",\\n    \\\"1st_update_days_ago\\\",\\n    \\\"source_r\\\",\\n    \\\"source_a\\\",\\n    \\\"source_u\\\",\\n]\\n# Linear Regression model\\nspending_lm = LinearRegression()\\nspending_lm.fit(X_train_pur[lasso_predictors], y_train_pur)\\n\\n# print coefficients\\nlist_spending_lm = pd.DataFrame(\\n    {\\n        \\\"Predictor\\\": X_train_pur[lasso_predictors].columns,\\n        \\\"coefficient\\\": spending_lm.coef_,\\n    }\\n)\\nprint(\\\"intercept \\\", spending_lm.intercept_)\\ndisplay(list_spending_lm)\\n\\n# Regression Summary Report\\nprint(\\\"\\\\n---- Linear (Lasso Stepwise) Regression Summary for Train Set ----\\\")\\nregressionSummary(y_train_pur, spending_lm.predict(X_train_pur[lasso_predictors]))\\nprint(\\\"\\\\n---- Linear (Lasso Stepwise) Regression Summary for Validation Set ----\\\")\\nregressionSummary(y_valid_pur, spending_lm.predict(X_valid_pur[lasso_predictors]))\\n\\n# calculate adjusted r2 and information criteria measures\\npred_y = spending_lm.predict(X_valid_pur[lasso_predictors])\\nprint(\\\"\\\\n- Metrics for using a Linear (Lasso Stepwise) Regression -\\\")\\nprint(\\\"adjusted r2 : \\\", adjusted_r2_score(y_valid_pur, pred_y, spending_lm))\\nprint(\\\"AIC : \\\", AIC_score(y_valid_pur, pred_y, spending_lm))\\nprint(\\\"BIC : \\\", BIC_score(y_valid_pur, pred_y, spending_lm))\";\n",
       "                var nbb_cells = Jupyter.notebook.get_cells();\n",
       "                for (var i = 0; i < nbb_cells.length; ++i) {\n",
       "                    if (nbb_cells[i].input_prompt_number == nbb_cell_id) {\n",
       "                        if (nbb_cells[i].get_text() == nbb_unformatted_code) {\n",
       "                             nbb_cells[i].set_text(nbb_formatted_code);\n",
       "                        }\n",
       "                        break;\n",
       "                    }\n",
       "                }\n",
       "            }, 500);\n",
       "            "
      ],
      "text/plain": [
       "<IPython.core.display.Javascript object>"
      ]
     },
     "metadata": {},
     "output_type": "display_data"
    }
   ],
   "source": [
    "# Predictors from Lasso Regression stepwise regression\n",
    "lasso_predictors = [\n",
    "    \"Freq\",\n",
    "    \"Address_is_res\",\n",
    "    \"1st_update_days_ago\",\n",
    "    \"source_r\",\n",
    "    \"source_a\",\n",
    "    \"source_u\",\n",
    "]\n",
    "# Linear Regression model\n",
    "spending_lm = LinearRegression()\n",
    "spending_lm.fit(X_train_pur[lasso_predictors], y_train_pur)\n",
    "\n",
    "# print coefficients\n",
    "list_spending_lm = pd.DataFrame(\n",
    "    {\n",
    "        \"Predictor\": X_train_pur[lasso_predictors].columns,\n",
    "        \"coefficient\": spending_lm.coef_,\n",
    "    }\n",
    ")\n",
    "print(\"intercept \", spending_lm.intercept_)\n",
    "display(list_spending_lm)\n",
    "\n",
    "# Regression Summary Report\n",
    "print(\"\\n---- Linear (Lasso Stepwise) Regression Summary for Train Set ----\")\n",
    "regressionSummary(y_train_pur,\n",
    "                  spending_lm.predict(X_train_pur[lasso_predictors]))\n",
    "print(\"\\n---- Linear (Lasso Stepwise) Regression Summary for Validation Set ----\")\n",
    "regressionSummary(y_valid_pur,\n",
    "                  spending_lm.predict(X_valid_pur[lasso_predictors]))\n",
    "\n",
    "# calculate adjusted r2 and information criteria measures\n",
    "pred_y = spending_lm.predict(X_valid_pur[lasso_predictors])\n",
    "print(\"\\n- Metrics for using a Linear (Lasso Stepwise) Regression -\")\n",
    "print(\"adjusted r2 : \", adjusted_r2_score(y_valid_pur,\n",
    "                                          pred_y, spending_lm))\n",
    "print(\"AIC : \", AIC_score(y_valid_pur, pred_y, spending_lm))\n",
    "print(\"BIC : \", BIC_score(y_valid_pur, pred_y, spending_lm))"
   ]
  },
  {
   "cell_type": "markdown",
   "metadata": {},
   "source": [
    "#### 3.2.2 Regression Trees "
   ]
  },
  {
   "cell_type": "markdown",
   "metadata": {},
   "source": [
    "###### Decision Tree Regressor"
   ]
  },
  {
   "cell_type": "code",
   "execution_count": 18,
   "metadata": {},
   "outputs": [
    {
     "name": "stdout",
     "output_type": "stream",
     "text": [
      "\n",
      "---- Decision Tree Regression Summary for Train Set ----\n",
      "\n",
      "Regression statistics\n",
      "\n",
      "                      Mean Error (ME) : 0.0000\n",
      "       Root Mean Squared Error (RMSE) : 5.9231\n",
      "            Mean Absolute Error (MAE) : 0.4833\n",
      "          Mean Percentage Error (MPE) : -0.3462\n",
      "Mean Absolute Percentage Error (MAPE) : 0.5685\n",
      "\n",
      "---- Decision Tree Regression Summary for Validation Set ----\n",
      "\n",
      "Regression statistics\n",
      "\n",
      "                      Mean Error (ME) : -13.0375\n",
      "       Root Mean Squared Error (RMSE) : 238.9316\n",
      "            Mean Absolute Error (MAE) : 137.1975\n",
      "          Mean Percentage Error (MPE) : -116.8224\n",
      "Mean Absolute Percentage Error (MAPE) : 158.4389\n"
     ]
    },
    {
     "data": {
      "application/javascript": [
       "\n",
       "            setTimeout(function() {\n",
       "                var nbb_cell_id = 18;\n",
       "                var nbb_unformatted_code = \"# Decision Tree Regressor (No parameter tuning)\\ntree_model = DecisionTreeRegressor(random_state=1)\\ntree_model.fit(X_train_pur, y_train_pur)\\n\\n# Regression Summary Report\\nprint(\\\"\\\\n---- Decision Tree Regression Summary for Train Set ----\\\")\\nregressionSummary(y_train_pur, tree_model.predict(X_train_pur))\\nprint(\\\"\\\\n---- Decision Tree Regression Summary for Validation Set ----\\\")\\nregressionSummary(y_valid_pur, tree_model.predict(X_valid_pur))\";\n",
       "                var nbb_formatted_code = \"# Decision Tree Regressor (No parameter tuning)\\ntree_model = DecisionTreeRegressor(random_state=1)\\ntree_model.fit(X_train_pur, y_train_pur)\\n\\n# Regression Summary Report\\nprint(\\\"\\\\n---- Decision Tree Regression Summary for Train Set ----\\\")\\nregressionSummary(y_train_pur, tree_model.predict(X_train_pur))\\nprint(\\\"\\\\n---- Decision Tree Regression Summary for Validation Set ----\\\")\\nregressionSummary(y_valid_pur, tree_model.predict(X_valid_pur))\";\n",
       "                var nbb_cells = Jupyter.notebook.get_cells();\n",
       "                for (var i = 0; i < nbb_cells.length; ++i) {\n",
       "                    if (nbb_cells[i].input_prompt_number == nbb_cell_id) {\n",
       "                        if (nbb_cells[i].get_text() == nbb_unformatted_code) {\n",
       "                             nbb_cells[i].set_text(nbb_formatted_code);\n",
       "                        }\n",
       "                        break;\n",
       "                    }\n",
       "                }\n",
       "            }, 500);\n",
       "            "
      ],
      "text/plain": [
       "<IPython.core.display.Javascript object>"
      ]
     },
     "metadata": {},
     "output_type": "display_data"
    }
   ],
   "source": [
    "# Decision Tree Regressor (No parameter tuning)\n",
    "tree_model = DecisionTreeRegressor(random_state=1)\n",
    "tree_model.fit(X_train_pur, y_train_pur)\n",
    "\n",
    "# Regression Summary Report\n",
    "print(\"\\n---- Decision Tree Regression Summary for Train Set ----\")\n",
    "regressionSummary(y_train_pur, tree_model.predict(X_train_pur))\n",
    "print(\"\\n---- Decision Tree Regression Summary for Validation Set ----\")\n",
    "regressionSummary(y_valid_pur, tree_model.predict(X_valid_pur))"
   ]
  },
  {
   "cell_type": "markdown",
   "metadata": {},
   "source": [
    "###### Decision Tree Regressor Hyperparameter Tuning"
   ]
  },
  {
   "cell_type": "code",
   "execution_count": 19,
   "metadata": {},
   "outputs": [
    {
     "name": "stdout",
     "output_type": "stream",
     "text": [
      "Initial parameters:  {'max_depth': 10, 'max_features': 'auto', 'min_impurity_decrease': 0, 'min_samples_leaf': 1, 'min_samples_split': 50, 'min_weight_fraction_leaf': 0.0}\n"
     ]
    },
    {
     "data": {
      "application/javascript": [
       "\n",
       "            setTimeout(function() {\n",
       "                var nbb_cell_id = 19;\n",
       "                var nbb_unformatted_code = \"# Initital Params Search\\nparam_grid = {\\n    \\\"max_features\\\": [\\\"None\\\", \\\"auto\\\", \\\"sqrt\\\"],\\n    \\\"max_depth\\\": [5, 10, 15, 20, 25],\\n    \\\"min_samples_leaf\\\": [1, 3, 5],\\n    \\\"min_weight_fraction_leaf\\\": [0.0, 0.2, 0.4],\\n    \\\"min_impurity_decrease\\\": [0, 0.001, 0.005, 0.01],\\n    \\\"min_samples_split\\\": [10, 20, 30, 40, 50],\\n}\\n\\n# Grid Search for Initital Params\\ngridSearch = GridSearchCV(\\n    DecisionTreeRegressor(random_state=1), param_grid, cv=5, n_jobs=-1\\n)\\ngridSearch.fit(X_train_pur, y_train_pur)\\nprint(\\\"Initial parameters: \\\", gridSearch.best_params_)\";\n",
       "                var nbb_formatted_code = \"# Initital Params Search\\nparam_grid = {\\n    \\\"max_features\\\": [\\\"None\\\", \\\"auto\\\", \\\"sqrt\\\"],\\n    \\\"max_depth\\\": [5, 10, 15, 20, 25],\\n    \\\"min_samples_leaf\\\": [1, 3, 5],\\n    \\\"min_weight_fraction_leaf\\\": [0.0, 0.2, 0.4],\\n    \\\"min_impurity_decrease\\\": [0, 0.001, 0.005, 0.01],\\n    \\\"min_samples_split\\\": [10, 20, 30, 40, 50],\\n}\\n\\n# Grid Search for Initital Params\\ngridSearch = GridSearchCV(\\n    DecisionTreeRegressor(random_state=1), param_grid, cv=5, n_jobs=-1\\n)\\ngridSearch.fit(X_train_pur, y_train_pur)\\nprint(\\\"Initial parameters: \\\", gridSearch.best_params_)\";\n",
       "                var nbb_cells = Jupyter.notebook.get_cells();\n",
       "                for (var i = 0; i < nbb_cells.length; ++i) {\n",
       "                    if (nbb_cells[i].input_prompt_number == nbb_cell_id) {\n",
       "                        if (nbb_cells[i].get_text() == nbb_unformatted_code) {\n",
       "                             nbb_cells[i].set_text(nbb_formatted_code);\n",
       "                        }\n",
       "                        break;\n",
       "                    }\n",
       "                }\n",
       "            }, 500);\n",
       "            "
      ],
      "text/plain": [
       "<IPython.core.display.Javascript object>"
      ]
     },
     "metadata": {},
     "output_type": "display_data"
    }
   ],
   "source": [
    "# Initital Params Search\n",
    "param_grid = {\n",
    "    \"max_features\": [\"None\", \"auto\", \"sqrt\"],\n",
    "    \"max_depth\": [5, 10, 15, 20, 25],\n",
    "    \"min_samples_leaf\": [1, 3, 5],\n",
    "    \"min_weight_fraction_leaf\": [0.0, 0.2, 0.4],\n",
    "    \"min_impurity_decrease\": [0, 0.001, 0.005, 0.01],\n",
    "    \"min_samples_split\": [10, 20, 30, 40, 50],\n",
    "}\n",
    "\n",
    "# Grid Search for Initital Params\n",
    "gridSearch = GridSearchCV(\n",
    "    DecisionTreeRegressor(random_state=1), param_grid,\n",
    "    cv=5, n_jobs=-1\n",
    ")\n",
    "gridSearch.fit(X_train_pur, y_train_pur)\n",
    "print(\"Initial parameters: \", gridSearch.best_params_)"
   ]
  },
  {
   "cell_type": "code",
   "execution_count": 20,
   "metadata": {},
   "outputs": [
    {
     "name": "stdout",
     "output_type": "stream",
     "text": [
      "Improved parameters:  {'max_depth': 2, 'max_features': 'auto', 'min_impurity_decrease': 0, 'min_samples_leaf': 1, 'min_samples_split': 2, 'min_weight_fraction_leaf': 0.0}\n",
      "\n",
      " ---- Decision Tree Regression Summary for Train Set ----\n",
      "\n",
      "Regression statistics\n",
      "\n",
      "                      Mean Error (ME) : -0.0000\n",
      "       Root Mean Squared Error (RMSE) : 165.6095\n",
      "            Mean Absolute Error (MAE) : 99.5173\n",
      "          Mean Percentage Error (MPE) : -120.2848\n",
      "Mean Absolute Percentage Error (MAPE) : 144.0328\n",
      "\n",
      "---- Decision Tree  Regression Summary for Validation Set ----\n",
      "\n",
      "Regression statistics\n",
      "\n",
      "                      Mean Error (ME) : 6.1654\n",
      "       Root Mean Squared Error (RMSE) : 176.7016\n",
      "            Mean Absolute Error (MAE) : 102.4987\n",
      "          Mean Percentage Error (MPE) : -97.8716\n",
      "Mean Absolute Percentage Error (MAPE) : 121.1784\n"
     ]
    },
    {
     "data": {
      "application/javascript": [
       "\n",
       "            setTimeout(function() {\n",
       "                var nbb_cell_id = 20;\n",
       "                var nbb_unformatted_code = \"# Improving Parameters\\nparam_grid = {\\n    \\\"max_features\\\": [\\\"None\\\", \\\"auto\\\", \\\"sqrt\\\"],\\n    \\\"max_depth\\\": [1, 2, 3, 4, 5, 6, 7, 8, 9, 10],\\n    \\\"min_samples_leaf\\\": [1, 2, 3],\\n    \\\"min_weight_fraction_leaf\\\": [0.0, 0.05, 0.1],\\n    \\\"min_impurity_decrease\\\": [\\n        0,\\n        0.00001,\\n        0.0001,\\n        0.0005,\\n        0.001,\\n    ],\\n    \\\"min_samples_split\\\": [1, 2, 3, 4, 5, 6, 7, 8, 9, 10, 45, 50],\\n}\\ngridSearch = GridSearchCV(\\n    DecisionTreeRegressor(random_state=1), param_grid, cv=5, n_jobs=-1\\n)\\ngridSearch.fit(X_train_pur, y_train_pur)\\nprint(\\\"Improved parameters: \\\", gridSearch.best_params_)\\n\\n\\n# Save best params\\nregTree = gridSearch.best_estimator_\\n\\n# Print Regression Summary\\nprint(\\\"\\\\n ---- Decision Tree Regression Summary for Train Set ----\\\")\\nregressionSummary(y_train_pur, regTree.predict(X_train_pur))\\nprint(\\\"\\\\n---- Decision Tree  Regression Summary for Validation Set ----\\\")\\nregressionSummary(y_valid_pur, regTree.predict(X_valid_pur))\";\n",
       "                var nbb_formatted_code = \"# Improving Parameters\\nparam_grid = {\\n    \\\"max_features\\\": [\\\"None\\\", \\\"auto\\\", \\\"sqrt\\\"],\\n    \\\"max_depth\\\": [1, 2, 3, 4, 5, 6, 7, 8, 9, 10],\\n    \\\"min_samples_leaf\\\": [1, 2, 3],\\n    \\\"min_weight_fraction_leaf\\\": [0.0, 0.05, 0.1],\\n    \\\"min_impurity_decrease\\\": [\\n        0,\\n        0.00001,\\n        0.0001,\\n        0.0005,\\n        0.001,\\n    ],\\n    \\\"min_samples_split\\\": [1, 2, 3, 4, 5, 6, 7, 8, 9, 10, 45, 50],\\n}\\ngridSearch = GridSearchCV(\\n    DecisionTreeRegressor(random_state=1), param_grid, cv=5, n_jobs=-1\\n)\\ngridSearch.fit(X_train_pur, y_train_pur)\\nprint(\\\"Improved parameters: \\\", gridSearch.best_params_)\\n\\n\\n# Save best params\\nregTree = gridSearch.best_estimator_\\n\\n# Print Regression Summary\\nprint(\\\"\\\\n ---- Decision Tree Regression Summary for Train Set ----\\\")\\nregressionSummary(y_train_pur, regTree.predict(X_train_pur))\\nprint(\\\"\\\\n---- Decision Tree  Regression Summary for Validation Set ----\\\")\\nregressionSummary(y_valid_pur, regTree.predict(X_valid_pur))\";\n",
       "                var nbb_cells = Jupyter.notebook.get_cells();\n",
       "                for (var i = 0; i < nbb_cells.length; ++i) {\n",
       "                    if (nbb_cells[i].input_prompt_number == nbb_cell_id) {\n",
       "                        if (nbb_cells[i].get_text() == nbb_unformatted_code) {\n",
       "                             nbb_cells[i].set_text(nbb_formatted_code);\n",
       "                        }\n",
       "                        break;\n",
       "                    }\n",
       "                }\n",
       "            }, 500);\n",
       "            "
      ],
      "text/plain": [
       "<IPython.core.display.Javascript object>"
      ]
     },
     "metadata": {},
     "output_type": "display_data"
    }
   ],
   "source": [
    "# Improving Parameters\n",
    "param_grid = {\n",
    "    \"max_features\": [\"None\", \"auto\", \"sqrt\"],\n",
    "    \"max_depth\": [1, 2, 3, 4, 5, 6, 7, 8, 9, 10],\n",
    "    \"min_samples_leaf\": [1, 2, 3],\n",
    "    \"min_weight_fraction_leaf\": [0.0, 0.05, 0.1],\n",
    "    \"min_impurity_decrease\": [\n",
    "        0,\n",
    "        0.00001,\n",
    "        0.0001,\n",
    "        0.0005,\n",
    "        0.001,\n",
    "    ],\n",
    "    \"min_samples_split\": [1, 2, 3, 4, 5, 6, 7, 8, 9, 10, 45, 50],\n",
    "}\n",
    "gridSearch = GridSearchCV(\n",
    "    DecisionTreeRegressor(random_state=1),\n",
    "    param_grid, cv=5, n_jobs=-1\n",
    ")\n",
    "gridSearch.fit(X_train_pur, y_train_pur)\n",
    "print(\"Improved parameters: \", gridSearch.best_params_)\n",
    "\n",
    "\n",
    "# Save best params\n",
    "regTree = gridSearch.best_estimator_\n",
    "\n",
    "# Print Regression Summary\n",
    "print(\"\\n ---- Decision Tree Regression Summary for Train Set ----\")\n",
    "regressionSummary(y_train_pur, regTree.predict(X_train_pur))\n",
    "print(\"\\n---- Decision Tree  Regression Summary for Validation Set ----\")\n",
    "regressionSummary(y_valid_pur, regTree.predict(X_valid_pur))"
   ]
  },
  {
   "cell_type": "markdown",
   "metadata": {},
   "source": [
    "###### Random Forest Regressor"
   ]
  },
  {
   "cell_type": "code",
   "execution_count": 21,
   "metadata": {},
   "outputs": [
    {
     "name": "stdout",
     "output_type": "stream",
     "text": [
      "\n",
      "---- Random Forest Regression Summary for Train Set ----\n",
      "\n",
      "Regression statistics\n",
      "\n",
      "                      Mean Error (ME) : 0.2126\n",
      "       Root Mean Squared Error (RMSE) : 64.2705\n",
      "            Mean Absolute Error (MAE) : 37.5195\n",
      "          Mean Percentage Error (MPE) : -43.3499\n",
      "Mean Absolute Percentage Error (MAPE) : 53.8972\n",
      "\n",
      "---- Random Forest Regression Summary for Validation Set ----\n",
      "\n",
      "Regression statistics\n",
      "\n",
      "                      Mean Error (ME) : 0.5011\n",
      "       Root Mean Squared Error (RMSE) : 166.8351\n",
      "            Mean Absolute Error (MAE) : 99.6235\n",
      "          Mean Percentage Error (MPE) : -96.3932\n",
      "Mean Absolute Percentage Error (MAPE) : 121.6811\n"
     ]
    },
    {
     "data": {
      "application/javascript": [
       "\n",
       "            setTimeout(function() {\n",
       "                var nbb_cell_id = 21;\n",
       "                var nbb_unformatted_code = \"# Initital Random Forest Model\\n\\nrf_model = RandomForestRegressor(random_state=1)\\nrf_model.fit(X_train_pur, y_train_pur)\\n\\n# Regression Summary Report\\nprint(\\\"\\\\n---- Random Forest Regression Summary for Train Set ----\\\")\\nregressionSummary(y_train_pur, rf_model.predict(X_train_pur))\\nprint(\\\"\\\\n---- Random Forest Regression Summary for Validation Set ----\\\")\\nregressionSummary(y_valid_pur, rf_model.predict(X_valid_pur))\";\n",
       "                var nbb_formatted_code = \"# Initital Random Forest Model\\n\\nrf_model = RandomForestRegressor(random_state=1)\\nrf_model.fit(X_train_pur, y_train_pur)\\n\\n# Regression Summary Report\\nprint(\\\"\\\\n---- Random Forest Regression Summary for Train Set ----\\\")\\nregressionSummary(y_train_pur, rf_model.predict(X_train_pur))\\nprint(\\\"\\\\n---- Random Forest Regression Summary for Validation Set ----\\\")\\nregressionSummary(y_valid_pur, rf_model.predict(X_valid_pur))\";\n",
       "                var nbb_cells = Jupyter.notebook.get_cells();\n",
       "                for (var i = 0; i < nbb_cells.length; ++i) {\n",
       "                    if (nbb_cells[i].input_prompt_number == nbb_cell_id) {\n",
       "                        if (nbb_cells[i].get_text() == nbb_unformatted_code) {\n",
       "                             nbb_cells[i].set_text(nbb_formatted_code);\n",
       "                        }\n",
       "                        break;\n",
       "                    }\n",
       "                }\n",
       "            }, 500);\n",
       "            "
      ],
      "text/plain": [
       "<IPython.core.display.Javascript object>"
      ]
     },
     "metadata": {},
     "output_type": "display_data"
    }
   ],
   "source": [
    "# Initital Random Forest Model\n",
    "\n",
    "rf_model = RandomForestRegressor(random_state=1)\n",
    "rf_model.fit(X_train_pur, y_train_pur)\n",
    "\n",
    "# Regression Summary Report\n",
    "print(\"\\n---- Random Forest Regression Summary for Train Set ----\")\n",
    "regressionSummary(y_train_pur, rf_model.predict(X_train_pur))\n",
    "print(\"\\n---- Random Forest Regression Summary for Validation Set ----\")\n",
    "regressionSummary(y_valid_pur, rf_model.predict(X_valid_pur))"
   ]
  },
  {
   "cell_type": "markdown",
   "metadata": {},
   "source": [
    "###### Random Forest Regressor Hyperparameter Tuning"
   ]
  },
  {
   "cell_type": "code",
   "execution_count": 22,
   "metadata": {},
   "outputs": [
    {
     "name": "stdout",
     "output_type": "stream",
     "text": [
      "Fitting 3 folds for each of 10 candidates, totalling 30 fits\n"
     ]
    },
    {
     "name": "stderr",
     "output_type": "stream",
     "text": [
      "[Parallel(n_jobs=-1)]: Using backend LokyBackend with 8 concurrent workers.\n",
      "[Parallel(n_jobs=-1)]: Done  30 out of  30 | elapsed:    5.0s finished\n"
     ]
    },
    {
     "name": "stdout",
     "output_type": "stream",
     "text": [
      "Initial parameters:  {'n_estimators': 1000, 'min_samples_split': 2, 'min_samples_leaf': 2, 'max_features': 'auto', 'max_depth': 100, 'bootstrap': 'False'}\n"
     ]
    },
    {
     "data": {
      "application/javascript": [
       "\n",
       "            setTimeout(function() {\n",
       "                var nbb_cell_id = 22;\n",
       "                var nbb_unformatted_code = \"rf_param_grid = {\\n    \\\"max_features\\\": [\\\"None\\\", \\\"auto\\\", \\\"sqrt\\\"],\\n    \\\"n_estimators\\\": [500, 1000, 1500],\\n    \\\"max_depth\\\": [5, 20, 50, 100],\\n    \\\"min_samples_split\\\": [2, 5, 10],\\n    \\\"min_samples_leaf\\\": [1, 2, 4],\\n    \\\"bootstrap\\\": [\\\"True\\\", \\\"False\\\"],\\n}\\n\\nrandomSearch = RandomizedSearchCV(\\n    RandomForestRegressor(random_state=1), rf_param_grid,\\n    verbose=2, cv=3, n_jobs=-1\\n)\\nrandomSearch.fit(X_train_pur, y_train_pur)\\nprint(\\\"Initial parameters: \\\", randomSearch.best_params_)\";\n",
       "                var nbb_formatted_code = \"rf_param_grid = {\\n    \\\"max_features\\\": [\\\"None\\\", \\\"auto\\\", \\\"sqrt\\\"],\\n    \\\"n_estimators\\\": [500, 1000, 1500],\\n    \\\"max_depth\\\": [5, 20, 50, 100],\\n    \\\"min_samples_split\\\": [2, 5, 10],\\n    \\\"min_samples_leaf\\\": [1, 2, 4],\\n    \\\"bootstrap\\\": [\\\"True\\\", \\\"False\\\"],\\n}\\n\\nrandomSearch = RandomizedSearchCV(\\n    RandomForestRegressor(random_state=1), rf_param_grid, verbose=2, cv=3, n_jobs=-1\\n)\\nrandomSearch.fit(X_train_pur, y_train_pur)\\nprint(\\\"Initial parameters: \\\", randomSearch.best_params_)\";\n",
       "                var nbb_cells = Jupyter.notebook.get_cells();\n",
       "                for (var i = 0; i < nbb_cells.length; ++i) {\n",
       "                    if (nbb_cells[i].input_prompt_number == nbb_cell_id) {\n",
       "                        if (nbb_cells[i].get_text() == nbb_unformatted_code) {\n",
       "                             nbb_cells[i].set_text(nbb_formatted_code);\n",
       "                        }\n",
       "                        break;\n",
       "                    }\n",
       "                }\n",
       "            }, 500);\n",
       "            "
      ],
      "text/plain": [
       "<IPython.core.display.Javascript object>"
      ]
     },
     "metadata": {},
     "output_type": "display_data"
    }
   ],
   "source": [
    "rf_param_grid = {\n",
    "    \"max_features\": [\"None\", \"auto\", \"sqrt\"],\n",
    "    \"n_estimators\": [500, 1000, 1500],\n",
    "    \"max_depth\": [5, 20, 50, 100],\n",
    "    \"min_samples_split\": [2, 5, 10],\n",
    "    \"min_samples_leaf\": [1, 2, 4],\n",
    "    \"bootstrap\": [\"True\", \"False\"],\n",
    "}\n",
    "\n",
    "randomSearch = RandomizedSearchCV(\n",
    "    RandomForestRegressor(random_state=1), rf_param_grid, verbose=2, cv=3, n_jobs=-1\n",
    ")\n",
    "randomSearch.fit(X_train_pur, y_train_pur)\n",
    "print(\"Initial parameters: \", randomSearch.best_params_)"
   ]
  },
  {
   "cell_type": "code",
   "execution_count": 23,
   "metadata": {},
   "outputs": [
    {
     "name": "stdout",
     "output_type": "stream",
     "text": [
      "Fitting 3 folds for each of 320 candidates, totalling 960 fits\n"
     ]
    },
    {
     "name": "stderr",
     "output_type": "stream",
     "text": [
      "[Parallel(n_jobs=-1)]: Using backend LokyBackend with 8 concurrent workers.\n",
      "[Parallel(n_jobs=-1)]: Done  34 tasks      | elapsed:    2.6s\n",
      "[Parallel(n_jobs=-1)]: Done 178 tasks      | elapsed:   12.4s\n",
      "[Parallel(n_jobs=-1)]: Done 381 tasks      | elapsed:   51.1s\n",
      "[Parallel(n_jobs=-1)]: Done 664 tasks      | elapsed:  1.7min\n",
      "[Parallel(n_jobs=-1)]: Done 960 out of 960 | elapsed:  2.6min finished\n"
     ]
    },
    {
     "name": "stdout",
     "output_type": "stream",
     "text": [
      "Improved parameters:  {'bootstrap': 'True', 'max_depth': 50, 'max_features': 'auto', 'min_samples_leaf': 2, 'min_samples_split': 2, 'n_estimators': 3000}\n",
      "\n",
      " ---- Random Forest Regression Summary for Train Set ----\n",
      "\n",
      "Regression statistics\n",
      "\n",
      "                      Mean Error (ME) : -1.3958\n",
      "       Root Mean Squared Error (RMSE) : 94.3020\n",
      "            Mean Absolute Error (MAE) : 51.4337\n",
      "          Mean Percentage Error (MPE) : -59.4918\n",
      "Mean Absolute Percentage Error (MAPE) : 72.4183\n",
      "\n",
      "---- Random Forest Regression Summary for Validation Set ----\n",
      "\n",
      "Regression statistics\n",
      "\n",
      "                      Mean Error (ME) : 0.9313\n",
      "       Root Mean Squared Error (RMSE) : 165.8719\n",
      "            Mean Absolute Error (MAE) : 99.6267\n",
      "          Mean Percentage Error (MPE) : -97.2077\n",
      "Mean Absolute Percentage Error (MAPE) : 121.3139\n"
     ]
    },
    {
     "data": {
      "application/javascript": [
       "\n",
       "            setTimeout(function() {\n",
       "                var nbb_cell_id = 23;\n",
       "                var nbb_unformatted_code = \"# Improving Params\\nrf_param_grid = {\\n    \\\"max_features\\\": [\\\"auto\\\", 1, 2, 3],\\n    \\\"n_estimators\\\": [100, 1000, 2000, 3000],\\n    \\\"max_depth\\\": [\\\"None\\\", 25, 50, 75, 90],\\n    \\\"min_samples_split\\\": [1, 2],\\n    \\\"min_samples_leaf\\\": [1, 2],\\n    \\\"bootstrap\\\": [\\\"True\\\"],\\n}\\n\\ngridSearch = GridSearchCV(\\n    RandomForestRegressor(random_state=1), rf_param_grid,\\n    verbose=2, cv=3, n_jobs=-1\\n)\\ngridSearch.fit(X_train_pur, y_train_pur)\\nprint(\\\"Improved parameters: \\\", gridSearch.best_params_)\\n\\n\\n# Save best params\\nrf = gridSearch.best_estimator_\\n\\n# Print Regression Summary\\nprint(\\\"\\\\n ---- Random Forest Regression Summary for Train Set ----\\\")\\nregressionSummary(y_train_pur, rf.predict(X_train_pur))\\nprint(\\\"\\\\n---- Random Forest Regression Summary for Validation Set ----\\\")\\nregressionSummary(y_valid_pur, rf.predict(X_valid_pur))\";\n",
       "                var nbb_formatted_code = \"# Improving Params\\nrf_param_grid = {\\n    \\\"max_features\\\": [\\\"auto\\\", 1, 2, 3],\\n    \\\"n_estimators\\\": [100, 1000, 2000, 3000],\\n    \\\"max_depth\\\": [\\\"None\\\", 25, 50, 75, 90],\\n    \\\"min_samples_split\\\": [1, 2],\\n    \\\"min_samples_leaf\\\": [1, 2],\\n    \\\"bootstrap\\\": [\\\"True\\\"],\\n}\\n\\ngridSearch = GridSearchCV(\\n    RandomForestRegressor(random_state=1), rf_param_grid, verbose=2, cv=3, n_jobs=-1\\n)\\ngridSearch.fit(X_train_pur, y_train_pur)\\nprint(\\\"Improved parameters: \\\", gridSearch.best_params_)\\n\\n\\n# Save best params\\nrf = gridSearch.best_estimator_\\n\\n# Print Regression Summary\\nprint(\\\"\\\\n ---- Random Forest Regression Summary for Train Set ----\\\")\\nregressionSummary(y_train_pur, rf.predict(X_train_pur))\\nprint(\\\"\\\\n---- Random Forest Regression Summary for Validation Set ----\\\")\\nregressionSummary(y_valid_pur, rf.predict(X_valid_pur))\";\n",
       "                var nbb_cells = Jupyter.notebook.get_cells();\n",
       "                for (var i = 0; i < nbb_cells.length; ++i) {\n",
       "                    if (nbb_cells[i].input_prompt_number == nbb_cell_id) {\n",
       "                        if (nbb_cells[i].get_text() == nbb_unformatted_code) {\n",
       "                             nbb_cells[i].set_text(nbb_formatted_code);\n",
       "                        }\n",
       "                        break;\n",
       "                    }\n",
       "                }\n",
       "            }, 500);\n",
       "            "
      ],
      "text/plain": [
       "<IPython.core.display.Javascript object>"
      ]
     },
     "metadata": {},
     "output_type": "display_data"
    }
   ],
   "source": [
    "# Improving Params\n",
    "rf_param_grid = {\n",
    "    \"max_features\": [\"auto\", 1, 2, 3],\n",
    "    \"n_estimators\": [100, 1000, 2000, 3000],\n",
    "    \"max_depth\": [\"None\", 25, 50, 75, 90],\n",
    "    \"min_samples_split\": [1, 2],\n",
    "    \"min_samples_leaf\": [1, 2],\n",
    "    \"bootstrap\": [\"True\"],\n",
    "}\n",
    "\n",
    "gridSearch = GridSearchCV(\n",
    "    RandomForestRegressor(random_state=1),\n",
    "    rf_param_grid, verbose=2, cv=3, n_jobs=-1\n",
    ")\n",
    "gridSearch.fit(X_train_pur, y_train_pur)\n",
    "print(\"Improved parameters: \", gridSearch.best_params_)\n",
    "\n",
    "\n",
    "# Save best params\n",
    "rf = gridSearch.best_estimator_\n",
    "\n",
    "# Print Regression Summary\n",
    "print(\"\\n ---- Random Forest Regression Summary for Train Set ----\")\n",
    "regressionSummary(y_train_pur, rf.predict(X_train_pur))\n",
    "print(\"\\n---- Random Forest Regression Summary for Validation Set ----\")\n",
    "regressionSummary(y_valid_pur, rf.predict(X_valid_pur))"
   ]
  },
  {
   "cell_type": "markdown",
   "metadata": {},
   "source": [
    "_Random Forest Regressor Feature Importance Plot_"
   ]
  },
  {
   "cell_type": "code",
   "execution_count": 24,
   "metadata": {},
   "outputs": [
    {
     "data": {
      "image/png": "[encoded data removed]",
      "text/plain": [
       "<Figure size 432x288 with 1 Axes>"
      ]
     },
     "metadata": {
      "needs_background": "light"
     },
     "output_type": "display_data"
    },
    {
     "data": {
      "application/javascript": [
       "\n",
       "            setTimeout(function() {\n",
       "                var nbb_cell_id = 24;\n",
       "                var nbb_unformatted_code = \"# variable (feature) importance plot\\nimportances = rf.feature_importances_\\n\\nstd = np.std([tree.feature_importances_ for tree in rf.estimators_],\\n             axis=0)\\n\\ndf = pd.DataFrame(\\n    {\\\"feature\\\": X_train_pur.columns, \\\"importance\\\": importances, \\\"std\\\": std}\\n)\\ndf = df.sort_values(\\\"importance\\\")\\nax = df.plot(kind=\\\"barh\\\", xerr=\\\"std\\\", x=\\\"feature\\\", legend=False)\\nax.set_ylabel(\\\"\\\")\\nplt.show()\";\n",
       "                var nbb_formatted_code = \"# variable (feature) importance plot\\nimportances = rf.feature_importances_\\n\\nstd = np.std([tree.feature_importances_ for tree in rf.estimators_], axis=0)\\n\\ndf = pd.DataFrame(\\n    {\\\"feature\\\": X_train_pur.columns, \\\"importance\\\": importances, \\\"std\\\": std}\\n)\\ndf = df.sort_values(\\\"importance\\\")\\nax = df.plot(kind=\\\"barh\\\", xerr=\\\"std\\\", x=\\\"feature\\\", legend=False)\\nax.set_ylabel(\\\"\\\")\\nplt.show()\";\n",
       "                var nbb_cells = Jupyter.notebook.get_cells();\n",
       "                for (var i = 0; i < nbb_cells.length; ++i) {\n",
       "                    if (nbb_cells[i].input_prompt_number == nbb_cell_id) {\n",
       "                        if (nbb_cells[i].get_text() == nbb_unformatted_code) {\n",
       "                             nbb_cells[i].set_text(nbb_formatted_code);\n",
       "                        }\n",
       "                        break;\n",
       "                    }\n",
       "                }\n",
       "            }, 500);\n",
       "            "
      ],
      "text/plain": [
       "<IPython.core.display.Javascript object>"
      ]
     },
     "metadata": {},
     "output_type": "display_data"
    }
   ],
   "source": [
    "# variable (feature) importance plot\n",
    "importances = rf.feature_importances_\n",
    "\n",
    "std = np.std([tree.feature_importances_ for tree in rf.estimators_], axis=0)\n",
    "\n",
    "df = pd.DataFrame(\n",
    "    {\"feature\": X_train_pur.columns, \"importance\": importances, \"std\": std}\n",
    ")\n",
    "df = df.sort_values(\"importance\")\n",
    "ax = df.plot(kind=\"barh\", xerr=\"std\", x=\"feature\", legend=False)\n",
    "ax.set_ylabel(\"\")\n",
    "plt.show()"
   ]
  },
  {
   "cell_type": "markdown",
   "metadata": {},
   "source": [
    "A feature importance plot was made for the random forest model to gain further insight on what features were most important. The plot indicates that frequency (number of transactions in last year at source catalog) was the most critical factor in determining customer expected spending. "
   ]
  },
  {
   "cell_type": "markdown",
   "metadata": {},
   "source": [
    "#### 3.2.3  Choose one model on the basis of its performance on the validation data and explain your reasoning for selecting it "
   ]
  },
  {
   "cell_type": "markdown",
   "metadata": {},
   "source": [
    "Best Model (based on perfomance on the validation data): **Random Forest Regressor**\n",
    "* Regression statistic summaries on the validation were created for each model (linear regression, decision tree regressor, and random forest regressor). Based on the regression statistics, the random forest model had the lowest mean error and root mean squared error among all models used. "
   ]
  },
  {
   "cell_type": "markdown",
   "metadata": {},
   "source": [
    "## 4. Return to the original test data partition. Note that this test data partition includes both purchasers and nonpurchasers. Create a new data frame called Score Analysis that contains the test data portion of this dataset."
   ]
  },
  {
   "cell_type": "code",
   "execution_count": 25,
   "metadata": {},
   "outputs": [
    {
     "data": {
      "application/javascript": [
       "\n",
       "            setTimeout(function() {\n",
       "                var nbb_cell_id = 25;\n",
       "                var nbb_unformatted_code = \"Score_Analysis = pd.DataFrame(X_test[predictors])\\nScore_Analysis[\\\"Purchase\\\"] = y_test[\\\"Purchase\\\"]\\nScore_Analysis[\\\"Spending\\\"] = y_test[\\\"Spending\\\"]\";\n",
       "                var nbb_formatted_code = \"Score_Analysis = pd.DataFrame(X_test[predictors])\\nScore_Analysis[\\\"Purchase\\\"] = y_test[\\\"Purchase\\\"]\\nScore_Analysis[\\\"Spending\\\"] = y_test[\\\"Spending\\\"]\";\n",
       "                var nbb_cells = Jupyter.notebook.get_cells();\n",
       "                for (var i = 0; i < nbb_cells.length; ++i) {\n",
       "                    if (nbb_cells[i].input_prompt_number == nbb_cell_id) {\n",
       "                        if (nbb_cells[i].get_text() == nbb_unformatted_code) {\n",
       "                             nbb_cells[i].set_text(nbb_formatted_code);\n",
       "                        }\n",
       "                        break;\n",
       "                    }\n",
       "                }\n",
       "            }, 500);\n",
       "            "
      ],
      "text/plain": [
       "<IPython.core.display.Javascript object>"
      ]
     },
     "metadata": {},
     "output_type": "display_data"
    }
   ],
   "source": [
    "Score_Analysis = pd.DataFrame(X_test[predictors])\n",
    "Score_Analysis[\"Purchase\"] = y_test[\"Purchase\"]\n",
    "Score_Analysis[\"Spending\"] = y_test[\"Spending\"]"
   ]
  },
  {
   "cell_type": "markdown",
   "metadata": {},
   "source": [
    "### 4.1 Add a column to the data frame with the predicted scores from the logistic regression."
   ]
  },
  {
   "cell_type": "code",
   "execution_count": 26,
   "metadata": {},
   "outputs": [
    {
     "name": "stdout",
     "output_type": "stream",
     "text": [
      "- Confustion Matrix -\n",
      "Confusion Matrix (Accuracy 0.7940)\n",
      "\n",
      "              Prediction\n",
      "       Actual nonpurchasers    purchasers\n",
      "nonpurchasers           183            47\n",
      "   purchasers            56           214\n"
     ]
    },
    {
     "data": {
      "application/javascript": [
       "\n",
       "            setTimeout(function() {\n",
       "                var nbb_cell_id = 26;\n",
       "                var nbb_unformatted_code = \"# Logistic Regression on Test Data Set\\nlogit_red_pred = logit_red.predict_proba(X_test[predictors])[:, 1]\\nred_result = pd.DataFrame(\\n    {\\n        \\\"actual\\\": y_test[\\\"Purchase\\\"],\\n        \\\"predicted\\\": logit_red.predict(X_test[predictors]),\\n    }\\n)\\n\\n# confusion matrix\\nprint(\\\"- Confustion Matrix -\\\")\\nclassificationSummary(red_result.actual, red_result.predicted,\\n                      class_names=classes)\";\n",
       "                var nbb_formatted_code = \"# Logistic Regression on Test Data Set\\nlogit_red_pred = logit_red.predict_proba(X_test[predictors])[:, 1]\\nred_result = pd.DataFrame(\\n    {\\n        \\\"actual\\\": y_test[\\\"Purchase\\\"],\\n        \\\"predicted\\\": logit_red.predict(X_test[predictors]),\\n    }\\n)\\n\\n# confusion matrix\\nprint(\\\"- Confustion Matrix -\\\")\\nclassificationSummary(red_result.actual, red_result.predicted, class_names=classes)\";\n",
       "                var nbb_cells = Jupyter.notebook.get_cells();\n",
       "                for (var i = 0; i < nbb_cells.length; ++i) {\n",
       "                    if (nbb_cells[i].input_prompt_number == nbb_cell_id) {\n",
       "                        if (nbb_cells[i].get_text() == nbb_unformatted_code) {\n",
       "                             nbb_cells[i].set_text(nbb_formatted_code);\n",
       "                        }\n",
       "                        break;\n",
       "                    }\n",
       "                }\n",
       "            }, 500);\n",
       "            "
      ],
      "text/plain": [
       "<IPython.core.display.Javascript object>"
      ]
     },
     "metadata": {},
     "output_type": "display_data"
    }
   ],
   "source": [
    "# Logistic Regression on Test Data Set\n",
    "logit_red_pred = logit_red.predict_proba(X_test[predictors])[:, 1]\n",
    "red_result = pd.DataFrame(\n",
    "    {\n",
    "        \"actual\": y_test[\"Purchase\"],\n",
    "        \"predicted\": logit_red.predict(X_test[predictors]),\n",
    "    }\n",
    ")\n",
    "\n",
    "# confusion matrix\n",
    "print(\"- Confustion Matrix -\")\n",
    "classificationSummary(red_result.actual, red_result.predicted, class_names=classes)"
   ]
  },
  {
   "cell_type": "code",
   "execution_count": 27,
   "metadata": {},
   "outputs": [
    {
     "data": {
      "application/javascript": [
       "\n",
       "            setTimeout(function() {\n",
       "                var nbb_cell_id = 27;\n",
       "                var nbb_unformatted_code = \"# Insert Predicted Purchase and Predicted Probability Results from Logistic Regression\\nScore_Analysis[\\\"Predicted Purchase\\\"] = logit_red.predict(X_test[predictors])\\nScore_Analysis[\\\"Predicted Probability\\\"] = logit_red_pred\";\n",
       "                var nbb_formatted_code = \"# Insert Predicted Purchase and Predicted Probability Results from Logistic Regression\\nScore_Analysis[\\\"Predicted Purchase\\\"] = logit_red.predict(X_test[predictors])\\nScore_Analysis[\\\"Predicted Probability\\\"] = logit_red_pred\";\n",
       "                var nbb_cells = Jupyter.notebook.get_cells();\n",
       "                for (var i = 0; i < nbb_cells.length; ++i) {\n",
       "                    if (nbb_cells[i].input_prompt_number == nbb_cell_id) {\n",
       "                        if (nbb_cells[i].get_text() == nbb_unformatted_code) {\n",
       "                             nbb_cells[i].set_text(nbb_formatted_code);\n",
       "                        }\n",
       "                        break;\n",
       "                    }\n",
       "                }\n",
       "            }, 500);\n",
       "            "
      ],
      "text/plain": [
       "<IPython.core.display.Javascript object>"
      ]
     },
     "metadata": {},
     "output_type": "display_data"
    }
   ],
   "source": [
    "# Insert Predicted Purchase and Predicted Probability Results from Logistic Regression\n",
    "Score_Analysis[\"Predicted Purchase\"] = logit_red.predict(X_test[predictors])\n",
    "Score_Analysis[\"Predicted Probability\"] = logit_red_pred"
   ]
  },
  {
   "cell_type": "markdown",
   "metadata": {},
   "source": [
    "### 4.2 Add another column with the predicted spending amount from the prediction model chosen"
   ]
  },
  {
   "cell_type": "code",
   "execution_count": 28,
   "metadata": {},
   "outputs": [
    {
     "data": {
      "application/javascript": [
       "\n",
       "            setTimeout(function() {\n",
       "                var nbb_cell_id = 28;\n",
       "                var nbb_unformatted_code = \"# Random Forest Model on Test Data Set\\nScore_Analysis[\\\"Predicted Spending\\\"] = rf.predict(X_test)\";\n",
       "                var nbb_formatted_code = \"# Random Forest Model on Test Data Set\\nScore_Analysis[\\\"Predicted Spending\\\"] = rf.predict(X_test)\";\n",
       "                var nbb_cells = Jupyter.notebook.get_cells();\n",
       "                for (var i = 0; i < nbb_cells.length; ++i) {\n",
       "                    if (nbb_cells[i].input_prompt_number == nbb_cell_id) {\n",
       "                        if (nbb_cells[i].get_text() == nbb_unformatted_code) {\n",
       "                             nbb_cells[i].set_text(nbb_formatted_code);\n",
       "                        }\n",
       "                        break;\n",
       "                    }\n",
       "                }\n",
       "            }, 500);\n",
       "            "
      ],
      "text/plain": [
       "<IPython.core.display.Javascript object>"
      ]
     },
     "metadata": {},
     "output_type": "display_data"
    }
   ],
   "source": [
    "# Random Forest Model on Test Data Set\n",
    "Score_Analysis[\"Predicted Spending\"] = rf.predict(X_test)"
   ]
  },
  {
   "cell_type": "markdown",
   "metadata": {},
   "source": [
    "### 4.3 Add a column for “adjusted probability of purchase” by multiplying “predicted probability of purchase” by 0.107. This is to adjust for oversampling the purchasers (see earlier description). "
   ]
  },
  {
   "cell_type": "code",
   "execution_count": 29,
   "metadata": {},
   "outputs": [
    {
     "data": {
      "application/javascript": [
       "\n",
       "            setTimeout(function() {\n",
       "                var nbb_cell_id = 29;\n",
       "                var nbb_unformatted_code = \"# Insert Adjusted Probability of Purchase\\nScore_Analysis[\\\"Adjusted Probability of Purchase\\\"] = (\\n    Score_Analysis[\\\"Predicted Probability\\\"] * 0.107\\n)\";\n",
       "                var nbb_formatted_code = \"# Insert Adjusted Probability of Purchase\\nScore_Analysis[\\\"Adjusted Probability of Purchase\\\"] = (\\n    Score_Analysis[\\\"Predicted Probability\\\"] * 0.107\\n)\";\n",
       "                var nbb_cells = Jupyter.notebook.get_cells();\n",
       "                for (var i = 0; i < nbb_cells.length; ++i) {\n",
       "                    if (nbb_cells[i].input_prompt_number == nbb_cell_id) {\n",
       "                        if (nbb_cells[i].get_text() == nbb_unformatted_code) {\n",
       "                             nbb_cells[i].set_text(nbb_formatted_code);\n",
       "                        }\n",
       "                        break;\n",
       "                    }\n",
       "                }\n",
       "            }, 500);\n",
       "            "
      ],
      "text/plain": [
       "<IPython.core.display.Javascript object>"
      ]
     },
     "metadata": {},
     "output_type": "display_data"
    }
   ],
   "source": [
    "# Insert Adjusted Probability of Purchase\n",
    "Score_Analysis[\"Adjusted Probability of Purchase\"] = (\n",
    "    Score_Analysis[\"Predicted Probability\"] * 0.107\n",
    ")"
   ]
  },
  {
   "cell_type": "markdown",
   "metadata": {},
   "source": [
    "### 4.4 Add a column for expected spending: adjusted probability of purchase * predicted spending."
   ]
  },
  {
   "cell_type": "code",
   "execution_count": 30,
   "metadata": {},
   "outputs": [
    {
     "data": {
      "application/javascript": [
       "\n",
       "            setTimeout(function() {\n",
       "                var nbb_cell_id = 30;\n",
       "                var nbb_unformatted_code = \"# Insert Expected Spending\\nScore_Analysis[\\\"Expected Spending\\\"] = (\\n    Score_Analysis[\\\"Adjusted Probability of Purchase\\\"]\\n    * Score_Analysis[\\\"Predicted Spending\\\"]\\n)\";\n",
       "                var nbb_formatted_code = \"# Insert Expected Spending\\nScore_Analysis[\\\"Expected Spending\\\"] = (\\n    Score_Analysis[\\\"Adjusted Probability of Purchase\\\"]\\n    * Score_Analysis[\\\"Predicted Spending\\\"]\\n)\";\n",
       "                var nbb_cells = Jupyter.notebook.get_cells();\n",
       "                for (var i = 0; i < nbb_cells.length; ++i) {\n",
       "                    if (nbb_cells[i].input_prompt_number == nbb_cell_id) {\n",
       "                        if (nbb_cells[i].get_text() == nbb_unformatted_code) {\n",
       "                             nbb_cells[i].set_text(nbb_formatted_code);\n",
       "                        }\n",
       "                        break;\n",
       "                    }\n",
       "                }\n",
       "            }, 500);\n",
       "            "
      ],
      "text/plain": [
       "<IPython.core.display.Javascript object>"
      ]
     },
     "metadata": {},
     "output_type": "display_data"
    }
   ],
   "source": [
    "# Insert Expected Spending\n",
    "Score_Analysis[\"Expected Spending\"] = (\n",
    "    Score_Analysis[\"Adjusted Probability of Purchase\"]\n",
    "    * Score_Analysis[\"Predicted Spending\"]\n",
    ")"
   ]
  },
  {
   "cell_type": "code",
   "execution_count": 31,
   "metadata": {
    "scrolled": false
   },
   "outputs": [
    {
     "data": {
      "text/html": [
       "<div>\n",
       "<style scoped>\n",
       "    .dataframe tbody tr th:only-of-type {\n",
       "        vertical-align: middle;\n",
       "    }\n",
       "\n",
       "    .dataframe tbody tr th {\n",
       "        vertical-align: top;\n",
       "    }\n",
       "\n",
       "    .dataframe thead th {\n",
       "        text-align: right;\n",
       "    }\n",
       "</style>\n",
       "<table border=\"1\" class=\"dataframe\">\n",
       "  <thead>\n",
       "    <tr style=\"text-align: right;\">\n",
       "      <th></th>\n",
       "      <th>Purchase</th>\n",
       "      <th>Spending</th>\n",
       "      <th>Predicted Purchase</th>\n",
       "      <th>Adjusted Probability of Purchase</th>\n",
       "      <th>Predicted Spending</th>\n",
       "      <th>Expected Spending</th>\n",
       "    </tr>\n",
       "  </thead>\n",
       "  <tbody>\n",
       "    <tr>\n",
       "      <th>674</th>\n",
       "      <td>0</td>\n",
       "      <td>0</td>\n",
       "      <td>0</td>\n",
       "      <td>0.002401</td>\n",
       "      <td>159.904173</td>\n",
       "      <td>0.383937</td>\n",
       "    </tr>\n",
       "    <tr>\n",
       "      <th>1699</th>\n",
       "      <td>1</td>\n",
       "      <td>184</td>\n",
       "      <td>1</td>\n",
       "      <td>0.101505</td>\n",
       "      <td>377.821459</td>\n",
       "      <td>38.350898</td>\n",
       "    </tr>\n",
       "    <tr>\n",
       "      <th>1282</th>\n",
       "      <td>0</td>\n",
       "      <td>0</td>\n",
       "      <td>1</td>\n",
       "      <td>0.060010</td>\n",
       "      <td>92.408895</td>\n",
       "      <td>5.545478</td>\n",
       "    </tr>\n",
       "    <tr>\n",
       "      <th>1315</th>\n",
       "      <td>1</td>\n",
       "      <td>1289</td>\n",
       "      <td>1</td>\n",
       "      <td>0.107000</td>\n",
       "      <td>1218.206196</td>\n",
       "      <td>130.348061</td>\n",
       "    </tr>\n",
       "    <tr>\n",
       "      <th>1210</th>\n",
       "      <td>0</td>\n",
       "      <td>0</td>\n",
       "      <td>0</td>\n",
       "      <td>0.010968</td>\n",
       "      <td>136.799538</td>\n",
       "      <td>1.500420</td>\n",
       "    </tr>\n",
       "    <tr>\n",
       "      <th>...</th>\n",
       "      <td>...</td>\n",
       "      <td>...</td>\n",
       "      <td>...</td>\n",
       "      <td>...</td>\n",
       "      <td>...</td>\n",
       "      <td>...</td>\n",
       "    </tr>\n",
       "    <tr>\n",
       "      <th>537</th>\n",
       "      <td>1</td>\n",
       "      <td>44</td>\n",
       "      <td>0</td>\n",
       "      <td>0.044393</td>\n",
       "      <td>196.773368</td>\n",
       "      <td>8.735305</td>\n",
       "    </tr>\n",
       "    <tr>\n",
       "      <th>1450</th>\n",
       "      <td>1</td>\n",
       "      <td>281</td>\n",
       "      <td>1</td>\n",
       "      <td>0.102533</td>\n",
       "      <td>270.075245</td>\n",
       "      <td>27.691497</td>\n",
       "    </tr>\n",
       "    <tr>\n",
       "      <th>1919</th>\n",
       "      <td>1</td>\n",
       "      <td>514</td>\n",
       "      <td>1</td>\n",
       "      <td>0.105451</td>\n",
       "      <td>515.357064</td>\n",
       "      <td>54.345048</td>\n",
       "    </tr>\n",
       "    <tr>\n",
       "      <th>255</th>\n",
       "      <td>0</td>\n",
       "      <td>0</td>\n",
       "      <td>0</td>\n",
       "      <td>0.002401</td>\n",
       "      <td>163.612844</td>\n",
       "      <td>0.392841</td>\n",
       "    </tr>\n",
       "    <tr>\n",
       "      <th>589</th>\n",
       "      <td>1</td>\n",
       "      <td>35</td>\n",
       "      <td>1</td>\n",
       "      <td>0.099409</td>\n",
       "      <td>179.243582</td>\n",
       "      <td>17.818341</td>\n",
       "    </tr>\n",
       "  </tbody>\n",
       "</table>\n",
       "<p>500 rows × 6 columns</p>\n",
       "</div>"
      ],
      "text/plain": [
       "      Purchase  Spending  Predicted Purchase  \\\n",
       "674          0         0                   0   \n",
       "1699         1       184                   1   \n",
       "1282         0         0                   1   \n",
       "1315         1      1289                   1   \n",
       "1210         0         0                   0   \n",
       "...        ...       ...                 ...   \n",
       "537          1        44                   0   \n",
       "1450         1       281                   1   \n",
       "1919         1       514                   1   \n",
       "255          0         0                   0   \n",
       "589          1        35                   1   \n",
       "\n",
       "      Adjusted Probability of Purchase  Predicted Spending  Expected Spending  \n",
       "674                           0.002401          159.904173           0.383937  \n",
       "1699                          0.101505          377.821459          38.350898  \n",
       "1282                          0.060010           92.408895           5.545478  \n",
       "1315                          0.107000         1218.206196         130.348061  \n",
       "1210                          0.010968          136.799538           1.500420  \n",
       "...                                ...                 ...                ...  \n",
       "537                           0.044393          196.773368           8.735305  \n",
       "1450                          0.102533          270.075245          27.691497  \n",
       "1919                          0.105451          515.357064          54.345048  \n",
       "255                           0.002401          163.612844           0.392841  \n",
       "589                           0.099409          179.243582          17.818341  \n",
       "\n",
       "[500 rows x 6 columns]"
      ]
     },
     "metadata": {},
     "output_type": "display_data"
    },
    {
     "data": {
      "application/javascript": [
       "\n",
       "            setTimeout(function() {\n",
       "                var nbb_cell_id = 31;\n",
       "                var nbb_unformatted_code = \"Answers = Score_Analysis[\\n    [\\n        \\\"Purchase\\\",\\n        \\\"Spending\\\",\\n        \\\"Predicted Purchase\\\",\\n        \\\"Adjusted Probability of Purchase\\\",\\n        \\\"Predicted Spending\\\",\\n        \\\"Expected Spending\\\",\\n    ]\\n]\\ndisplay(Answers)\";\n",
       "                var nbb_formatted_code = \"Answers = Score_Analysis[\\n    [\\n        \\\"Purchase\\\",\\n        \\\"Spending\\\",\\n        \\\"Predicted Purchase\\\",\\n        \\\"Adjusted Probability of Purchase\\\",\\n        \\\"Predicted Spending\\\",\\n        \\\"Expected Spending\\\",\\n    ]\\n]\\ndisplay(Answers)\";\n",
       "                var nbb_cells = Jupyter.notebook.get_cells();\n",
       "                for (var i = 0; i < nbb_cells.length; ++i) {\n",
       "                    if (nbb_cells[i].input_prompt_number == nbb_cell_id) {\n",
       "                        if (nbb_cells[i].get_text() == nbb_unformatted_code) {\n",
       "                             nbb_cells[i].set_text(nbb_formatted_code);\n",
       "                        }\n",
       "                        break;\n",
       "                    }\n",
       "                }\n",
       "            }, 500);\n",
       "            "
      ],
      "text/plain": [
       "<IPython.core.display.Javascript object>"
      ]
     },
     "metadata": {},
     "output_type": "display_data"
    }
   ],
   "source": [
    "Answers = Score_Analysis[\n",
    "    [\n",
    "        \"Purchase\",\n",
    "        \"Spending\",\n",
    "        \"Predicted Purchase\",\n",
    "        \"Adjusted Probability of Purchase\",\n",
    "        \"Predicted Spending\",\n",
    "        \"Expected Spending\",\n",
    "    ]\n",
    "]\n",
    "display(Answers)"
   ]
  },
  {
   "cell_type": "markdown",
   "metadata": {},
   "source": [
    "### 4.5 Plot the cumulative gains chart of the expected spending (cumulative expected spending as a function of number of records targeted)"
   ]
  },
  {
   "cell_type": "code",
   "execution_count": 32,
   "metadata": {
    "scrolled": true
   },
   "outputs": [
    {
     "data": {
      "image/png": "[encoded data removed]",
      "text/plain": [
       "<Figure size 432x288 with 1 Axes>"
      ]
     },
     "metadata": {
      "needs_background": "light"
     },
     "output_type": "display_data"
    },
    {
     "data": {
      "application/javascript": [
       "\n",
       "            setTimeout(function() {\n",
       "                var nbb_cell_id = 32;\n",
       "                var nbb_unformatted_code = \"# Create a new dataframe for Gains\\ngains_df = pd.gains_df = pd.DataFrame(Score_Analysis[\\\"Expected Spending\\\"])\\n\\n# Sort values in Gains Data Frame\\ngains_df = gains_df.sort_values(by=[\\\"Expected Spending\\\"],\\n                                ascending=False).reset_index(\\n    drop=True\\n)\\n\\n# Plot a gains chart\\ngainsChart(gains_df[\\\"Expected Spending\\\"])\\nplt.show()\";\n",
       "                var nbb_formatted_code = \"# Create a new dataframe for Gains\\ngains_df = pd.gains_df = pd.DataFrame(Score_Analysis[\\\"Expected Spending\\\"])\\n\\n# Sort values in Gains Data Frame\\ngains_df = gains_df.sort_values(by=[\\\"Expected Spending\\\"], ascending=False).reset_index(\\n    drop=True\\n)\\n\\n# Plot a gains chart\\ngainsChart(gains_df[\\\"Expected Spending\\\"])\\nplt.show()\";\n",
       "                var nbb_cells = Jupyter.notebook.get_cells();\n",
       "                for (var i = 0; i < nbb_cells.length; ++i) {\n",
       "                    if (nbb_cells[i].input_prompt_number == nbb_cell_id) {\n",
       "                        if (nbb_cells[i].get_text() == nbb_unformatted_code) {\n",
       "                             nbb_cells[i].set_text(nbb_formatted_code);\n",
       "                        }\n",
       "                        break;\n",
       "                    }\n",
       "                }\n",
       "            }, 500);\n",
       "            "
      ],
      "text/plain": [
       "<IPython.core.display.Javascript object>"
      ]
     },
     "metadata": {},
     "output_type": "display_data"
    }
   ],
   "source": [
    "# Create a new dataframe for Gains\n",
    "gains_df = pd.gains_df = pd.DataFrame(Score_Analysis[\"Expected Spending\"])\n",
    "\n",
    "# Sort values in Gains Data Frame\n",
    "gains_df = gains_df.sort_values(by=[\"Expected Spending\"], ascending=False).reset_index(\n",
    "    drop=True\n",
    ")\n",
    "\n",
    "# Plot a gains chart\n",
    "gainsChart(gains_df[\"Expected Spending\"])\n",
    "plt.show()"
   ]
  },
  {
   "cell_type": "markdown",
   "metadata": {},
   "source": [
    "Based on the gains curve, for instance, if we select the top 20% of cases (100 records) based on the model, we will select about 60% of the target class. If we select the top 80% of cases, we would expect 100% of the target class. "
   ]
  },
  {
   "cell_type": "code",
   "execution_count": 33,
   "metadata": {},
   "outputs": [
    {
     "data": {
      "image/png": "[encoded data removed]",
      "text/plain": [
       "<Figure size 432x288 with 1 Axes>"
      ]
     },
     "metadata": {
      "needs_background": "light"
     },
     "output_type": "display_data"
    },
    {
     "data": {
      "application/javascript": [
       "\n",
       "            setTimeout(function() {\n",
       "                var nbb_cell_id = 33;\n",
       "                var nbb_unformatted_code = \"liftChart(gains_df[\\\"Expected Spending\\\"], labelBars=True)\\nplt.show()\";\n",
       "                var nbb_formatted_code = \"liftChart(gains_df[\\\"Expected Spending\\\"], labelBars=True)\\nplt.show()\";\n",
       "                var nbb_cells = Jupyter.notebook.get_cells();\n",
       "                for (var i = 0; i < nbb_cells.length; ++i) {\n",
       "                    if (nbb_cells[i].input_prompt_number == nbb_cell_id) {\n",
       "                        if (nbb_cells[i].get_text() == nbb_unformatted_code) {\n",
       "                             nbb_cells[i].set_text(nbb_formatted_code);\n",
       "                        }\n",
       "                        break;\n",
       "                    }\n",
       "                }\n",
       "            }, 500);\n",
       "            "
      ],
      "text/plain": [
       "<IPython.core.display.Javascript object>"
      ]
     },
     "metadata": {},
     "output_type": "display_data"
    }
   ],
   "source": [
    "liftChart(gains_df[\"Expected Spending\"], labelBars=True)\n",
    "plt.show()"
   ]
  },
  {
   "cell_type": "markdown",
   "metadata": {},
   "source": [
    "Selecting the top 20% of observations based on model probability, this selection contains 2.1x higher % target class cases compared to a random selection"
   ]
  },
  {
   "cell_type": "markdown",
   "metadata": {},
   "source": [
    "### 4.6 Using this cumulative gains curve, estimate the gross profit that would result from mailing to the 180,000 names on the basis of your data mining models."
   ]
  },
  {
   "cell_type": "code",
   "execution_count": 34,
   "metadata": {},
   "outputs": [
    {
     "name": "stdout",
     "output_type": "stream",
     "text": [
      "Number of customers targeted from the 180,000 mailing list:  36000.0\n",
      "\n",
      "Total cost to mail for targeted customers: $ 72000.0\n",
      "\n",
      "Estimate gross profit that the firm could expect from the remaining 36,0000 names: $ 479505.8\n"
     ]
    },
    {
     "data": {
      "application/javascript": [
       "\n",
       "            setTimeout(function() {\n",
       "                var nbb_cell_id = 34;\n",
       "                var nbb_unformatted_code = \"# Expected average spending per customer\\navg_spending = Score_Analysis[\\\"Expected Spending\\\"].mean()\\n\\n# Number of Customers targeted among the 180,000\\n# Based on Gains Curve, We will target 20% of 180,0000\\nnumber_purchasers = 180000 * 0.2  \\n\\ntotal_spending = number_purchasers * avg_spending\\n\\n# Expected average profit per customer (with cost of mailing)\\ncost = 2 * number_purchasers\\navg_profit = total_spending - cost\\n\\nprint(\\\"Number of customers targeted from the 180,000 mailing list: \\\",\\n      number_purchasers)\\nprint(\\\"\\\\nTotal cost to mail for targeted customers: $\\\", cost)\\nprint(\\n    \\\"\\\\nEstimate gross profit that the firm could expect from the remaining 36,0000 names: $\\\",\\n    round(avg_profit, 2),\\n)\";\n",
       "                var nbb_formatted_code = \"# Expected average spending per customer\\navg_spending = Score_Analysis[\\\"Expected Spending\\\"].mean()\\n\\n# Number of Customers targeted among the 180,000\\n# Based on Gains Curve, We will target 20% of 180,0000\\nnumber_purchasers = 180000 * 0.2\\n\\ntotal_spending = number_purchasers * avg_spending\\n\\n# Expected average profit per customer (with cost of mailing)\\ncost = 2 * number_purchasers\\navg_profit = total_spending - cost\\n\\nprint(\\\"Number of customers targeted from the 180,000 mailing list: \\\", number_purchasers)\\nprint(\\\"\\\\nTotal cost to mail for targeted customers: $\\\", cost)\\nprint(\\n    \\\"\\\\nEstimate gross profit that the firm could expect from the remaining 36,0000 names: $\\\",\\n    round(avg_profit, 2),\\n)\";\n",
       "                var nbb_cells = Jupyter.notebook.get_cells();\n",
       "                for (var i = 0; i < nbb_cells.length; ++i) {\n",
       "                    if (nbb_cells[i].input_prompt_number == nbb_cell_id) {\n",
       "                        if (nbb_cells[i].get_text() == nbb_unformatted_code) {\n",
       "                             nbb_cells[i].set_text(nbb_formatted_code);\n",
       "                        }\n",
       "                        break;\n",
       "                    }\n",
       "                }\n",
       "            }, 500);\n",
       "            "
      ],
      "text/plain": [
       "<IPython.core.display.Javascript object>"
      ]
     },
     "metadata": {},
     "output_type": "display_data"
    }
   ],
   "source": [
    "# Expected average spending per customer\n",
    "avg_spending = Score_Analysis[\"Expected Spending\"].mean()\n",
    "\n",
    "# Number of Customers targeted among the 180,000\n",
    "# Based on Gains Curve, We will target 20% of 180,0000\n",
    "number_purchasers = 180000 * 0.2  \n",
    "\n",
    "total_spending = number_purchasers * avg_spending\n",
    "\n",
    "# Expected average profit per customer (with cost of mailing)\n",
    "cost = 2 * number_purchasers\n",
    "avg_profit = total_spending - cost\n",
    "\n",
    "print(\"Number of customers targeted from the 180,000 mailing list: \",\n",
    "      number_purchasers)\n",
    "print(\"\\nTotal cost to mail for targeted customers: $\", cost)\n",
    "print(\n",
    "    \"\\nEstimate gross profit that the firm could expect from the remaining 36,0000 names: $\",\n",
    "    round(avg_profit, 2),\n",
    ")\n"
   ]
  },
  {
   "cell_type": "markdown",
   "metadata": {},
   "source": [
    "* If we were to target 20% of the customers in the 180,000 mailing list, the expected gross profit would be about 480,000."
   ]
  },
  {
   "cell_type": "code",
   "execution_count": 35,
   "metadata": {},
   "outputs": [
    {
     "name": "stdout",
     "output_type": "stream",
     "text": [
      "Number of customers targeted from the 180,000 mailing list:  144000.0\n",
      "\n",
      "Total cost to mail for targeted customers: $ 288000.0\n",
      "\n",
      "Estimate gross profit that the firm could expect from the remaining 144,0000 names: $ 1918023.2\n"
     ]
    },
    {
     "data": {
      "application/javascript": [
       "\n",
       "            setTimeout(function() {\n",
       "                var nbb_cell_id = 35;\n",
       "                var nbb_unformatted_code = \"# Expected average spending per customer\\navg_spending = Score_Analysis[\\\"Expected Spending\\\"].mean()\\n\\n# Number of Customers targeted among the 180,000\\nnumber_purchasers = 180000 * 0.8  \\n# Based on Gains CurveWe will target 80% of 180,0000\\ntotal_spending = number_purchasers * avg_spending\\n\\n# Expected average profit per customer (with cost of mailing)\\ncost = 2 * number_purchasers\\navg_profit = total_spending - cost\\n\\nprint(\\\"Number of customers targeted from the 180,000 mailing list: \\\",\\n      number_purchasers)\\nprint(\\\"\\\\nTotal cost to mail for targeted customers: $\\\", cost)\\nprint(\\n    \\\"\\\\nEstimate gross profit that the firm could expect from the remaining 144,0000 names: $\\\",\\n    round(avg_profit, 2),\\n)\";\n",
       "                var nbb_formatted_code = \"# Expected average spending per customer\\navg_spending = Score_Analysis[\\\"Expected Spending\\\"].mean()\\n\\n# Number of Customers targeted among the 180,000\\nnumber_purchasers = 180000 * 0.8\\n# Based on Gains CurveWe will target 80% of 180,0000\\ntotal_spending = number_purchasers * avg_spending\\n\\n# Expected average profit per customer (with cost of mailing)\\ncost = 2 * number_purchasers\\navg_profit = total_spending - cost\\n\\nprint(\\\"Number of customers targeted from the 180,000 mailing list: \\\", number_purchasers)\\nprint(\\\"\\\\nTotal cost to mail for targeted customers: $\\\", cost)\\nprint(\\n    \\\"\\\\nEstimate gross profit that the firm could expect from the remaining 144,0000 names: $\\\",\\n    round(avg_profit, 2),\\n)\";\n",
       "                var nbb_cells = Jupyter.notebook.get_cells();\n",
       "                for (var i = 0; i < nbb_cells.length; ++i) {\n",
       "                    if (nbb_cells[i].input_prompt_number == nbb_cell_id) {\n",
       "                        if (nbb_cells[i].get_text() == nbb_unformatted_code) {\n",
       "                             nbb_cells[i].set_text(nbb_formatted_code);\n",
       "                        }\n",
       "                        break;\n",
       "                    }\n",
       "                }\n",
       "            }, 500);\n",
       "            "
      ],
      "text/plain": [
       "<IPython.core.display.Javascript object>"
      ]
     },
     "metadata": {},
     "output_type": "display_data"
    }
   ],
   "source": [
    "# Expected average spending per customer\n",
    "avg_spending = Score_Analysis[\"Expected Spending\"].mean()\n",
    "\n",
    "# Number of Customers targeted among the 180,000\n",
    "number_purchasers = 180000 * 0.8\n",
    "# Based on Gains CurveWe will target 80% of 180,0000\n",
    "total_spending = number_purchasers * avg_spending\n",
    "\n",
    "# Expected average profit per customer (with cost of mailing)\n",
    "cost = 2 * number_purchasers\n",
    "avg_profit = total_spending - cost\n",
    "\n",
    "print(\"Number of customers targeted from the 180,000 mailing list: \", number_purchasers)\n",
    "print(\"\\nTotal cost to mail for targeted customers: $\", cost)\n",
    "print(\n",
    "    \"\\nEstimate gross profit that the firm could expect from the remaining 144,0000 names: $\",\n",
    "    round(avg_profit, 2),\n",
    ")"
   ]
  },
  {
   "cell_type": "markdown",
   "metadata": {},
   "source": [
    "* If we were to target 80% of the customers in the 180,000 mailing list, the expected gross profit would be about 1.92 million.\n"
   ]
  },
  {
   "cell_type": "markdown",
   "metadata": {},
   "source": [
    "## 5. Briefly explain, in two to three paragraphs, the business objective, the data mining models used, why they were used, the model results, and your recommendations to your non-technical stakeholder team."
   ]
  },
  {
   "cell_type": "markdown",
   "metadata": {},
   "source": [
    "\n",
    "Tayko, a software catalog firm, mails out catalogs to their mailing list in an attempt to expand its customer base. Data mining techniques were used to select the names that have the best chance of performing well instead of randomly selecting or sending all customers a catalog. To achieve this, Tayko has supplied its customer list of 200,000 names to the pool in order to implement a predictive model to choose the best candidates from the mailing list. "
   ]
  },
  {
   "cell_type": "markdown",
   "metadata": {},
   "source": [
    "20,000 of the 200,000 names were used as a sample. Among that sample, a stratified sample 1000 purchasers and 1000 non purchasers were selected to optimize the performance of the data mining techniques. Therefore, the predictive model will adjust the true probability of purchase of the 20,000 samples. Logistic regression with L2 penalty was used to predict purchasers and probability of purchasers. To reduce the predictors, near zero coefficients were removed to avoid model overfitting. In addition, multiple linear regression and regression trees were implemented to predict spending for each customer. For linear regression, stepwise regression was used to reduce the predictors for modeling. Moreover, two regression tree models were used: decision tree and random forest. The tuned random forest regressor yielded the best results among all predictive spending models."
   ]
  },
  {
   "cell_type": "markdown",
   "metadata": {},
   "source": [
    "As it stands, the gross profit of sending out catalogs is around 1.6 million if the firm randomly selected from the pool from the remaining 180,000 names. From the data mining techniques, a cumulative gains chart of the expected spending was created for the test set. Based on the gains curve, we could expect near 100 percent of the target class by selecting the top 80 percent of cases. Therefore, 144,000 names will be targeted among the 180,000 names in the pool. By doing so, the cost of mailing the catalogs is reduced from 360,000 to 288,000. Moreover, the firm can estimate a gross profit of 1.92 million using the predictive model, which is an increase of 300,000 from randomly selecting names. "
   ]
  }
 ],
 "metadata": {
  "kernelspec": {
   "display_name": "Python 3",
   "language": "python",
   "name": "python3"
  },
  "language_info": {
   "codemirror_mode": {
    "name": "ipython",
    "version": 3
   },
   "file_extension": ".py",
   "mimetype": "text/x-python",
   "name": "python",
   "nbconvert_exporter": "python",
   "pygments_lexer": "ipython3",
   "version": "3.8.5"
  }
 },
 "nbformat": 4,
 "nbformat_minor": 4
}
